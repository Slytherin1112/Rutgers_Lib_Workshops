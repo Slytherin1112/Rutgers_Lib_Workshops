{
 "cells": [
  {
   "cell_type": "markdown",
   "metadata": {},
   "source": [
    "# Data Mining: Regression and Classification\n",
    "\n",
    "\n",
    "API is the abbreviation application program interface. In general, API is a set of routines, protocols, and tools defining how the client should interact with the software component. It is ubiquitous in every aspect of computer programs from operating system to database to web services. A good API makes it easier to develop a computer program by providing all the building blocks, which are then put together by the programmer.\n",
    "\n",
    "\n",
    "## Contents:\n",
    "* [Google Map API](#googlemap)\n",
    "* [Crypto Currency API](#Crypto)\n",
    "    * [Coinbase](#Coinbase)\n",
    "        * [REST API](#rest)\n",
    "        * [Websocket](#websocket)    \n",
    "    * [Bitstamps](#bitstamps)\n",
    "        * [Pusher Websocket](#pusher)\n",
    "* [Finance API](#quandl)\n",
    "    * [WebReader](#webreader)\n",
    "    * [Quandl](#quandl)\n",
    "* [Macro Economics API](#macro)\n",
    "    * [FRED](#fred)\n",
    "* [Case Study: Concat Historical GDP data and GDP from FRED](#case)    "
   ]
  },
  {
   "cell_type": "markdown",
   "metadata": {
    "collapsed": true
   },
   "source": [
    "## Google Map： Geocode API <a name=\"googlemap\"></a>"
   ]
  },
  {
   "cell_type": "code",
   "execution_count": 4,
   "metadata": {},
   "outputs": [],
   "source": [
    "import numpy as np\n",
    "import pandas as pd\n",
    "cars = pd.read_csv(\"cars.csv\")"
   ]
  },
  {
   "cell_type": "code",
   "execution_count": 5,
   "metadata": {},
   "outputs": [
    {
     "data": {
      "text/html": [
       "<div>\n",
       "<style scoped>\n",
       "    .dataframe tbody tr th:only-of-type {\n",
       "        vertical-align: middle;\n",
       "    }\n",
       "\n",
       "    .dataframe tbody tr th {\n",
       "        vertical-align: top;\n",
       "    }\n",
       "\n",
       "    .dataframe thead th {\n",
       "        text-align: right;\n",
       "    }\n",
       "</style>\n",
       "<table border=\"1\" class=\"dataframe\">\n",
       "  <thead>\n",
       "    <tr style=\"text-align: right;\">\n",
       "      <th></th>\n",
       "      <th>mpg</th>\n",
       "      <th>cylinders</th>\n",
       "      <th>displ</th>\n",
       "      <th>hp</th>\n",
       "      <th>weight</th>\n",
       "      <th>acc</th>\n",
       "      <th>year</th>\n",
       "      <th>origin</th>\n",
       "      <th>name</th>\n",
       "    </tr>\n",
       "  </thead>\n",
       "  <tbody>\n",
       "    <tr>\n",
       "      <th>0</th>\n",
       "      <td>18.0</td>\n",
       "      <td>8</td>\n",
       "      <td>307.0</td>\n",
       "      <td>130.0</td>\n",
       "      <td>3504</td>\n",
       "      <td>12.0</td>\n",
       "      <td>70</td>\n",
       "      <td>1</td>\n",
       "      <td>chevrolet chevelle malibu</td>\n",
       "    </tr>\n",
       "    <tr>\n",
       "      <th>1</th>\n",
       "      <td>15.0</td>\n",
       "      <td>8</td>\n",
       "      <td>350.0</td>\n",
       "      <td>165.0</td>\n",
       "      <td>3693</td>\n",
       "      <td>11.5</td>\n",
       "      <td>70</td>\n",
       "      <td>1</td>\n",
       "      <td>buick skylark 320</td>\n",
       "    </tr>\n",
       "    <tr>\n",
       "      <th>2</th>\n",
       "      <td>18.0</td>\n",
       "      <td>8</td>\n",
       "      <td>318.0</td>\n",
       "      <td>150.0</td>\n",
       "      <td>3436</td>\n",
       "      <td>11.0</td>\n",
       "      <td>70</td>\n",
       "      <td>1</td>\n",
       "      <td>plymouth satellite</td>\n",
       "    </tr>\n",
       "    <tr>\n",
       "      <th>3</th>\n",
       "      <td>16.0</td>\n",
       "      <td>8</td>\n",
       "      <td>304.0</td>\n",
       "      <td>150.0</td>\n",
       "      <td>3433</td>\n",
       "      <td>12.0</td>\n",
       "      <td>70</td>\n",
       "      <td>1</td>\n",
       "      <td>amc rebel sst</td>\n",
       "    </tr>\n",
       "    <tr>\n",
       "      <th>4</th>\n",
       "      <td>17.0</td>\n",
       "      <td>8</td>\n",
       "      <td>302.0</td>\n",
       "      <td>140.0</td>\n",
       "      <td>3449</td>\n",
       "      <td>10.5</td>\n",
       "      <td>70</td>\n",
       "      <td>1</td>\n",
       "      <td>ford torino</td>\n",
       "    </tr>\n",
       "  </tbody>\n",
       "</table>\n",
       "</div>"
      ],
      "text/plain": [
       "    mpg  cylinders  displ     hp  weight   acc  year  origin  \\\n",
       "0  18.0          8  307.0  130.0    3504  12.0    70       1   \n",
       "1  15.0          8  350.0  165.0    3693  11.5    70       1   \n",
       "2  18.0          8  318.0  150.0    3436  11.0    70       1   \n",
       "3  16.0          8  304.0  150.0    3433  12.0    70       1   \n",
       "4  17.0          8  302.0  140.0    3449  10.5    70       1   \n",
       "\n",
       "                        name  \n",
       "0  chevrolet chevelle malibu  \n",
       "1          buick skylark 320  \n",
       "2         plymouth satellite  \n",
       "3              amc rebel sst  \n",
       "4                ford torino  "
      ]
     },
     "execution_count": 5,
     "metadata": {},
     "output_type": "execute_result"
    }
   ],
   "source": [
    "cars.head(5)"
   ]
  },
  {
   "cell_type": "code",
   "execution_count": null,
   "metadata": {},
   "outputs": [],
   "source": [
    "Y = "
   ]
  },
  {
   "cell_type": "markdown",
   "metadata": {},
   "source": [
    "## Crypto Currency API <a name=\"Crypto\"></a>"
   ]
  },
  {
   "cell_type": "markdown",
   "metadata": {},
   "source": [
    "### Coinbase<a name=\"Coinbase\"></a>"
   ]
  },
  {
   "cell_type": "markdown",
   "metadata": {},
   "source": [
    "### REST API <a name=\"rest\"></a>\n",
    "\n",
    "The Representational State Transfer (REST) is a software architectural style that defines a set of constraints to be used for creating web services. It is defined by Roy Fielding in his 2000 PhD dissertation \"Architectural Styles and the Design of Network-based Software Architectures\" at UC Irvine. \n",
    "\n",
    "RESTful web services allow the requesting systems to access and manipulate textual representations of web resources by using a uniform and predefined set of stateless operations.  In a RESTful web service, requests made to a resource's URI will elicit a response with a payload formatted in either HTML, XML, JSON, or some other format. The response can confirm that some alteration has been made to the stored resource, and the response can provide hypertext links to other related resources or collections of resources. When HTTP is used, as is most common, the operations available are GET, POST, PUT, DELETE, and other predefined CRUD HTTP methods.\n"
   ]
  },
  {
   "cell_type": "code",
   "execution_count": 55,
   "metadata": {},
   "outputs": [],
   "source": [
    "import cbpro"
   ]
  },
  {
   "cell_type": "code",
   "execution_count": 57,
   "metadata": {},
   "outputs": [],
   "source": [
    "public_client = cbpro.PublicClient()"
   ]
  },
  {
   "cell_type": "code",
   "execution_count": 58,
   "metadata": {},
   "outputs": [
    {
     "data": {
      "text/plain": [
       "[{'id': 'BTC-USDC',\n",
       "  'base_currency': 'BTC',\n",
       "  'quote_currency': 'USDC',\n",
       "  'base_min_size': '0.001',\n",
       "  'base_max_size': '70',\n",
       "  'quote_increment': '0.01',\n",
       "  'display_name': 'BTC/USDC',\n",
       "  'status': 'online',\n",
       "  'margin_enabled': False,\n",
       "  'status_message': '',\n",
       "  'min_market_funds': '10',\n",
       "  'max_market_funds': '1000000',\n",
       "  'post_only': False,\n",
       "  'limit_only': False,\n",
       "  'cancel_only': False,\n",
       "  'accessible': True},\n",
       " {'id': 'ETH-USDC',\n",
       "  'base_currency': 'ETH',\n",
       "  'quote_currency': 'USDC',\n",
       "  'base_min_size': '0.01',\n",
       "  'base_max_size': '700',\n",
       "  'quote_increment': '0.01',\n",
       "  'display_name': 'ETH/USDC',\n",
       "  'status': 'online',\n",
       "  'margin_enabled': False,\n",
       "  'status_message': '',\n",
       "  'min_market_funds': '10',\n",
       "  'max_market_funds': '1000000',\n",
       "  'post_only': False,\n",
       "  'limit_only': False,\n",
       "  'cancel_only': False,\n",
       "  'accessible': True},\n",
       " {'id': 'ETC-EUR',\n",
       "  'base_currency': 'ETC',\n",
       "  'quote_currency': 'EUR',\n",
       "  'base_min_size': '0.1',\n",
       "  'base_max_size': '5000',\n",
       "  'quote_increment': '0.01',\n",
       "  'display_name': 'ETC/EUR',\n",
       "  'status': 'online',\n",
       "  'margin_enabled': False,\n",
       "  'status_message': '',\n",
       "  'min_market_funds': '10',\n",
       "  'max_market_funds': '100000',\n",
       "  'post_only': False,\n",
       "  'limit_only': False,\n",
       "  'cancel_only': False,\n",
       "  'accessible': False},\n",
       " {'id': 'BTC-USD',\n",
       "  'base_currency': 'BTC',\n",
       "  'quote_currency': 'USD',\n",
       "  'base_min_size': '0.001',\n",
       "  'base_max_size': '70',\n",
       "  'quote_increment': '0.01',\n",
       "  'display_name': 'BTC/USD',\n",
       "  'status': 'online',\n",
       "  'margin_enabled': False,\n",
       "  'status_message': None,\n",
       "  'min_market_funds': '10',\n",
       "  'max_market_funds': '1000000',\n",
       "  'post_only': False,\n",
       "  'limit_only': False,\n",
       "  'cancel_only': False,\n",
       "  'accessible': True},\n",
       " {'id': 'BCH-BTC',\n",
       "  'base_currency': 'BCH',\n",
       "  'quote_currency': 'BTC',\n",
       "  'base_min_size': '0.01',\n",
       "  'base_max_size': '200',\n",
       "  'quote_increment': '0.00001',\n",
       "  'display_name': 'BCH/BTC',\n",
       "  'status': 'online',\n",
       "  'margin_enabled': False,\n",
       "  'status_message': None,\n",
       "  'min_market_funds': '0.001',\n",
       "  'max_market_funds': '30',\n",
       "  'post_only': False,\n",
       "  'limit_only': False,\n",
       "  'cancel_only': False,\n",
       "  'accessible': True},\n",
       " {'id': 'BCH-USD',\n",
       "  'base_currency': 'BCH',\n",
       "  'quote_currency': 'USD',\n",
       "  'base_min_size': '0.01',\n",
       "  'base_max_size': '350',\n",
       "  'quote_increment': '0.01',\n",
       "  'display_name': 'BCH/USD',\n",
       "  'status': 'online',\n",
       "  'margin_enabled': False,\n",
       "  'status_message': None,\n",
       "  'min_market_funds': '10',\n",
       "  'max_market_funds': '1000000',\n",
       "  'post_only': False,\n",
       "  'limit_only': False,\n",
       "  'cancel_only': False,\n",
       "  'accessible': True},\n",
       " {'id': 'BTC-EUR',\n",
       "  'base_currency': 'BTC',\n",
       "  'quote_currency': 'EUR',\n",
       "  'base_min_size': '0.001',\n",
       "  'base_max_size': '50',\n",
       "  'quote_increment': '0.01',\n",
       "  'display_name': 'BTC/EUR',\n",
       "  'status': 'online',\n",
       "  'margin_enabled': False,\n",
       "  'status_message': None,\n",
       "  'min_market_funds': '10',\n",
       "  'max_market_funds': '600000',\n",
       "  'post_only': False,\n",
       "  'limit_only': False,\n",
       "  'cancel_only': False,\n",
       "  'accessible': False},\n",
       " {'id': 'BTC-GBP',\n",
       "  'base_currency': 'BTC',\n",
       "  'quote_currency': 'GBP',\n",
       "  'base_min_size': '0.001',\n",
       "  'base_max_size': '20',\n",
       "  'quote_increment': '0.01',\n",
       "  'display_name': 'BTC/GBP',\n",
       "  'status': 'online',\n",
       "  'margin_enabled': False,\n",
       "  'status_message': None,\n",
       "  'min_market_funds': '10',\n",
       "  'max_market_funds': '200000',\n",
       "  'post_only': False,\n",
       "  'limit_only': False,\n",
       "  'cancel_only': False,\n",
       "  'accessible': False},\n",
       " {'id': 'ETH-BTC',\n",
       "  'base_currency': 'ETH',\n",
       "  'quote_currency': 'BTC',\n",
       "  'base_min_size': '0.01',\n",
       "  'base_max_size': '600',\n",
       "  'quote_increment': '0.00001',\n",
       "  'display_name': 'ETH/BTC',\n",
       "  'status': 'online',\n",
       "  'margin_enabled': False,\n",
       "  'status_message': None,\n",
       "  'min_market_funds': '0.001',\n",
       "  'max_market_funds': '50',\n",
       "  'post_only': False,\n",
       "  'limit_only': False,\n",
       "  'cancel_only': False,\n",
       "  'accessible': True},\n",
       " {'id': 'ETH-EUR',\n",
       "  'base_currency': 'ETH',\n",
       "  'quote_currency': 'EUR',\n",
       "  'base_min_size': '0.01',\n",
       "  'base_max_size': '400',\n",
       "  'quote_increment': '0.01',\n",
       "  'display_name': 'ETH/EUR',\n",
       "  'status': 'online',\n",
       "  'margin_enabled': False,\n",
       "  'status_message': None,\n",
       "  'min_market_funds': '10',\n",
       "  'max_market_funds': '400000',\n",
       "  'post_only': False,\n",
       "  'limit_only': False,\n",
       "  'cancel_only': False,\n",
       "  'accessible': False},\n",
       " {'id': 'ETH-USD',\n",
       "  'base_currency': 'ETH',\n",
       "  'quote_currency': 'USD',\n",
       "  'base_min_size': '0.01',\n",
       "  'base_max_size': '700',\n",
       "  'quote_increment': '0.01',\n",
       "  'display_name': 'ETH/USD',\n",
       "  'status': 'online',\n",
       "  'margin_enabled': False,\n",
       "  'status_message': None,\n",
       "  'min_market_funds': '10',\n",
       "  'max_market_funds': '1000000',\n",
       "  'post_only': False,\n",
       "  'limit_only': False,\n",
       "  'cancel_only': False,\n",
       "  'accessible': True},\n",
       " {'id': 'LTC-BTC',\n",
       "  'base_currency': 'LTC',\n",
       "  'quote_currency': 'BTC',\n",
       "  'base_min_size': '0.1',\n",
       "  'base_max_size': '2000',\n",
       "  'quote_increment': '0.00001',\n",
       "  'display_name': 'LTC/BTC',\n",
       "  'status': 'online',\n",
       "  'margin_enabled': False,\n",
       "  'status_message': None,\n",
       "  'min_market_funds': '0.001',\n",
       "  'max_market_funds': '30',\n",
       "  'post_only': False,\n",
       "  'limit_only': False,\n",
       "  'cancel_only': False,\n",
       "  'accessible': True},\n",
       " {'id': 'LTC-EUR',\n",
       "  'base_currency': 'LTC',\n",
       "  'quote_currency': 'EUR',\n",
       "  'base_min_size': '0.1',\n",
       "  'base_max_size': '1000',\n",
       "  'quote_increment': '0.01',\n",
       "  'display_name': 'LTC/EUR',\n",
       "  'status': 'online',\n",
       "  'margin_enabled': False,\n",
       "  'status_message': None,\n",
       "  'min_market_funds': '10',\n",
       "  'max_market_funds': '200000',\n",
       "  'post_only': False,\n",
       "  'limit_only': False,\n",
       "  'cancel_only': False,\n",
       "  'accessible': False},\n",
       " {'id': 'LTC-USD',\n",
       "  'base_currency': 'LTC',\n",
       "  'quote_currency': 'USD',\n",
       "  'base_min_size': '0.1',\n",
       "  'base_max_size': '4000',\n",
       "  'quote_increment': '0.01',\n",
       "  'display_name': 'LTC/USD',\n",
       "  'status': 'online',\n",
       "  'margin_enabled': False,\n",
       "  'status_message': None,\n",
       "  'min_market_funds': '10',\n",
       "  'max_market_funds': '1000000',\n",
       "  'post_only': False,\n",
       "  'limit_only': False,\n",
       "  'cancel_only': False,\n",
       "  'accessible': True},\n",
       " {'id': 'BCH-EUR',\n",
       "  'base_currency': 'BCH',\n",
       "  'quote_currency': 'EUR',\n",
       "  'base_min_size': '0.01',\n",
       "  'base_max_size': '120',\n",
       "  'quote_increment': '0.01',\n",
       "  'display_name': 'BCH/EUR',\n",
       "  'status': 'online',\n",
       "  'margin_enabled': False,\n",
       "  'status_message': None,\n",
       "  'min_market_funds': '10',\n",
       "  'max_market_funds': '200000',\n",
       "  'post_only': False,\n",
       "  'limit_only': False,\n",
       "  'cancel_only': False,\n",
       "  'accessible': False},\n",
       " {'id': 'ETC-USD',\n",
       "  'base_currency': 'ETC',\n",
       "  'quote_currency': 'USD',\n",
       "  'base_min_size': '0.1',\n",
       "  'base_max_size': '5000',\n",
       "  'quote_increment': '0.01',\n",
       "  'display_name': 'ETC/USD',\n",
       "  'status': 'online',\n",
       "  'margin_enabled': False,\n",
       "  'status_message': '',\n",
       "  'min_market_funds': '10',\n",
       "  'max_market_funds': '100000',\n",
       "  'post_only': False,\n",
       "  'limit_only': False,\n",
       "  'cancel_only': False,\n",
       "  'accessible': True},\n",
       " {'id': 'ETC-BTC',\n",
       "  'base_currency': 'ETC',\n",
       "  'quote_currency': 'BTC',\n",
       "  'base_min_size': '0.1',\n",
       "  'base_max_size': '5000',\n",
       "  'quote_increment': '0.00001',\n",
       "  'display_name': 'ETC/BTC',\n",
       "  'status': 'online',\n",
       "  'margin_enabled': False,\n",
       "  'status_message': '',\n",
       "  'min_market_funds': '0.001',\n",
       "  'max_market_funds': '30',\n",
       "  'post_only': False,\n",
       "  'limit_only': False,\n",
       "  'cancel_only': False,\n",
       "  'accessible': True},\n",
       " {'id': 'ZRX-USD',\n",
       "  'base_currency': 'ZRX',\n",
       "  'quote_currency': 'USD',\n",
       "  'base_min_size': '1',\n",
       "  'base_max_size': '150000',\n",
       "  'quote_increment': '0.01',\n",
       "  'display_name': 'ZRX/USD',\n",
       "  'status': 'online',\n",
       "  'margin_enabled': False,\n",
       "  'status_message': '',\n",
       "  'min_market_funds': '10',\n",
       "  'max_market_funds': '100000',\n",
       "  'post_only': False,\n",
       "  'limit_only': False,\n",
       "  'cancel_only': False,\n",
       "  'accessible': True},\n",
       " {'id': 'ZRX-BTC',\n",
       "  'base_currency': 'ZRX',\n",
       "  'quote_currency': 'BTC',\n",
       "  'base_min_size': '1',\n",
       "  'base_max_size': '150000',\n",
       "  'quote_increment': '0.00000001',\n",
       "  'display_name': 'ZRX/BTC',\n",
       "  'status': 'online',\n",
       "  'margin_enabled': False,\n",
       "  'status_message': '',\n",
       "  'min_market_funds': '0.001',\n",
       "  'max_market_funds': '30',\n",
       "  'post_only': False,\n",
       "  'limit_only': False,\n",
       "  'cancel_only': False,\n",
       "  'accessible': True},\n",
       " {'id': 'ZRX-EUR',\n",
       "  'base_currency': 'ZRX',\n",
       "  'quote_currency': 'EUR',\n",
       "  'base_min_size': '1',\n",
       "  'base_max_size': '150000',\n",
       "  'quote_increment': '0.01',\n",
       "  'display_name': 'ZRX/EUR',\n",
       "  'status': 'online',\n",
       "  'margin_enabled': False,\n",
       "  'status_message': '',\n",
       "  'min_market_funds': '10',\n",
       "  'max_market_funds': '100000',\n",
       "  'post_only': False,\n",
       "  'limit_only': False,\n",
       "  'cancel_only': False,\n",
       "  'accessible': False},\n",
       " {'id': 'ETC-GBP',\n",
       "  'base_currency': 'ETC',\n",
       "  'quote_currency': 'GBP',\n",
       "  'base_min_size': '0.1',\n",
       "  'base_max_size': '5000',\n",
       "  'quote_increment': '0.01',\n",
       "  'display_name': 'ETC/GBP',\n",
       "  'status': 'online',\n",
       "  'margin_enabled': False,\n",
       "  'status_message': None,\n",
       "  'min_market_funds': '10',\n",
       "  'max_market_funds': '100000',\n",
       "  'post_only': False,\n",
       "  'limit_only': False,\n",
       "  'cancel_only': False,\n",
       "  'accessible': False},\n",
       " {'id': 'ETH-GBP',\n",
       "  'base_currency': 'ETH',\n",
       "  'quote_currency': 'GBP',\n",
       "  'base_min_size': '0.01',\n",
       "  'base_max_size': '350',\n",
       "  'quote_increment': '0.01',\n",
       "  'display_name': 'ETH/GBP',\n",
       "  'status': 'online',\n",
       "  'margin_enabled': False,\n",
       "  'status_message': None,\n",
       "  'min_market_funds': '10',\n",
       "  'max_market_funds': '1000000',\n",
       "  'post_only': False,\n",
       "  'limit_only': False,\n",
       "  'cancel_only': False,\n",
       "  'accessible': False},\n",
       " {'id': 'LTC-GBP',\n",
       "  'base_currency': 'LTC',\n",
       "  'quote_currency': 'GBP',\n",
       "  'base_min_size': '0.1',\n",
       "  'base_max_size': '1000',\n",
       "  'quote_increment': '0.01',\n",
       "  'display_name': 'LTC/GBP',\n",
       "  'status': 'online',\n",
       "  'margin_enabled': False,\n",
       "  'status_message': None,\n",
       "  'min_market_funds': '10',\n",
       "  'max_market_funds': '1000000',\n",
       "  'post_only': False,\n",
       "  'limit_only': False,\n",
       "  'cancel_only': False,\n",
       "  'accessible': False},\n",
       " {'id': 'BCH-GBP',\n",
       "  'base_currency': 'BCH',\n",
       "  'quote_currency': 'GBP',\n",
       "  'base_min_size': '0.01',\n",
       "  'base_max_size': '120',\n",
       "  'quote_increment': '0.01',\n",
       "  'display_name': 'BCH/GBP',\n",
       "  'status': 'online',\n",
       "  'margin_enabled': False,\n",
       "  'status_message': None,\n",
       "  'min_market_funds': '10',\n",
       "  'max_market_funds': '1000000',\n",
       "  'post_only': False,\n",
       "  'limit_only': False,\n",
       "  'cancel_only': False,\n",
       "  'accessible': False}]"
      ]
     },
     "execution_count": 58,
     "metadata": {},
     "output_type": "execute_result"
    }
   ],
   "source": [
    "public_client.get_products()"
   ]
  },
  {
   "cell_type": "code",
   "execution_count": 59,
   "metadata": {},
   "outputs": [
    {
     "data": {
      "text/plain": [
       "{'sequence': 7269766605,\n",
       " 'bids': [['6352.62', '13.6690814', 6]],\n",
       " 'asks': [['6352.63', '10.49239645', 6]]}"
      ]
     },
     "execution_count": 59,
     "metadata": {},
     "output_type": "execute_result"
    }
   ],
   "source": [
    "public_client.get_product_order_book('BTC-USD')"
   ]
  },
  {
   "cell_type": "code",
   "execution_count": 60,
   "metadata": {},
   "outputs": [
    {
     "data": {
      "text/plain": [
       "{'sequence': 7269767816,\n",
       " 'bids': [['6352.62', '5.7747746', 6]],\n",
       " 'asks': [['6352.63', '13.39312418', 6]]}"
      ]
     },
     "execution_count": 60,
     "metadata": {},
     "output_type": "execute_result"
    }
   ],
   "source": [
    "public_client.get_product_order_book('BTC-USD', level=1)"
   ]
  },
  {
   "cell_type": "code",
   "execution_count": 61,
   "metadata": {},
   "outputs": [
    {
     "data": {
      "text/plain": [
       "{'sequence': 7269768345,\n",
       " 'bids': [['6352.62', '5.74265396', 6],\n",
       "  ['6352.61', '0.0395', 1],\n",
       "  ['6352.5', '0.015', 1],\n",
       "  ['6352.47', '0.15741908', 1],\n",
       "  ['6352.27', '0.01', 1],\n",
       "  ['6352.18', '0.001', 1],\n",
       "  ['6352', '4.04229726', 3],\n",
       "  ['6351.92', '1.25', 2],\n",
       "  ['6350.53', '0.77710165', 1],\n",
       "  ['6350.13', '0.58308241', 1],\n",
       "  ['6350', '3.06289017', 8],\n",
       "  ['6349.62', '0.001', 1],\n",
       "  ['6349.47', '1', 1],\n",
       "  ['6349.33', '3', 1],\n",
       "  ['6349.3', '0.00768328', 1],\n",
       "  ['6349.28', '0.00768328', 1],\n",
       "  ['6349.24', '0.00768328', 1],\n",
       "  ['6349.17', '0.00768328', 1],\n",
       "  ['6349.16', '0.00768328', 1],\n",
       "  ['6349.01', '0.00768328', 1],\n",
       "  ['6349', '0.18092068', 3],\n",
       "  ['6348.92', '0.00768474', 1],\n",
       "  ['6348.91', '0.00768474', 1],\n",
       "  ['6348.89', '0.00768474', 1],\n",
       "  ['6348.88', '0.00768477', 1],\n",
       "  ['6348.84', '0.0015', 1],\n",
       "  ['6348.7', '0.3876848', 2],\n",
       "  ['6348.64', '0.02', 1],\n",
       "  ['6348.21', '0.02500099', 1],\n",
       "  ['6348.05', '1', 1],\n",
       "  ['6347.95', '3', 1],\n",
       "  ['6347.77', '0.4325', 1],\n",
       "  ['6347.69', '2', 1],\n",
       "  ['6347.28', '0.001', 1],\n",
       "  ['6346.83', '1', 1],\n",
       "  ['6346.66', '0.21884704', 1],\n",
       "  ['6346.65', '7.2', 2],\n",
       "  ['6346.62', '0.20245606', 1],\n",
       "  ['6346.25', '0.001', 1],\n",
       "  ['6346.1', '0.00102242', 1],\n",
       "  ['6346.08', '0.00478226', 1],\n",
       "  ['6346.05', '0.3', 1],\n",
       "  ['6345.69', '0.025', 1],\n",
       "  ['6345.67', '0.0015', 1],\n",
       "  ['6345.55', '1', 1],\n",
       "  ['6345.53', '0.025', 1],\n",
       "  ['6345.52', '0.001', 1],\n",
       "  ['6345.51', '0.47593', 1],\n",
       "  ['6345.5', '12.68410685', 1],\n",
       "  ['6345.22', '0.002', 1]],\n",
       " 'asks': [['6352.63', '16.29015533', 8],\n",
       "  ['6353.03', '4.331', 1],\n",
       "  ['6353.08', '0.001', 1],\n",
       "  ['6353.23', '0.11997506', 1],\n",
       "  ['6353.36', '0.001', 1],\n",
       "  ['6353.75', '1', 1],\n",
       "  ['6353.99', '1', 1],\n",
       "  ['6354', '0.35821311', 2],\n",
       "  ['6354.01', '0.00118742', 1],\n",
       "  ['6354.03', '4.98921454', 1],\n",
       "  ['6354.3', '0.0101', 1],\n",
       "  ['6354.42', '0.2999', 1],\n",
       "  ['6354.48', '0.15736929', 1],\n",
       "  ['6354.58', '1', 1],\n",
       "  ['6354.59', '1.03428', 1],\n",
       "  ['6354.74', '0.15', 1],\n",
       "  ['6354.79', '3', 1],\n",
       "  ['6355', '1.61576551', 2],\n",
       "  ['6355.1', '0.93838322', 1],\n",
       "  ['6355.19', '0.0015', 1],\n",
       "  ['6355.67', '0.01', 1],\n",
       "  ['6355.68', '1', 1],\n",
       "  ['6355.74', '2', 1],\n",
       "  ['6355.89', '0.001', 1],\n",
       "  ['6357.3', '0.006', 1],\n",
       "  ['6357.38', '0.9999', 1],\n",
       "  ['6357.9', '1', 1],\n",
       "  ['6358', '0.01', 1],\n",
       "  ['6358.37', '0.0015', 1],\n",
       "  ['6358.41', '0.04', 2],\n",
       "  ['6358.57', '0.0015', 1],\n",
       "  ['6358.63', '0.2196217', 1],\n",
       "  ['6359.04', '0.751', 2],\n",
       "  ['6359.59', '0.95587713', 3],\n",
       "  ['6359.97', '0.00810794', 2],\n",
       "  ['6359.98', '0.94728514', 2],\n",
       "  ['6359.99', '0.0109', 1],\n",
       "  ['6360', '99.90777629', 10],\n",
       "  ['6360.02', '0.001', 1],\n",
       "  ['6360.38', '0.0116', 1],\n",
       "  ['6360.46', '2', 1],\n",
       "  ['6360.49', '5', 1],\n",
       "  ['6360.5', '9.94286614', 1],\n",
       "  ['6360.76', '0.1307', 1],\n",
       "  ['6360.96', '1', 1],\n",
       "  ['6361.08', '0.15', 1],\n",
       "  ['6361.5', '2.90790468', 1],\n",
       "  ['6361.55', '0.0015', 1],\n",
       "  ['6361.94', '0.001', 1],\n",
       "  ['6362.04', '0.001', 1]]}"
      ]
     },
     "execution_count": 61,
     "metadata": {},
     "output_type": "execute_result"
    }
   ],
   "source": [
    "public_client.get_product_order_book('BTC-USD', level=2) #50"
   ]
  },
  {
   "cell_type": "code",
   "execution_count": 62,
   "metadata": {},
   "outputs": [
    {
     "data": {
      "text/plain": [
       "{'trade_id': 41522311,\n",
       " 'price': '199.89000000',\n",
       " 'size': '1.89000000',\n",
       " 'bid': '199.88',\n",
       " 'ask': '199.89',\n",
       " 'volume': '45288.45426901',\n",
       " 'time': '2018-11-02T18:39:03.964000Z'}"
      ]
     },
     "execution_count": 62,
     "metadata": {},
     "output_type": "execute_result"
    }
   ],
   "source": [
    "public_client.get_product_ticker(product_id='ETH-USD')"
   ]
  },
  {
   "cell_type": "code",
   "execution_count": 64,
   "metadata": {},
   "outputs": [
    {
     "data": {
      "text/plain": [
       "<generator object PublicClient._send_paginated_message at 0x11d858b48>"
      ]
     },
     "execution_count": 64,
     "metadata": {},
     "output_type": "execute_result"
    }
   ],
   "source": [
    "public_client.get_product_trades(product_id='ETH-USD')"
   ]
  },
  {
   "cell_type": "code",
   "execution_count": 63,
   "metadata": {},
   "outputs": [
    {
     "data": {
      "text/plain": [
       "[[1541183940, 199.86, 199.89, 199.86, 199.89, 3],\n",
       " [1541183880, 199.85, 199.86, 199.86, 199.85, 4.81],\n",
       " [1541183820, 199.84, 199.85, 199.85, 199.85, 29.6],\n",
       " [1541183760, 199.78, 199.85, 199.85, 199.85, 56.72],\n",
       " [1541183700, 199.78, 199.85, 199.79, 199.85, 7.03],\n",
       " [1541183640, 199.72, 199.85, 199.72, 199.79, 13.75],\n",
       " [1541183580, 199.62, 199.77, 199.71, 199.62, 104.76],\n",
       " [1541183520, 199.7, 199.71, 199.7, 199.71, 21.47],\n",
       " [1541183460, 199.7, 199.71, 199.7, 199.71, 9.96],\n",
       " [1541183400, 199.7, 199.71, 199.71, 199.7, 4.03],\n",
       " [1541183340, 199.7, 199.71, 199.7, 199.71, 0.782],\n",
       " [1541183280, 199.7, 199.71, 199.71, 199.71, 74.17],\n",
       " [1541183220, 199.7, 199.71, 199.71, 199.71, 4.48],\n",
       " [1541183160, 199.68, 199.71, 199.68, 199.7, 14.4],\n",
       " [1541183100, 199.67, 199.7, 199.7, 199.68, 151.66],\n",
       " [1541183040, 199.71, 199.71, 199.71, 199.71, 15.78],\n",
       " [1541182980, 199.7, 199.71, 199.7, 199.71, 10.71],\n",
       " [1541182920, 199.7, 199.71, 199.71, 199.71, 23.9],\n",
       " [1541182860, 199.7, 199.71, 199.7, 199.71, 2.2],\n",
       " [1541182800, 199.7, 199.72, 199.72, 199.7, 5.47],\n",
       " [1541182740, 199.71, 199.72, 199.71, 199.71, 5.33],\n",
       " [1541182680, 199.7, 199.72, 199.71, 199.72, 10.37],\n",
       " [1541182620, 199.71, 199.72, 199.72, 199.71, 19.94],\n",
       " [1541182560, 199.7, 199.72, 199.72, 199.71, 7.4],\n",
       " [1541182500, 199.71, 199.75, 199.72, 199.71, 12.81],\n",
       " [1541182440, 199.66, 199.76, 199.71, 199.72, 26.21],\n",
       " [1541182380, 199.7, 199.76, 199.76, 199.71, 18.85],\n",
       " [1541182320, 199.65, 199.77, 199.65, 199.77, 0.909],\n",
       " [1541182260, 199.64, 199.79, 199.79, 199.64, 34.76],\n",
       " [1541182200, 199.79, 199.82, 199.82, 199.79, 9.77],\n",
       " [1541182140, 199.81, 199.96, 199.96, 199.81, 11.01],\n",
       " [1541182080, 199.95, 199.96, 199.96, 199.96, 6.23],\n",
       " [1541182020, 199.95, 199.96, 199.96, 199.96, 2.58],\n",
       " [1541181960, 199.95, 199.96, 199.96, 199.96, 14.58],\n",
       " [1541181900, 199.88, 199.96, 199.95, 199.96, 17.79],\n",
       " [1541181840, 199.77, 200, 199.77, 200, 28.37],\n",
       " [1541181780, 199.76, 199.85, 199.85, 199.77, 19.4],\n",
       " [1541181720, 199.7, 199.85, 199.7, 199.85, 0.653],\n",
       " [1541181660, 199.52, 199.71, 199.52, 199.62, 8.83],\n",
       " [1541181600, 199.52, 199.86, 199.57, 199.52, 127.46],\n",
       " [1541181540, 199.55, 199.62, 199.61, 199.55, 13.75],\n",
       " [1541181480, 199.6, 199.67, 199.67, 199.61, 6.94],\n",
       " [1541181420, 199.66, 199.7, 199.7, 199.67, 1.17],\n",
       " [1541181360, 199.67, 199.82, 199.74, 199.68, 6.51],\n",
       " [1541181300, 199.67, 199.78, 199.74, 199.73, 8.38],\n",
       " [1541181240, 199.66, 199.84, 199.67, 199.74, 107.24],\n",
       " [1541181180, 199.66, 199.67, 199.67, 199.66, 10.93],\n",
       " [1541181120, 199.66, 199.67, 199.66, 199.66, 8.58],\n",
       " [1541181060, 199.65, 199.67, 199.67, 199.67, 55.87],\n",
       " [1541181000, 199.64, 199.66, 199.65, 199.66, 1.9],\n",
       " [1541180940, 199.65, 199.67, 199.67, 199.66, 54.31],\n",
       " [1541180880, 199.67, 199.67, 199.67, 199.67, 2.83],\n",
       " [1541180820, 199.66, 199.82, 199.82, 199.67, 154.78],\n",
       " [1541180760, 199.8, 199.86, 199.81, 199.86, 169.58],\n",
       " [1541180700, 199.8, 199.86, 199.86, 199.81, 56],\n",
       " [1541180640, 199.85, 200.03, 200.03, 199.85, 156.65],\n",
       " [1541180580, 200.02, 200.16, 200.16, 200.03, 89.38],\n",
       " [1541180520, 200.15, 200.26, 200.26, 200.16, 10.14],\n",
       " [1541180460, 200.25, 200.26, 200.25, 200.26, 2.03],\n",
       " [1541180400, 200.2, 200.28, 200.2, 200.26, 1.3],\n",
       " [1541180340, 200.18, 200.32, 200.32, 200.29, 36.38],\n",
       " [1541180280, 200.28, 200.37, 200.29, 200.37, 61.45],\n",
       " [1541180220, 200.28, 200.3, 200.29, 200.28, 5.84],\n",
       " [1541180160, 200.28, 200.36, 200.36, 200.31, 76.35],\n",
       " [1541180100, 200.31, 200.44, 200.31, 200.36, 3.17],\n",
       " [1541180040, 200.28, 200.31, 200.29, 200.31, 70.16],\n",
       " [1541179980, 200.29, 200.3, 200.3, 200.29, 9.19],\n",
       " [1541179920, 200.23, 200.3, 200.23, 200.3, 117.9],\n",
       " [1541179860, 200.15, 200.24, 200.16, 200.24, 23.44],\n",
       " [1541179800, 200.15, 200.16, 200.16, 200.16, 8.73],\n",
       " [1541179740, 200.15, 200.16, 200.16, 200.16, 29.85],\n",
       " [1541179680, 200.1, 200.16, 200.1, 200.16, 196.98],\n",
       " [1541179620, 199.99, 200.11, 199.99, 200.11, 69.09],\n",
       " [1541179560, 199.97, 200, 199.97, 199.99, 27.95],\n",
       " [1541179500, 199.79, 199.97, 199.8, 199.97, 54.14],\n",
       " [1541179440, 199.77, 199.8, 199.77, 199.79, 13.46],\n",
       " [1541179380, 199.7, 199.8, 199.7, 199.8, 20.77],\n",
       " [1541179320, 199.59, 199.79, 199.75, 199.7, 129.67],\n",
       " [1541179260, 199.74, 199.75, 199.75, 199.74, 6.13],\n",
       " [1541179200, 199.64, 199.79, 199.79, 199.75, 65.27],\n",
       " [1541179140, 199.75, 199.8, 199.75, 199.79, 61.99],\n",
       " [1541179080, 199.74, 199.75, 199.75, 199.74, 57.58],\n",
       " [1541179020, 199.73, 199.75, 199.74, 199.74, 17.43],\n",
       " [1541178960, 199.73, 199.74, 199.74, 199.73, 8.11],\n",
       " [1541178900, 199.73, 199.74, 199.74, 199.73, 12.58],\n",
       " [1541178840, 199.73, 199.74, 199.74, 199.74, 6.53],\n",
       " [1541178780, 199.71, 199.75, 199.71, 199.74, 15.15],\n",
       " [1541178720, 199.65, 199.73, 199.65, 199.73, 13.81],\n",
       " [1541178660, 199.65, 199.65, 199.65, 199.65, 1.51],\n",
       " [1541178600, 199.65, 199.65, 199.65, 199.65, 4.53],\n",
       " [1541178540, 199.64, 199.65, 199.64, 199.65, 7],\n",
       " [1541178480, 199.64, 199.65, 199.65, 199.64, 16.64],\n",
       " [1541178420, 199.62, 199.65, 199.64, 199.65, 20.16],\n",
       " [1541178360, 199.64, 199.65, 199.65, 199.65, 10.6],\n",
       " [1541178300, 199.59, 199.65, 199.64, 199.65, 5.54],\n",
       " [1541178240, 199.6, 199.65, 199.6, 199.65, 33],\n",
       " [1541178180, 199.57, 199.65, 199.62, 199.57, 12.4],\n",
       " [1541178120, 199.57, 199.65, 199.58, 199.59, 109.28],\n",
       " [1541178060, 199.57, 199.58, 199.58, 199.57, 18.9],\n",
       " [1541178000, 199.57, 199.58, 199.57, 199.58, 12.12],\n",
       " [1541177940, 199.57, 199.58, 199.58, 199.58, 0.455],\n",
       " [1541177880, 199.57, 199.63, 199.62, 199.57, 27.18],\n",
       " [1541177820, 199.62, 199.63, 199.63, 199.63, 6.33],\n",
       " [1541177760, 199.62, 199.63, 199.63, 199.63, 2.54],\n",
       " [1541177700, 199.62, 199.63, 199.63, 199.62, 9.16],\n",
       " [1541177640, 199.63, 199.63, 199.63, 199.63, 4.75],\n",
       " [1541177580, 199.62, 199.63, 199.63, 199.63, 5.7],\n",
       " [1541177520, 199.63, 199.63, 199.63, 199.63, 3.86],\n",
       " [1541177460, 199.62, 199.63, 199.62, 199.62, 8.05],\n",
       " [1541177400, 199.53, 199.65, 199.65, 199.62, 59.93],\n",
       " [1541177340, 199.64, 199.65, 199.65, 199.65, 12.79],\n",
       " [1541177280, 199.6, 199.71, 199.71, 199.66, 95.21],\n",
       " [1541177220, 199.71, 199.72, 199.71, 199.71, 29.87],\n",
       " [1541177160, 199.71, 199.77, 199.77, 199.71, 24.84],\n",
       " [1541177100, 199.76, 199.78, 199.78, 199.76, 18.43],\n",
       " [1541177040, 199.76, 199.81, 199.81, 199.76, 15.51],\n",
       " [1541176980, 199.77, 199.82, 199.82, 199.81, 13.75],\n",
       " [1541176920, 199.76, 199.83, 199.77, 199.83, 13.42],\n",
       " [1541176860, 199.61, 199.77, 199.62, 199.76, 184.93],\n",
       " [1541176800, 199.53, 199.8, 199.79, 199.59, 569.62],\n",
       " [1541176740, 199.79, 199.91, 199.9, 199.8, 146.19],\n",
       " [1541176680, 199.9, 200, 200, 199.9, 6.24],\n",
       " [1541176620, 199.86, 200.13, 200.12, 200, 200.54],\n",
       " [1541176560, 200.13, 200.13, 200.13, 200.13, 8],\n",
       " [1541176500, 200.12, 200.13, 200.13, 200.13, 15.76],\n",
       " [1541176440, 200.12, 200.13, 200.12, 200.13, 4.83],\n",
       " [1541176380, 200, 200.14, 200.14, 200.12, 20.93],\n",
       " [1541176320, 200.13, 200.16, 200.14, 200.13, 19.32],\n",
       " [1541176260, 200.01, 200.19, 200.14, 200.1, 119.02],\n",
       " [1541176200, 200.03, 200.21, 200.2, 200.16, 20.33],\n",
       " [1541176140, 200.2, 200.21, 200.2, 200.21, 21.47],\n",
       " [1541176080, 200.2, 200.24, 200.24, 200.21, 4.71],\n",
       " [1541176020, 200.23, 200.46, 200.45, 200.23, 209.89],\n",
       " [1541175960, 200.45, 200.46, 200.46, 200.46, 12.09],\n",
       " [1541175900, 200.46, 200.46, 200.46, 200.46, 3.61],\n",
       " [1541175840, 200.45, 200.46, 200.46, 200.46, 2.95],\n",
       " [1541175780, 200.45, 200.5, 200.5, 200.45, 61.85],\n",
       " [1541175720, 200.5, 200.7, 200.7, 200.51, 37.47],\n",
       " [1541175660, 200.69, 200.7, 200.7, 200.7, 6.44],\n",
       " [1541175600, 200.69, 200.7, 200.69, 200.7, 6.13],\n",
       " [1541175540, 200.69, 200.7, 200.69, 200.7, 106.7],\n",
       " [1541175480, 200.69, 200.7, 200.7, 200.69, 6.2],\n",
       " [1541175420, 200.69, 200.76, 200.76, 200.69, 16.94],\n",
       " [1541175360, 200.7, 200.79, 200.7, 200.76, 9.15],\n",
       " [1541175300, 200.69, 200.86, 200.86, 200.69, 22.88],\n",
       " [1541175240, 200.7, 200.88, 200.7, 200.86, 122.66],\n",
       " [1541175180, 200.63, 200.7, 200.63, 200.69, 8.33],\n",
       " [1541175120, 200.59, 200.63, 200.59, 200.63, 8.74],\n",
       " [1541175060, 200.54, 200.6, 200.55, 200.6, 15.39],\n",
       " [1541175000, 200.52, 200.55, 200.53, 200.55, 13.77],\n",
       " [1541174940, 200.51, 200.53, 200.52, 200.52, 3.98],\n",
       " [1541174880, 200.38, 200.52, 200.38, 200.52, 14.04],\n",
       " [1541174820, 200.37, 200.38, 200.38, 200.37, 43.18],\n",
       " [1541174760, 200.37, 200.38, 200.38, 200.38, 16.14],\n",
       " [1541174700, 200.34, 200.46, 200.34, 200.38, 16.5],\n",
       " [1541174640, 200.32, 200.35, 200.33, 200.33, 15.21],\n",
       " [1541174580, 200.22, 200.36, 200.36, 200.28, 30.84],\n",
       " [1541174520, 200.1, 200.36, 200.1, 200.36, 270.06],\n",
       " [1541174460, 200.1, 200.11, 200.11, 200.11, 11.25],\n",
       " [1541174400, 200.09, 200.13, 200.13, 200.1, 104.08],\n",
       " [1541174340, 200.09, 200.14, 200.09, 200.14, 15.8],\n",
       " [1541174280, 200.08, 200.09, 200.09, 200.09, 12.27],\n",
       " [1541174220, 200.08, 200.09, 200.09, 200.08, 4.29],\n",
       " [1541174160, 200.08, 200.09, 200.09, 200.08, 6.57],\n",
       " [1541174100, 200.09, 200.09, 200.09, 200.09, 6.41],\n",
       " [1541174040, 200.08, 200.14, 200.14, 200.09, 6.19],\n",
       " [1541173980, 200.14, 200.14, 200.14, 200.14, 5.54],\n",
       " [1541173920, 200.13, 200.14, 200.13, 200.14, 9.15],\n",
       " [1541173860, 200.13, 200.14, 200.14, 200.13, 3.59],\n",
       " [1541173800, 200.13, 200.14, 200.13, 200.14, 20.73],\n",
       " [1541173740, 200.13, 200.14, 200.13, 200.14, 12.94],\n",
       " [1541173680, 200.13, 200.14, 200.13, 200.14, 17.04],\n",
       " [1541173620, 200.13, 200.14, 200.14, 200.14, 13.81],\n",
       " [1541173560, 200.13, 200.14, 200.14, 200.13, 20.03],\n",
       " [1541173500, 200.13, 200.14, 200.13, 200.14, 15.98],\n",
       " [1541173440, 200.1, 200.14, 200.11, 200.14, 27.92],\n",
       " [1541173380, 200.1, 200.11, 200.11, 200.11, 21.93],\n",
       " [1541173320, 200.01, 200.3, 200.3, 200.1, 65.41],\n",
       " [1541173260, 200.29, 200.3, 200.3, 200.29, 11.88],\n",
       " [1541173200, 200.31, 200.39, 200.39, 200.31, 21.49],\n",
       " [1541173140, 200.39, 200.39, 200.39, 200.39, 8.56],\n",
       " [1541173080, 200.39, 200.54, 200.54, 200.4, 16.53],\n",
       " [1541173020, 200.53, 200.54, 200.54, 200.54, 8.48],\n",
       " [1541172960, 200.53, 200.54, 200.54, 200.54, 27.73],\n",
       " [1541172900, 200.48, 200.58, 200.48, 200.54, 56.33],\n",
       " [1541172840, 200.47, 200.48, 200.47, 200.48, 3.94],\n",
       " [1541172780, 200.47, 200.48, 200.48, 200.47, 13.56],\n",
       " [1541172720, 200.47, 200.48, 200.48, 200.48, 24.95],\n",
       " [1541172660, 200.47, 200.48, 200.48, 200.48, 39.97],\n",
       " [1541172600, 200.47, 200.6, 200.6, 200.48, 35.84],\n",
       " [1541172540, 200.6, 200.86, 200.85, 200.61, 5.47],\n",
       " [1541172480, 200.59, 201.01, 201.01, 200.86, 236.24],\n",
       " [1541172420, 201, 201.01, 201.01, 201, 15.98],\n",
       " [1541172360, 201, 201.01, 201.01, 201.01, 10.14],\n",
       " [1541172300, 201, 201.09, 201.09, 201.01, 108.87],\n",
       " [1541172240, 201.09, 201.12, 201.12, 201.1, 23.99],\n",
       " [1541172180, 201.12, 201.13, 201.13, 201.13, 15.28],\n",
       " [1541172120, 201.12, 201.22, 201.22, 201.12, 56.53],\n",
       " [1541172060, 201.2, 201.25, 201.2, 201.22, 43.38],\n",
       " [1541172000, 201.11, 201.25, 201.11, 201.2, 96.84],\n",
       " [1541171940, 201.07, 201.11, 201.08, 201.1, 43.48],\n",
       " [1541171880, 201, 201.08, 201.08, 201.08, 5.54],\n",
       " [1541171820, 201, 201.08, 201.05, 201.08, 42.53],\n",
       " [1541171760, 200.99, 201.06, 201, 201.06, 9.64],\n",
       " [1541171700, 200.94, 201, 200.94, 201, 48.15],\n",
       " [1541171640, 200.87, 201, 200.87, 200.94, 46.51],\n",
       " [1541171580, 200.86, 200.87, 200.87, 200.87, 5.69],\n",
       " [1541171520, 200.84, 201.11, 200.92, 200.84, 68.7],\n",
       " [1541171460, 200.9, 201.4, 200.9, 200.92, 633.81],\n",
       " [1541171400, 200.9, 200.92, 200.92, 200.91, 63.07],\n",
       " [1541171340, 200.91, 201.21, 201.21, 200.91, 129.94],\n",
       " [1541171280, 201.12, 201.21, 201.12, 201.21, 51.08],\n",
       " [1541171220, 201.11, 201.2, 201.2, 201.12, 66.5],\n",
       " [1541171160, 201.21, 201.4, 201.4, 201.21, 23.91],\n",
       " [1541171100, 201.29, 201.75, 201.29, 201.41, 497.4],\n",
       " [1541171040, 199.75, 201.3, 199.75, 201.28, 1790.9],\n",
       " [1541170980, 199.74, 199.75, 199.75, 199.75, 61.06],\n",
       " [1541170920, 199.45, 199.75, 199.45, 199.75, 209.6],\n",
       " [1541170860, 199.39, 199.45, 199.4, 199.45, 266.74],\n",
       " [1541170800, 199.39, 199.4, 199.4, 199.4, 34.38],\n",
       " [1541170740, 199.39, 199.4, 199.39, 199.4, 14.34],\n",
       " [1541170680, 199.39, 199.4, 199.4, 199.4, 0.745],\n",
       " [1541170620, 199.39, 199.4, 199.4, 199.4, 81.93],\n",
       " [1541170560, 199.39, 199.4, 199.39, 199.39, 38.3],\n",
       " [1541170500, 199.38, 199.4, 199.38, 199.4, 3.75],\n",
       " [1541170440, 199.3, 199.4, 199.4, 199.38, 26.15],\n",
       " [1541170380, 199.37, 199.4, 199.37, 199.4, 12.64],\n",
       " [1541170320, 199.3, 199.41, 199.41, 199.4, 97.35],\n",
       " [1541170260, 199.39, 199.41, 199.4, 199.4, 107.68],\n",
       " [1541170200, 199.34, 199.4, 199.35, 199.4, 195.62],\n",
       " [1541170140, 199.3, 199.35, 199.3, 199.34, 259.18],\n",
       " [1541170080, 199.25, 199.31, 199.25, 199.31, 17.36],\n",
       " [1541170020, 199.22, 199.25, 199.24, 199.25, 49.68],\n",
       " [1541169960, 199.22, 199.24, 199.23, 199.24, 24.35],\n",
       " [1541169900, 199.22, 199.35, 199.35, 199.22, 35.01],\n",
       " [1541169840, 199.34, 199.35, 199.35, 199.35, 9.72],\n",
       " [1541169780, 199.34, 199.35, 199.34, 199.35, 8.98],\n",
       " [1541169720, 199.34, 199.35, 199.35, 199.35, 7.39],\n",
       " [1541169660, 199.34, 199.35, 199.35, 199.35, 4.04],\n",
       " [1541169600, 199.35, 199.35, 199.35, 199.35, 22.7],\n",
       " [1541169540, 199.34, 199.35, 199.35, 199.35, 32.13],\n",
       " [1541169480, 199.34, 199.35, 199.34, 199.35, 22.56],\n",
       " [1541169420, 199.34, 199.36, 199.36, 199.34, 7.9],\n",
       " [1541169360, 199.35, 199.36, 199.35, 199.35, 45.86],\n",
       " [1541169300, 199.35, 199.39, 199.39, 199.36, 48.16],\n",
       " [1541169240, 199.39, 199.4, 199.4, 199.39, 67.52],\n",
       " [1541169180, 199.39, 199.4, 199.4, 199.39, 6.87],\n",
       " [1541169120, 199.39, 199.4, 199.4, 199.4, 31.95],\n",
       " [1541169060, 199.38, 199.4, 199.39, 199.4, 39.68],\n",
       " [1541169000, 199.39, 199.39, 199.39, 199.39, 6.59],\n",
       " [1541168940, 199.38, 199.39, 199.38, 199.39, 6.24],\n",
       " [1541168880, 199.37, 199.39, 199.38, 199.39, 4.57],\n",
       " [1541168820, 199.37, 199.38, 199.38, 199.38, 5],\n",
       " [1541168760, 199.29, 199.38, 199.3, 199.38, 26.16],\n",
       " [1541168700, 199.29, 199.3, 199.3, 199.3, 26.41],\n",
       " [1541168640, 199.29, 199.3, 199.3, 199.3, 10.37],\n",
       " [1541168580, 199.28, 199.3, 199.28, 199.3, 52.46],\n",
       " [1541168520, 199.27, 199.28, 199.27, 199.28, 22.25],\n",
       " [1541168460, 199.23, 199.29, 199.23, 199.27, 10.42],\n",
       " [1541168400, 199.05, 199.24, 199.05, 199.24, 46.36],\n",
       " [1541168340, 199.05, 199.06, 199.06, 199.05, 20.02],\n",
       " [1541168280, 199.05, 199.06, 199.06, 199.06, 192.99],\n",
       " [1541168220, 199.05, 199.06, 199.06, 199.06, 42.11],\n",
       " [1541168160, 199.05, 199.06, 199.05, 199.06, 2.12],\n",
       " [1541168100, 199.05, 199.06, 199.06, 199.06, 18.49],\n",
       " [1541168040, 199.05, 199.06, 199.06, 199.06, 3.19],\n",
       " [1541167980, 199.05, 199.06, 199.06, 199.06, 15.02],\n",
       " [1541167920, 199.06, 199.06, 199.06, 199.06, 12.57],\n",
       " [1541167860, 199.05, 199.06, 199.05, 199.06, 4.25],\n",
       " [1541167800, 199.05, 199.06, 199.05, 199.05, 8.36],\n",
       " [1541167740, 199.05, 199.06, 199.06, 199.06, 3.35],\n",
       " [1541167680, 199.06, 199.06, 199.06, 199.06, 11.76],\n",
       " [1541167620, 199.06, 199.06, 199.06, 199.06, 8.84],\n",
       " [1541167560, 199.05, 199.06, 199.06, 199.05, 6.8],\n",
       " [1541167500, 199.05, 199.06, 199.06, 199.06, 6.74],\n",
       " [1541167440, 199.05, 199.06, 199.06, 199.06, 6.56],\n",
       " [1541167380, 199.05, 199.12, 199.11, 199.05, 23.96],\n",
       " [1541167320, 199.06, 199.35, 199.35, 199.12, 57.57],\n",
       " [1541167260, 199.35, 199.41, 199.41, 199.36, 215.35],\n",
       " [1541167200, 199.4, 199.41, 199.41, 199.41, 38.16],\n",
       " [1541167140, 199.4, 199.41, 199.41, 199.4, 14.45],\n",
       " [1541167080, 199.4, 199.41, 199.41, 199.41, 54.86],\n",
       " [1541167020, 199.4, 199.41, 199.41, 199.41, 3.11],\n",
       " [1541166960, 199.41, 199.41, 199.41, 199.41, 1.72],\n",
       " [1541166900, 199.4, 199.41, 199.4, 199.4, 14.93],\n",
       " [1541166840, 199.4, 199.42, 199.42, 199.41, 20.12],\n",
       " [1541166780, 199.41, 199.42, 199.42, 199.42, 40.07],\n",
       " [1541166720, 199.41, 199.42, 199.42, 199.42, 12.28],\n",
       " [1541166660, 199.42, 199.42, 199.42, 199.42, 6.34],\n",
       " [1541166600, 199.41, 199.44, 199.44, 199.41, 8.61],\n",
       " [1541166540, 199.44, 199.45, 199.45, 199.44, 14.67],\n",
       " [1541166480, 199.44, 199.46, 199.45, 199.44, 8.88],\n",
       " [1541166420, 199.43, 199.45, 199.43, 199.45, 22.94],\n",
       " [1541166360, 199.41, 199.51, 199.51, 199.43, 42.53],\n",
       " [1541166300, 199.49, 199.56, 199.56, 199.52, 33.68],\n",
       " [1541166240, 199.56, 199.56, 199.56, 199.56, 7.14],\n",
       " [1541166180, 199.49, 199.56, 199.5, 199.56, 99.07],\n",
       " [1541166120, 199.49, 199.5, 199.49, 199.49, 14.1],\n",
       " [1541166060, 199.4, 199.5, 199.4, 199.49, 13.28],\n",
       " [1541166000, 199.33, 199.4, 199.33, 199.4, 61.9],\n",
       " [1541165940, 199.27, 199.38, 199.27, 199.34, 77.3],\n",
       " [1541165880, 199.23, 199.27, 199.23, 199.27, 2.86],\n",
       " [1541165820, 199.22, 199.23, 199.22, 199.23, 43.98],\n",
       " [1541165760, 199.14, 199.4, 199.4, 199.22, 144.27],\n",
       " [1541165700, 199.39, 199.45, 199.45, 199.4, 66.95],\n",
       " [1541165640, 199.45, 199.46, 199.45, 199.46, 6.21],\n",
       " [1541165580, 199.45, 199.46, 199.46, 199.46, 6.82],\n",
       " [1541165520, 199.45, 199.46, 199.46, 199.46, 7.39],\n",
       " [1541165460, 199.45, 199.7, 199.69, 199.46, 113.91],\n",
       " [1541165400, 199.69, 199.7, 199.7, 199.69, 13.81],\n",
       " [1541165340, 199.69, 199.7, 199.69, 199.7, 113.34],\n",
       " [1541165280, 199.69, 199.7, 199.7, 199.69, 68.78],\n",
       " [1541165220, 199.69, 199.7, 199.69, 199.69, 13.54],\n",
       " [1541165160, 199.69, 199.7, 199.7, 199.69, 4.07],\n",
       " [1541165100, 199.69, 199.7, 199.7, 199.69, 14.98],\n",
       " [1541165040, 199.69, 199.7, 199.7, 199.7, 93.78],\n",
       " [1541164980, 199.69, 199.7, 199.7, 199.69, 38.79],\n",
       " [1541164920, 199.69, 199.7, 199.69, 199.7, 23.65],\n",
       " [1541164860, 199.69, 199.7, 199.7, 199.69, 18.62],\n",
       " [1541164800, 199.69, 199.7, 199.7, 199.69, 3.17],\n",
       " [1541164740, 199.59, 199.7, 199.59, 199.7, 45.02],\n",
       " [1541164680, 199.5, 199.56, 199.5, 199.56, 13.72],\n",
       " [1541164620, 199.49, 199.5, 199.5, 199.49, 9.97],\n",
       " [1541164560, 199.45, 199.53, 199.46, 199.51, 166.14],\n",
       " [1541164500, 199.46, 199.46, 199.46, 199.46, 28.31],\n",
       " [1541164440, 199.45, 199.46, 199.46, 199.45, 16.48],\n",
       " [1541164380, 199.45, 199.46, 199.46, 199.45, 23.75],\n",
       " [1541164320, 199.45, 199.46, 199.46, 199.46, 6.43],\n",
       " [1541164260, 199.46, 199.53, 199.53, 199.46, 22.8],\n",
       " [1541164200, 199.52, 199.53, 199.53, 199.52, 9.9],\n",
       " [1541164140, 199.17, 199.53, 199.17, 199.53, 211.69],\n",
       " [1541164080, 199.15, 199.17, 199.15, 199.16, 18.84],\n",
       " [1541164020, 199.04, 199.15, 199.04, 199.15, 17.6],\n",
       " [1541163960, 198.99, 199.05, 199, 199.05, 149.6],\n",
       " [1541163900, 198.97, 199, 198.98, 199, 14.65],\n",
       " [1541163840, 198.97, 198.98, 198.98, 198.98, 11.79],\n",
       " [1541163780, 198.92, 198.97, 198.92, 198.97, 18.18],\n",
       " [1541163720, 198.91, 198.92, 198.91, 198.92, 8.72],\n",
       " [1541163660, 198.77, 198.92, 198.78, 198.91, 28.11],\n",
       " [1541163600, 198.77, 198.78, 198.77, 198.78, 28.39],\n",
       " [1541163540, 198.77, 198.8, 198.8, 198.78, 58.84],\n",
       " [1541163480, 198.75, 198.8, 198.79, 198.8, 13.88],\n",
       " [1541163420, 198.7, 198.81, 198.7, 198.81, 10.38],\n",
       " [1541163360, 198.58, 198.71, 198.58, 198.71, 124.54],\n",
       " [1541163300, 198.49, 198.58, 198.49, 198.58, 123.23],\n",
       " [1541163240, 198.4, 198.48, 198.4, 198.46, 1.73],\n",
       " [1541163180, 198.39, 198.4, 198.4, 198.39, 20.91],\n",
       " [1541163120, 198.39, 198.4, 198.4, 198.4, 13.83],\n",
       " [1541163060, 198.39, 198.49, 198.48, 198.4, 11.56],\n",
       " [1541163000, 198.35, 198.5, 198.35, 198.49, 73.19]]"
      ]
     },
     "execution_count": 63,
     "metadata": {},
     "output_type": "execute_result"
    }
   ],
   "source": [
    "public_client.get_product_historic_rates('ETH-USD')"
   ]
  },
  {
   "cell_type": "code",
   "execution_count": null,
   "metadata": {},
   "outputs": [],
   "source": [
    "public_client.get_product_historic_rates('ETH-USD', granularity=3600) #  {60, 300, 900, 3600, 21600, 86400}"
   ]
  },
  {
   "cell_type": "markdown",
   "metadata": {},
   "source": [
    "  {60, 300, 900, 3600, 21600, 86400}   one minute, five minutes, fifteen minutes, one hour, six hours, and one day, "
   ]
  },
  {
   "cell_type": "code",
   "execution_count": 65,
   "metadata": {},
   "outputs": [
    {
     "data": {
      "text/plain": [
       "{'open': '196.80000000',\n",
       " 'high': '201.75000000',\n",
       " 'low': '196.74000000',\n",
       " 'volume': '45294.15184126',\n",
       " 'last': '199.91000000',\n",
       " 'volume_30day': '2038628.60302517'}"
      ]
     },
     "execution_count": 65,
     "metadata": {},
     "output_type": "execute_result"
    }
   ],
   "source": [
    "public_client.get_product_24hr_stats('ETH-USD')"
   ]
  },
  {
   "cell_type": "code",
   "execution_count": 66,
   "metadata": {},
   "outputs": [
    {
     "data": {
      "text/plain": [
       "[{'id': 'BTC',\n",
       "  'name': 'Bitcoin',\n",
       "  'min_size': '0.00000001',\n",
       "  'status': 'online',\n",
       "  'message': None},\n",
       " {'id': 'EUR',\n",
       "  'name': 'Euro',\n",
       "  'min_size': '0.01000000',\n",
       "  'status': 'online',\n",
       "  'message': None},\n",
       " {'id': 'LTC',\n",
       "  'name': 'Litecoin',\n",
       "  'min_size': '0.00000001',\n",
       "  'status': 'online',\n",
       "  'message': None},\n",
       " {'id': 'GBP',\n",
       "  'name': 'British Pound',\n",
       "  'min_size': '0.01000000',\n",
       "  'status': 'online',\n",
       "  'message': None},\n",
       " {'id': 'USD',\n",
       "  'name': 'United States Dollar',\n",
       "  'min_size': '0.01000000',\n",
       "  'status': 'online',\n",
       "  'message': None,\n",
       "  'convertible_to': ['USDC']},\n",
       " {'id': 'ETH',\n",
       "  'name': 'Ether',\n",
       "  'min_size': '0.00000001',\n",
       "  'status': 'online',\n",
       "  'message': None},\n",
       " {'id': 'ZRX',\n",
       "  'name': '0x',\n",
       "  'min_size': '0.00001000',\n",
       "  'status': 'online',\n",
       "  'message': None},\n",
       " {'id': 'BCH',\n",
       "  'name': 'Bitcoin Cash',\n",
       "  'min_size': '0.00000001',\n",
       "  'status': 'online',\n",
       "  'message': None},\n",
       " {'id': 'ETC',\n",
       "  'name': 'Ether Classic',\n",
       "  'min_size': '0.00000001',\n",
       "  'status': 'online',\n",
       "  'message': None},\n",
       " {'id': 'USDC',\n",
       "  'name': 'USD Coin',\n",
       "  'min_size': '0.00000100',\n",
       "  'status': 'online',\n",
       "  'message': None,\n",
       "  'convertible_to': ['USD']}]"
      ]
     },
     "execution_count": 66,
     "metadata": {},
     "output_type": "execute_result"
    }
   ],
   "source": [
    "public_client.get_currencies()"
   ]
  },
  {
   "cell_type": "code",
   "execution_count": 67,
   "metadata": {},
   "outputs": [
    {
     "data": {
      "text/plain": [
       "{'iso': '2018-11-02T18:41:37.530Z', 'epoch': 1541184097.53}"
      ]
     },
     "execution_count": 67,
     "metadata": {},
     "output_type": "execute_result"
    }
   ],
   "source": [
    "public_client.get_time()"
   ]
  },
  {
   "cell_type": "markdown",
   "metadata": {},
   "source": []
  },
  {
   "cell_type": "markdown",
   "metadata": {},
   "source": [
    "### WebSocket <a name=\"websocket\"></a>\n",
    "\n",
    "The WebSocket provides full-duplex communication. It enables streams of messages on top of TCP. TCP alone deals with streams of bytes with no inherent concept of a message. The WebSocket protocol specification defines ws (WebSocket) and wss (WebSocket Secure) as two new uniform resource identifier (URI) schemes that are used for unencrypted and encrypted connections, respectively.\n",
    "\n",
    "The WebSocket protocol enables interaction between a web client (such as a browser) and a web server with lower overheads, facilitating real-time data transfer from and to the server. This is made possible by providing a standardized way for the server to send content to the client without being first requested by the client, and allowing messages to be passed back and forth while keeping the connection open. In this way, a two-way ongoing conversation can take place between the client and the server. "
   ]
  },
  {
   "cell_type": "code",
   "execution_count": 68,
   "metadata": {},
   "outputs": [
    {
     "name": "stdout",
     "output_type": "stream",
     "text": [
      "-- Subscribed to OrderBook! --\n",
      "\n",
      "2018-11-02 14:46:30.945352 BTC-USD bid: 0.688 @ 6353.99\task: 30.299 @ 6354.00\n",
      "2018-11-02 14:46:30.960375 BTC-USD bid: 0.686 @ 6353.99\task: 30.299 @ 6354.00\n",
      "2018-11-02 14:46:36.340897 BTC-USD bid: 0.680 @ 6353.99\task: 30.299 @ 6354.00\n",
      "2018-11-02 14:46:50.398090 BTC-USD bid: 0.680 @ 6353.99\task: 30.209 @ 6354.00\n",
      "2018-11-02 14:46:50.399778 BTC-USD bid: 0.970 @ 6353.99\task: 30.209 @ 6354.00\n",
      "2018-11-02 14:46:50.712742 BTC-USD bid: 0.968 @ 6353.99\task: 30.209 @ 6354.00\n",
      "2018-11-02 14:46:50.981218 BTC-USD bid: 0.925 @ 6353.99\task: 30.209 @ 6354.00\n",
      "2018-11-02 14:46:51.749953 BTC-USD bid: 0.635 @ 6353.99\task: 30.209 @ 6354.00\n",
      "2018-11-02 14:46:51.877079 BTC-USD bid: 0.925 @ 6353.99\task: 30.209 @ 6354.00\n",
      "2018-11-02 14:46:51.879215 BTC-USD bid: 0.635 @ 6353.99\task: 30.209 @ 6354.00\n",
      "2018-11-02 14:46:51.920698 BTC-USD bid: 0.925 @ 6353.99\task: 30.209 @ 6354.00\n",
      "2018-11-02 14:46:52.084038 BTC-USD bid: 0.635 @ 6353.99\task: 30.209 @ 6354.00\n",
      "2018-11-02 14:46:52.342066 BTC-USD bid: 0.635 @ 6353.99\task: 30.299 @ 6354.00\n",
      "2018-11-02 14:46:54.308880 BTC-USD bid: 0.633 @ 6353.99\task: 30.299 @ 6354.00\n",
      "2018-11-02 14:46:55.456984 BTC-USD bid: 0.633 @ 6353.99\task: 30.209 @ 6354.00\n",
      "2018-11-02 14:46:55.525855 BTC-USD bid: 0.009 @ 6353.99\task: 30.209 @ 6354.00\n",
      "2018-11-02 14:46:55.527457 BTC-USD bid: 0.000 @ 6353.99\task: 30.209 @ 6354.00\n",
      "2018-11-02 14:46:55.528084 BTC-USD bid: 0.080 @ 6353.98\task: 30.209 @ 6354.00\n",
      "2018-11-02 14:46:55.528745 BTC-USD bid: 0.000 @ 6353.98\task: 30.209 @ 6354.00\n",
      "2018-11-02 14:46:55.529349 BTC-USD bid: 0.001 @ 6353.54\task: 30.209 @ 6354.00\n",
      "2018-11-02 14:46:55.529965 BTC-USD bid: 0.000 @ 6353.54\task: 30.209 @ 6354.00\n",
      "2018-11-02 14:46:55.530560 BTC-USD bid: 5.592 @ 6352.62\task: 30.209 @ 6354.00\n",
      "2018-11-02 14:46:55.531178 BTC-USD bid: 4.846 @ 6352.62\task: 30.209 @ 6354.00\n",
      "2018-11-02 14:46:55.541135 BTC-USD bid: 4.746 @ 6352.62\task: 30.209 @ 6354.00\n",
      "2018-11-02 14:46:55.726273 BTC-USD bid: 4.746 @ 6352.62\task: 0.784 @ 6353.93\n",
      "2018-11-02 14:46:55.735771 BTC-USD bid: 4.746 @ 6352.62\task: 2.570 @ 6352.63\n",
      "2018-11-02 14:46:55.784478 BTC-USD bid: 4.746 @ 6352.62\task: 3.570 @ 6352.63\n",
      "2018-11-02 14:46:55.886099 BTC-USD bid: 4.746 @ 6352.62\task: 4.570 @ 6352.63\n",
      "2018-11-02 14:46:55.887248 BTC-USD bid: 4.746 @ 6352.62\task: 6.000 @ 6352.63\n",
      "2018-11-02 14:46:55.889316 BTC-USD bid: 4.746 @ 6352.62\task: 6.100 @ 6352.63\n",
      "2018-11-02 14:46:56.048487 BTC-USD bid: 5.036 @ 6352.62\task: 6.100 @ 6352.63\n",
      "2018-11-02 14:46:56.156158 BTC-USD bid: 5.036 @ 6352.62\task: 6.081 @ 6352.63\n",
      "2018-11-02 14:46:56.352254 BTC-USD bid: 5.036 @ 6352.62\task: 6.086 @ 6352.63\n",
      "2018-11-02 14:46:56.577962 BTC-USD bid: 5.036 @ 6352.62\task: 6.088 @ 6352.63\n",
      "2018-11-02 14:46:56.611146 BTC-USD bid: 5.036 @ 6352.62\task: 6.070 @ 6352.63\n",
      "2018-11-02 14:46:56.652121 BTC-USD bid: 5.046 @ 6352.62\task: 6.070 @ 6352.63\n",
      "2018-11-02 14:46:57.802825 BTC-USD bid: 5.089 @ 6352.62\task: 6.070 @ 6352.63\n",
      "2018-11-02 14:46:57.917014 BTC-USD bid: 5.089 @ 6352.62\task: 6.150 @ 6352.63\n",
      "2018-11-02 14:46:58.339111 BTC-USD bid: 5.089 @ 6352.62\task: 6.075 @ 6352.63\n",
      "2018-11-02 14:46:58.454534 BTC-USD bid: 5.091 @ 6352.62\task: 6.075 @ 6352.63\n",
      "2018-11-02 14:47:00.242501 BTC-USD bid: 5.091 @ 6352.62\task: 6.231 @ 6352.63\n",
      "2018-11-02 14:47:00.791817 BTC-USD bid: 5.091 @ 6352.62\task: 6.321 @ 6352.63\n",
      "2018-11-02 14:47:00.794593 BTC-USD bid: 5.091 @ 6352.62\task: 6.231 @ 6352.63\n",
      "2018-11-02 14:47:00.795543 BTC-USD bid: 5.091 @ 6352.62\task: 6.183 @ 6352.63\n",
      "2018-11-02 14:47:03.865942 BTC-USD bid: 5.091 @ 6352.62\task: 6.115 @ 6352.63\n",
      "2018-11-02 14:47:10.787377 BTC-USD bid: 5.089 @ 6352.62\task: 6.115 @ 6352.63\n",
      "2018-11-02 14:47:10.930175 BTC-USD bid: 5.089 @ 6352.62\task: 6.138 @ 6352.63\n",
      "2018-11-02 14:47:13.278299 BTC-USD bid: 5.089 @ 6352.62\task: 6.038 @ 6352.63\n",
      "2018-11-02 14:47:13.898610 BTC-USD bid: 4.799 @ 6352.62\task: 6.038 @ 6352.63\n",
      "2018-11-02 14:47:13.928566 BTC-USD bid: 4.799 @ 6352.62\task: 6.128 @ 6352.63\n",
      "2018-11-02 14:47:14.064525 BTC-USD bid: 4.799 @ 6352.62\task: 6.113 @ 6352.63\n",
      "2018-11-02 14:47:15.482967 BTC-USD bid: 4.799 @ 6352.62\task: 6.107 @ 6352.63\n",
      "2018-11-02 14:47:18.680776 BTC-USD bid: 4.799 @ 6352.62\task: 6.062 @ 6352.63\n",
      "2018-11-02 14:47:18.970420 BTC-USD bid: 4.799 @ 6352.62\task: 5.908 @ 6352.63\n",
      "2018-11-02 14:47:23.536746 BTC-USD bid: 4.799 @ 6352.62\task: 5.861 @ 6352.63\n",
      "2018-11-02 14:47:26.341304 BTC-USD bid: 12.299 @ 6352.62\task: 5.861 @ 6352.63\n",
      "2018-11-02 14:47:26.342309 BTC-USD bid: 12.299 @ 6352.62\task: 3.885 @ 6352.63\n",
      "2018-11-02 14:47:26.343168 BTC-USD bid: 12.299 @ 6352.62\task: 2.885 @ 6352.63\n",
      "2018-11-02 14:47:26.385316 BTC-USD bid: 13.299 @ 6352.62\task: 2.885 @ 6352.63\n",
      "2018-11-02 14:47:26.386453 BTC-USD bid: 13.299 @ 6352.62\task: 1.455 @ 6352.63\n",
      "2018-11-02 14:47:26.387840 BTC-USD bid: 13.299 @ 6352.62\task: 1.355 @ 6352.63\n",
      "2018-11-02 14:47:26.390200 BTC-USD bid: 13.299 @ 6352.62\task: 0.355 @ 6352.63\n",
      "2018-11-02 14:47:26.682238 BTC-USD bid: 13.299 @ 6352.62\task: 0.353 @ 6352.63\n",
      "2018-11-02 14:47:27.754404 BTC-USD bid: 13.299 @ 6352.62\task: 0.969 @ 6352.63\n",
      "2018-11-02 14:47:30.778139 BTC-USD bid: 13.296 @ 6352.62\task: 0.969 @ 6352.63\n",
      "2018-11-02 14:47:30.836415 BTC-USD bid: 13.287 @ 6352.62\task: 0.969 @ 6352.63\n",
      "2018-11-02 14:47:30.837148 BTC-USD bid: 5.787 @ 6352.62\task: 0.969 @ 6352.63\n",
      "2018-11-02 14:47:30.837787 BTC-USD bid: 4.787 @ 6352.62\task: 0.969 @ 6352.63\n",
      "2018-11-02 14:47:30.838714 BTC-USD bid: 4.787 @ 6352.62\task: 1.969 @ 6352.63\n",
      "2018-11-02 14:47:32.969870 BTC-USD bid: 4.787 @ 6352.62\task: 1.879 @ 6352.63\n",
      "2018-11-02 14:47:32.998049 BTC-USD bid: 4.987 @ 6352.62\task: 1.879 @ 6352.63\n",
      "2018-11-02 14:47:33.010525 BTC-USD bid: 4.987 @ 6352.62\task: 1.876 @ 6352.63\n",
      "2018-11-02 14:47:33.012475 BTC-USD bid: 4.987 @ 6352.62\task: 1.875 @ 6352.63\n",
      "2018-11-02 14:47:33.017934 BTC-USD bid: 4.987 @ 6352.62\task: 1.839 @ 6352.63\n",
      "2018-11-02 14:47:33.032292 BTC-USD bid: 4.989 @ 6352.62\task: 1.839 @ 6352.63\n",
      "2018-11-02 14:47:34.037277 BTC-USD bid: 4.789 @ 6352.62\task: 1.839 @ 6352.63\n",
      "2018-11-02 14:47:34.053579 BTC-USD bid: 4.789 @ 6352.62\task: 1.929 @ 6352.63\n",
      "2018-11-02 14:47:35.273335 BTC-USD bid: 4.796 @ 6352.62\task: 1.929 @ 6352.63\n",
      "2018-11-02 14:47:35.378012 BTC-USD bid: 4.796 @ 6352.62\task: 1.886 @ 6352.63\n",
      "2018-11-02 14:47:38.474820 BTC-USD bid: 4.796 @ 6352.62\task: 1.885 @ 6352.63\n",
      "2018-11-02 14:47:39.855648 BTC-USD bid: 4.796 @ 6352.62\task: 1.795 @ 6352.63\n",
      "2018-11-02 14:47:39.857909 BTC-USD bid: 4.996 @ 6352.62\task: 1.795 @ 6352.63\n",
      "2018-11-02 14:47:41.675481 BTC-USD bid: 12.496 @ 6352.62\task: 1.795 @ 6352.63\n",
      "2018-11-02 14:47:41.963835 BTC-USD bid: 12.496 @ 6352.62\task: 0.795 @ 6352.63\n",
      "2018-11-02 14:47:41.966228 BTC-USD bid: 13.496 @ 6352.62\task: 0.795 @ 6352.63\n",
      "2018-11-02 14:47:42.828855 BTC-USD bid: 14.696 @ 6352.62\task: 0.795 @ 6352.63\n",
      "2018-11-02 14:47:45.101742 BTC-USD bid: 14.696 @ 6352.62\task: 0.885 @ 6352.63\n",
      "2018-11-02 14:47:45.108334 BTC-USD bid: 14.496 @ 6352.62\task: 0.885 @ 6352.63\n",
      "2018-11-02 14:47:45.141813 BTC-USD bid: 14.696 @ 6352.62\task: 0.885 @ 6352.63\n",
      "2018-11-02 14:47:45.142746 BTC-USD bid: 14.496 @ 6352.62\task: 0.885 @ 6352.63\n",
      "2018-11-02 14:47:45.143631 BTC-USD bid: 6.996 @ 6352.62\task: 0.885 @ 6352.63\n",
      "2018-11-02 14:47:45.144582 BTC-USD bid: 5.996 @ 6352.62\task: 0.885 @ 6352.63\n",
      "2018-11-02 14:47:45.145571 BTC-USD bid: 6.196 @ 6352.62\task: 0.885 @ 6352.63\n",
      "2018-11-02 14:47:45.146666 BTC-USD bid: 6.196 @ 6352.62\task: 1.885 @ 6352.63\n",
      "2018-11-02 14:47:45.147361 BTC-USD bid: 5.996 @ 6352.62\task: 1.885 @ 6352.63\n",
      "2018-11-02 14:47:45.564629 BTC-USD bid: 5.964 @ 6352.62\task: 1.885 @ 6352.63\n",
      "2018-11-02 14:47:48.471639 BTC-USD bid: 5.776 @ 6352.62\task: 1.885 @ 6352.63\n",
      "2018-11-02 14:47:49.427459 BTC-USD bid: 5.776 @ 6352.62\task: 1.795 @ 6352.63\n",
      "2018-11-02 14:47:49.667923 BTC-USD bid: 5.976 @ 6352.62\task: 1.795 @ 6352.63\n",
      "2018-11-02 14:47:50.079435 BTC-USD bid: 5.776 @ 6352.62\task: 1.795 @ 6352.63\n",
      "2018-11-02 14:47:50.091435 BTC-USD bid: 5.776 @ 6352.62\task: 1.885 @ 6352.63\n",
      "2018-11-02 14:47:50.629094 BTC-USD bid: 5.773 @ 6352.62\task: 1.885 @ 6352.63\n",
      "2018-11-02 14:47:52.355681 BTC-USD bid: 5.773 @ 6352.62\task: 1.885 @ 6352.63\n",
      "2018-11-02 14:47:52.357430 BTC-USD bid: 5.773 @ 6352.62\task: 1.872 @ 6352.63\n",
      "2018-11-02 14:47:52.358532 BTC-USD bid: 5.773 @ 6352.62\task: 1.729 @ 6352.63\n",
      "2018-11-02 14:47:52.771365 BTC-USD bid: 5.598 @ 6352.62\task: 1.729 @ 6352.63\n"
     ]
    },
    {
     "name": "stdout",
     "output_type": "stream",
     "text": [
      "2018-11-02 14:47:53.501185 BTC-USD bid: 5.598 @ 6352.62\task: 1.721 @ 6352.63\n",
      "2018-11-02 14:47:55.266690 BTC-USD bid: 5.598 @ 6352.62\task: 1.706 @ 6352.63\n",
      "2018-11-02 14:47:55.269463 BTC-USD bid: 5.598 @ 6352.62\task: 1.691 @ 6352.63\n",
      "2018-11-02 14:47:59.324362 BTC-USD bid: 5.598 @ 6352.62\task: 1.673 @ 6352.63\n",
      "2018-11-02 14:48:00.265527 BTC-USD bid: 5.598 @ 6352.62\task: 1.583 @ 6352.63\n",
      "2018-11-02 14:48:00.268232 BTC-USD bid: 5.598 @ 6352.62\task: 1.739 @ 6352.63\n",
      "2018-11-02 14:48:00.269806 BTC-USD bid: 13.098 @ 6352.62\task: 1.739 @ 6352.63\n",
      "2018-11-02 14:48:00.271477 BTC-USD bid: 13.098 @ 6352.62\task: 0.739 @ 6352.63\n",
      "2018-11-02 14:48:00.272066 BTC-USD bid: 5.598 @ 6352.62\task: 0.739 @ 6352.63\n",
      "2018-11-02 14:48:00.273697 BTC-USD bid: 6.598 @ 6352.62\task: 0.739 @ 6352.63\n",
      "2018-11-02 14:48:00.276207 BTC-USD bid: 5.598 @ 6352.62\task: 0.739 @ 6352.63\n",
      "2018-11-02 14:48:00.277073 BTC-USD bid: 5.598 @ 6352.62\task: 1.739 @ 6352.63\n",
      "2018-11-02 14:48:00.278048 BTC-USD bid: 13.098 @ 6352.62\task: 1.739 @ 6352.63\n",
      "2018-11-02 14:48:00.283179 BTC-USD bid: 5.598 @ 6352.62\task: 1.739 @ 6352.63\n",
      "2018-11-02 14:48:00.296085 BTC-USD bid: 5.598 @ 6352.62\task: 0.739 @ 6352.63\n",
      "2018-11-02 14:48:00.314581 BTC-USD bid: 6.598 @ 6352.62\task: 0.739 @ 6352.63\n",
      "2018-11-02 14:48:00.316287 BTC-USD bid: 6.798 @ 6352.62\task: 0.739 @ 6352.63\n",
      "2018-11-02 14:48:00.335550 BTC-USD bid: 6.798 @ 6352.62\task: 0.728 @ 6352.63\n",
      "2018-11-02 14:48:00.337107 BTC-USD bid: 5.798 @ 6352.62\task: 0.728 @ 6352.63\n",
      "2018-11-02 14:48:00.338676 BTC-USD bid: 5.798 @ 6352.62\task: 1.728 @ 6352.63\n",
      "2018-11-02 14:48:00.398640 BTC-USD bid: 5.598 @ 6352.62\task: 1.728 @ 6352.63\n",
      "2018-11-02 14:48:00.645495 BTC-USD bid: 5.535 @ 6352.62\task: 1.728 @ 6352.63\n",
      "2018-11-02 14:48:00.789302 BTC-USD bid: 5.735 @ 6352.62\task: 1.728 @ 6352.63\n",
      "2018-11-02 14:48:02.322593 BTC-USD bid: 5.735 @ 6352.62\task: 1.720 @ 6352.63\n",
      "2018-11-02 14:48:02.438058 BTC-USD bid: 5.535 @ 6352.62\task: 1.720 @ 6352.63\n",
      "2018-11-02 14:48:02.688062 BTC-USD bid: 5.535 @ 6352.62\task: 1.810 @ 6352.63\n",
      "2018-11-02 14:48:03.313102 BTC-USD bid: 5.535 @ 6352.62\task: 1.720 @ 6352.63\n",
      "2018-11-02 14:48:03.335137 BTC-USD bid: 5.735 @ 6352.62\task: 1.720 @ 6352.63\n",
      "2018-11-02 14:48:07.216810 BTC-USD bid: 13.235 @ 6352.62\task: 1.720 @ 6352.63\n",
      "2018-11-02 14:48:07.218853 BTC-USD bid: 13.235 @ 6352.62\task: 0.720 @ 6352.63\n",
      "2018-11-02 14:48:07.220536 BTC-USD bid: 14.235 @ 6352.62\task: 0.720 @ 6352.63\n",
      "2018-11-02 14:48:08.049961 BTC-USD bid: 14.235 @ 6352.62\task: 0.716 @ 6352.63\n",
      "2018-11-02 14:48:08.324550 BTC-USD bid: 13.235 @ 6352.62\task: 0.716 @ 6352.63\n",
      "2018-11-02 14:48:08.397802 BTC-USD bid: 13.235 @ 6352.62\task: 1.716 @ 6352.63\n",
      "2018-11-02 14:48:08.410169 BTC-USD bid: 13.235 @ 6352.62\task: 0.716 @ 6352.63\n",
      "2018-11-02 14:48:08.411768 BTC-USD bid: 14.235 @ 6352.62\task: 0.716 @ 6352.63\n",
      "2018-11-02 14:48:11.326515 BTC-USD bid: 14.235 @ 6352.62\task: 0.739 @ 6352.63\n",
      "2018-11-02 14:48:11.327069 BTC-USD bid: 6.735 @ 6352.62\task: 0.739 @ 6352.63\n",
      "2018-11-02 14:48:11.328901 BTC-USD bid: 5.735 @ 6352.62\task: 0.739 @ 6352.63\n",
      "2018-11-02 14:48:11.329716 BTC-USD bid: 5.735 @ 6352.62\task: 1.739 @ 6352.63\n",
      "2018-11-02 14:48:11.330743 BTC-USD bid: 5.735 @ 6352.62\task: 1.725 @ 6352.63\n",
      "2018-11-02 14:48:11.338839 BTC-USD bid: 5.735 @ 6352.62\task: 1.499 @ 6352.63\n",
      "2018-11-02 14:48:11.365206 BTC-USD bid: 13.235 @ 6352.62\task: 1.499 @ 6352.63\n",
      "2018-11-02 14:48:11.396498 BTC-USD bid: 13.235 @ 6352.62\task: 0.499 @ 6352.63\n",
      "2018-11-02 14:48:11.408178 BTC-USD bid: 14.235 @ 6352.62\task: 0.499 @ 6352.63\n",
      "2018-11-02 14:48:12.079414 BTC-USD bid: 13.235 @ 6352.62\task: 0.499 @ 6352.63\n",
      "2018-11-02 14:48:12.168728 BTC-USD bid: 13.235 @ 6352.62\task: 1.499 @ 6352.63\n",
      "2018-11-02 14:48:12.177280 BTC-USD bid: 5.735 @ 6352.62\task: 1.499 @ 6352.63\n",
      "2018-11-02 14:48:12.178518 BTC-USD bid: 5.735 @ 6352.62\task: 0.499 @ 6352.63\n",
      "2018-11-02 14:48:12.194611 BTC-USD bid: 5.735 @ 6352.62\task: 1.499 @ 6352.63\n",
      "2018-11-02 14:48:13.411690 BTC-USD bid: 13.235 @ 6352.62\task: 1.499 @ 6352.63\n",
      "2018-11-02 14:48:13.432261 BTC-USD bid: 5.735 @ 6352.62\task: 1.499 @ 6352.63\n",
      "2018-11-02 14:48:13.433545 BTC-USD bid: 5.735 @ 6352.62\task: 0.499 @ 6352.63\n",
      "2018-11-02 14:48:13.435582 BTC-USD bid: 13.235 @ 6352.62\task: 0.499 @ 6352.63\n",
      "2018-11-02 14:48:13.436474 BTC-USD bid: 5.735 @ 6352.62\task: 0.499 @ 6352.63\n",
      "2018-11-02 14:48:13.437181 BTC-USD bid: 6.735 @ 6352.62\task: 0.499 @ 6352.63\n",
      "2018-11-02 14:48:13.438119 BTC-USD bid: 6.735 @ 6352.62\task: 1.499 @ 6352.63\n",
      "2018-11-02 14:48:13.439066 BTC-USD bid: 5.735 @ 6352.62\task: 1.499 @ 6352.63\n",
      "2018-11-02 14:48:13.477516 BTC-USD bid: 5.735 @ 6352.62\task: 0.499 @ 6352.63\n",
      "2018-11-02 14:48:13.479226 BTC-USD bid: 5.735 @ 6352.62\task: 0.345 @ 6352.63\n",
      "2018-11-02 14:48:13.499755 BTC-USD bid: 13.235 @ 6352.62\task: 0.345 @ 6352.63\n",
      "2018-11-02 14:48:13.526601 BTC-USD bid: 13.235 @ 6352.62\task: 1.345 @ 6352.63\n",
      "2018-11-02 14:48:13.538660 BTC-USD bid: 14.235 @ 6352.62\task: 1.345 @ 6352.63\n",
      "2018-11-02 14:48:13.544114 BTC-USD bid: 14.235 @ 6352.62\task: 0.345 @ 6352.63\n",
      "2018-11-02 14:48:13.902688 BTC-USD bid: 14.235 @ 6352.62\task: 0.337 @ 6352.63\n",
      "2018-11-02 14:48:14.222735 BTC-USD bid: 14.235 @ 6352.62\task: 0.333 @ 6352.63\n",
      "2018-11-02 14:48:14.266392 BTC-USD bid: 14.235 @ 6352.62\task: 0.423 @ 6352.63\n",
      "2018-11-02 14:48:14.270539 BTC-USD bid: 14.035 @ 6352.62\task: 0.423 @ 6352.63\n",
      "2018-11-02 14:48:14.746480 BTC-USD bid: 14.035 @ 6352.62\task: 0.418 @ 6352.63\n",
      "2018-11-02 14:48:15.437636 BTC-USD bid: 13.035 @ 6352.62\task: 0.418 @ 6352.63\n",
      "2018-11-02 14:48:15.476326 BTC-USD bid: 13.035 @ 6352.62\task: 1.418 @ 6352.63\n",
      "2018-11-02 14:48:17.027200 BTC-USD bid: 13.035 @ 6352.62\task: 1.413 @ 6352.63\n",
      "2018-11-02 14:48:17.511272 BTC-USD bid: 13.235 @ 6352.62\task: 1.413 @ 6352.63\n",
      "2018-11-02 14:48:17.530528 BTC-USD bid: 13.035 @ 6352.62\task: 1.413 @ 6352.63\n",
      "2018-11-02 14:48:18.655562 BTC-USD bid: 13.035 @ 6352.62\task: 1.394 @ 6352.63\n",
      "2018-11-02 14:48:19.727230 BTC-USD bid: 12.644 @ 6352.62\task: 1.394 @ 6352.63\n",
      "2018-11-02 14:48:19.770282 BTC-USD bid: 5.144 @ 6352.62\task: 1.394 @ 6352.63\n",
      "2018-11-02 14:48:20.805712 BTC-USD bid: 5.144 @ 6352.62\task: 1.492 @ 6352.63\n",
      "2018-11-02 14:48:22.166367 BTC-USD bid: 5.344 @ 6352.62\task: 1.492 @ 6352.63\n",
      "2018-11-02 14:48:22.868052 BTC-USD bid: 5.144 @ 6352.62\task: 1.492 @ 6352.63\n",
      "2018-11-02 14:48:24.283441 BTC-USD bid: 5.144 @ 6352.62\task: 1.483 @ 6352.63\n",
      "2018-11-02 14:48:25.810549 BTC-USD bid: 5.344 @ 6352.62\task: 1.483 @ 6352.63\n",
      "2018-11-02 14:48:26.939345 BTC-USD bid: 5.297 @ 6352.62\task: 1.483 @ 6352.63\n",
      "2018-11-02 14:48:26.941428 BTC-USD bid: 5.097 @ 6352.62\task: 1.483 @ 6352.63\n",
      "2018-11-02 14:48:27.885040 BTC-USD bid: 5.297 @ 6352.62\task: 1.483 @ 6352.63\n",
      "2018-11-02 14:48:28.528701 BTC-USD bid: 5.097 @ 6352.62\task: 1.483 @ 6352.63\n",
      "2018-11-02 14:48:29.422387 BTC-USD bid: 5.097 @ 6352.62\task: 1.482 @ 6352.63\n",
      "2018-11-02 14:48:29.427346 BTC-USD bid: 4.999 @ 6352.62\task: 1.482 @ 6352.63\n",
      "2018-11-02 14:48:29.465899 BTC-USD bid: 4.999 @ 6352.62\task: 1.384 @ 6352.63\n",
      "2018-11-02 14:48:29.526090 BTC-USD bid: 4.999 @ 6352.62\task: 1.381 @ 6352.63\n",
      "2018-11-02 14:48:30.285403 BTC-USD bid: 4.999 @ 6352.62\task: 1.378 @ 6352.63\n",
      "2018-11-02 14:48:30.645562 BTC-USD bid: 4.999 @ 6352.62\task: 1.378 @ 6352.63\n",
      "2018-11-02 14:48:30.662966 BTC-USD bid: 4.997 @ 6352.62\task: 1.378 @ 6352.63\n",
      "2018-11-02 14:48:30.877484 BTC-USD bid: 4.997 @ 6352.62\task: 1.288 @ 6352.63\n",
      "2018-11-02 14:48:30.878999 BTC-USD bid: 5.197 @ 6352.62\task: 1.288 @ 6352.63\n",
      "2018-11-02 14:48:32.598640 BTC-USD bid: 5.176 @ 6352.62\task: 1.288 @ 6352.63\n",
      "2018-11-02 14:48:33.435373 BTC-USD bid: 4.976 @ 6352.62\task: 1.288 @ 6352.63\n",
      "2018-11-02 14:48:33.437640 BTC-USD bid: 4.976 @ 6352.62\task: 1.281 @ 6352.63\n",
      "2018-11-02 14:48:33.439031 BTC-USD bid: 4.976 @ 6352.62\task: 1.371 @ 6352.63\n",
      "2018-11-02 14:48:34.719217 BTC-USD bid: 4.976 @ 6352.62\task: 1.281 @ 6352.63\n",
      "2018-11-02 14:48:34.723590 BTC-USD bid: 5.176 @ 6352.62\task: 1.281 @ 6352.63\n",
      "2018-11-02 14:48:36.273680 BTC-USD bid: 5.176 @ 6352.62\task: 1.371 @ 6352.63\n",
      "2018-11-02 14:48:36.274504 BTC-USD bid: 5.176 @ 6352.62\task: 1.281 @ 6352.63\n",
      "2018-11-02 14:48:36.275731 BTC-USD bid: 5.174 @ 6352.62\task: 1.281 @ 6352.63\n",
      "2018-11-02 14:48:36.293830 BTC-USD bid: 5.174 @ 6352.62\task: 1.265 @ 6352.63\n",
      "2018-11-02 14:48:36.450499 BTC-USD bid: 4.974 @ 6352.62\task: 1.265 @ 6352.63\n"
     ]
    },
    {
     "name": "stdout",
     "output_type": "stream",
     "text": [
      "2018-11-02 14:48:36.972869 BTC-USD bid: 4.974 @ 6352.62\task: 1.355 @ 6352.63\n",
      "2018-11-02 14:48:37.065643 BTC-USD bid: 4.974 @ 6352.62\task: 1.285 @ 6352.63\n",
      "2018-11-02 14:48:38.327017 BTC-USD bid: 4.974 @ 6352.62\task: 1.282 @ 6352.63\n",
      "2018-11-02 14:48:41.134849 BTC-USD bid: 4.974 @ 6352.62\task: 1.278 @ 6352.63\n",
      "2018-11-02 14:48:41.229820 BTC-USD bid: 4.974 @ 6352.62\task: 1.275 @ 6352.63\n",
      "2018-11-02 14:48:42.828292 BTC-USD bid: 3.774 @ 6352.62\task: 1.275 @ 6352.63\n",
      "2018-11-02 14:48:45.616452 BTC-USD bid: 3.774 @ 6352.62\task: 1.269 @ 6352.63\n",
      "2018-11-02 14:48:45.617828 BTC-USD bid: 3.774 @ 6352.62\task: 1.252 @ 6352.63\n",
      "2018-11-02 14:48:45.618823 BTC-USD bid: 3.774 @ 6352.62\task: 1.113 @ 6352.63\n",
      "2018-11-02 14:48:45.660792 BTC-USD bid: 11.274 @ 6352.62\task: 1.113 @ 6352.63\n",
      "2018-11-02 14:48:46.968040 BTC-USD bid: 11.274 @ 6352.62\task: 0.113 @ 6352.63\n",
      "2018-11-02 14:48:47.005293 BTC-USD bid: 12.274 @ 6352.62\task: 0.113 @ 6352.63\n",
      "2018-11-02 14:48:47.523021 BTC-USD bid: 11.274 @ 6352.62\task: 0.113 @ 6352.63\n",
      "2018-11-02 14:48:47.535778 BTC-USD bid: 11.274 @ 6352.62\task: 1.113 @ 6352.63\n",
      "2018-11-02 14:48:47.630380 BTC-USD bid: 11.274 @ 6352.62\task: 1.098 @ 6352.63\n",
      "2018-11-02 14:48:48.875354 BTC-USD bid: 11.274 @ 6352.62\task: 0.098 @ 6352.63\n",
      "2018-11-02 14:48:49.044902 BTC-USD bid: 12.274 @ 6352.62\task: 0.098 @ 6352.63\n",
      "2018-11-02 14:48:49.307342 BTC-USD bid: 11.274 @ 6352.62\task: 0.098 @ 6352.63\n",
      "2018-11-02 14:48:49.317030 BTC-USD bid: 11.274 @ 6352.62\task: 1.098 @ 6352.63\n",
      "2018-11-02 14:48:49.681648 BTC-USD bid: 3.774 @ 6352.62\task: 1.098 @ 6352.63\n",
      "2018-11-02 14:48:50.821942 BTC-USD bid: 3.768 @ 6352.62\task: 1.098 @ 6352.63\n",
      "2018-11-02 14:48:50.872706 BTC-USD bid: 3.768 @ 6352.62\task: 1.090 @ 6352.63\n",
      "2018-11-02 14:48:51.023987 BTC-USD bid: 3.768 @ 6352.62\task: 1.113 @ 6352.63\n",
      "2018-11-02 14:48:51.805292 BTC-USD bid: 3.768 @ 6352.62\task: 1.070 @ 6352.63\n",
      "2018-11-02 14:48:51.994905 BTC-USD bid: 11.268 @ 6352.62\task: 1.070 @ 6352.63\n",
      "2018-11-02 14:48:52.026774 BTC-USD bid: 11.268 @ 6352.62\task: 0.070 @ 6352.63\n",
      "2018-11-02 14:48:52.028016 BTC-USD bid: 12.268 @ 6352.62\task: 0.070 @ 6352.63\n",
      "2018-11-02 14:48:52.572993 BTC-USD bid: 11.268 @ 6352.62\task: 0.070 @ 6352.63\n",
      "2018-11-02 14:48:52.643632 BTC-USD bid: 12.268 @ 6352.62\task: 0.070 @ 6352.63\n",
      "2018-11-02 14:48:52.646253 BTC-USD bid: 12.268 @ 6352.62\task: 1.070 @ 6352.63\n",
      "2018-11-02 14:48:52.647007 BTC-USD bid: 11.268 @ 6352.62\task: 1.070 @ 6352.63\n",
      "2018-11-02 14:48:52.648747 BTC-USD bid: 11.268 @ 6352.62\task: 0.070 @ 6352.63\n",
      "2018-11-02 14:48:52.667110 BTC-USD bid: 12.268 @ 6352.62\task: 0.070 @ 6352.63\n",
      "2018-11-02 14:48:52.872255 BTC-USD bid: 11.268 @ 6352.62\task: 0.070 @ 6352.63\n",
      "2018-11-02 14:48:52.888585 BTC-USD bid: 11.268 @ 6352.62\task: 1.070 @ 6352.63\n",
      "2018-11-02 14:48:53.123965 BTC-USD bid: 11.268 @ 6352.62\task: 1.054 @ 6352.63\n",
      "2018-11-02 14:48:53.128974 BTC-USD bid: 11.268 @ 6352.62\task: 0.054 @ 6352.63\n",
      "2018-11-02 14:48:53.139252 BTC-USD bid: 12.268 @ 6352.62\task: 0.054 @ 6352.63\n",
      "2018-11-02 14:48:53.180546 BTC-USD bid: 12.268 @ 6352.62\task: 0.210 @ 6352.63\n",
      "2018-11-02 14:48:53.183909 BTC-USD bid: 11.268 @ 6352.62\task: 0.210 @ 6352.63\n",
      "2018-11-02 14:48:53.185754 BTC-USD bid: 11.179 @ 6352.62\task: 0.210 @ 6352.63\n",
      "2018-11-02 14:48:53.190433 BTC-USD bid: 11.179 @ 6352.62\task: 1.210 @ 6352.63\n",
      "2018-11-02 14:48:53.195975 BTC-USD bid: 11.179 @ 6352.62\task: 0.210 @ 6352.63\n",
      "2018-11-02 14:48:53.197120 BTC-USD bid: 12.179 @ 6352.62\task: 0.210 @ 6352.63\n",
      "2018-11-02 14:48:53.224255 BTC-USD bid: 4.679 @ 6352.62\task: 0.210 @ 6352.63\n",
      "2018-11-02 14:48:53.260963 BTC-USD bid: 12.179 @ 6352.62\task: 0.210 @ 6352.63\n",
      "2018-11-02 14:48:53.322736 BTC-USD bid: 11.179 @ 6352.62\task: 0.210 @ 6352.63\n",
      "2018-11-02 14:48:53.324434 BTC-USD bid: 11.179 @ 6352.62\task: 1.210 @ 6352.63\n",
      "2018-11-02 14:48:53.333962 BTC-USD bid: 11.179 @ 6352.62\task: 0.210 @ 6352.63\n",
      "2018-11-02 14:48:53.342933 BTC-USD bid: 12.179 @ 6352.62\task: 0.210 @ 6352.63\n",
      "2018-11-02 14:48:53.387146 BTC-USD bid: 11.179 @ 6352.62\task: 0.210 @ 6352.63\n",
      "2018-11-02 14:48:53.426488 BTC-USD bid: 12.179 @ 6352.62\task: 0.210 @ 6352.63\n",
      "2018-11-02 14:48:53.642056 BTC-USD bid: 11.236 @ 6352.62\task: 0.210 @ 6352.63\n",
      "2018-11-02 14:48:53.705090 BTC-USD bid: 10.236 @ 6352.62\task: 0.210 @ 6352.63\n",
      "2018-11-02 14:48:53.715164 BTC-USD bid: 2.736 @ 6352.62\task: 0.210 @ 6352.63\n",
      "2018-11-02 14:48:53.724249 BTC-USD bid: 2.736 @ 6352.62\task: 1.210 @ 6352.63\n",
      "2018-11-02 14:48:53.731984 BTC-USD bid: 10.236 @ 6352.62\task: 1.210 @ 6352.63\n",
      "2018-11-02 14:48:53.753819 BTC-USD bid: 2.736 @ 6352.62\task: 1.210 @ 6352.63\n",
      "2018-11-02 14:48:53.754917 BTC-USD bid: 2.736 @ 6352.62\task: 0.210 @ 6352.63\n",
      "2018-11-02 14:48:53.758961 BTC-USD bid: 3.736 @ 6352.62\task: 0.210 @ 6352.63\n",
      "2018-11-02 14:48:53.802925 BTC-USD bid: 2.736 @ 6352.62\task: 0.210 @ 6352.63\n",
      "2018-11-02 14:48:53.804295 BTC-USD bid: 2.736 @ 6352.62\task: 1.210 @ 6352.63\n",
      "2018-11-02 14:48:54.374570 BTC-USD bid: 2.736 @ 6352.62\task: 1.209 @ 6352.63\n",
      "2018-11-02 14:48:54.591723 BTC-USD bid: 2.736 @ 6352.62\task: 1.179 @ 6352.63\n",
      "2018-11-02 14:48:54.608272 BTC-USD bid: 2.986 @ 6352.62\task: 1.179 @ 6352.63\n",
      "2018-11-02 14:48:56.285560 BTC-USD bid: 2.736 @ 6352.62\task: 1.179 @ 6352.63\n",
      "2018-11-02 14:48:56.303622 BTC-USD bid: 2.736 @ 6352.62\task: 1.219 @ 6352.63\n",
      "\n",
      "-- OrderBook Socket Closed! --\n"
     ]
    },
    {
     "ename": "SystemExit",
     "evalue": "0",
     "output_type": "error",
     "traceback": [
      "An exception has occurred, use %tb to see the full traceback.\n",
      "\u001b[0;31mSystemExit\u001b[0m\u001b[0;31m:\u001b[0m 0\n"
     ]
    },
    {
     "name": "stderr",
     "output_type": "stream",
     "text": [
      "/Users/hangmiao/anaconda/lib/python3.6/site-packages/IPython/core/interactiveshell.py:2969: UserWarning: To exit: use 'exit', 'quit', or Ctrl-D.\n",
      "  warn(\"To exit: use 'exit', 'quit', or Ctrl-D.\", stacklevel=1)\n"
     ]
    }
   ],
   "source": [
    "import sys\n",
    "import cbpro\n",
    "import time\n",
    "import datetime as dt\n",
    "\n",
    "\n",
    "class OrderBookConsole(cbpro.OrderBook):\n",
    "    #''' Logs real-time changes to the bid-ask spread to the console '''\n",
    "\n",
    "    def __init__(self, product_id=None):\n",
    "        super(OrderBookConsole, self).__init__(product_id=product_id)\n",
    "\n",
    "        # latest values of bid-ask spread\n",
    "        self._bid = None\n",
    "        self._ask = None\n",
    "        self._bid_depth = None\n",
    "        self._ask_depth = None\n",
    "\n",
    "    def on_message(self, message):\n",
    "        super(OrderBookConsole, self).on_message(message)\n",
    "\n",
    "        # Calculate newest bid-ask spread\n",
    "        bid = self.get_bid()\n",
    "        bids = self.get_bids(bid)\n",
    "        bid_depth = sum([b['size'] for b in bids])\n",
    "        ask = self.get_ask()\n",
    "        asks = self.get_asks(ask)\n",
    "        ask_depth = sum([a['size'] for a in asks])\n",
    "\n",
    "        if self._bid == bid and self._ask == ask and self._bid_depth == bid_depth and self._ask_depth == ask_depth:\n",
    "            # If there are no changes to the bid-ask spread since the last update, no need to print\n",
    "            pass\n",
    "        else:\n",
    "            # If there are differences, update the cache\n",
    "            self._bid = bid\n",
    "            self._ask = ask\n",
    "            self._bid_depth = bid_depth\n",
    "            self._ask_depth = ask_depth\n",
    "            print('{} {} bid: {:.3f} @ {:.2f}\\task: {:.3f} @ {:.2f}'.format(\n",
    "                dt.datetime.now(), self.product_id, bid_depth, bid, ask_depth, ask))\n",
    "\n",
    "order_book = OrderBookConsole()\n",
    "order_book.start()\n",
    "try:\n",
    "    while True:\n",
    "        time.sleep(10)\n",
    "except KeyboardInterrupt:\n",
    "    order_book.close()\n",
    "\n",
    "if order_book.error:\n",
    "    sys.exit(1)\n",
    "else:\n",
    "    sys.exit(0)\n",
    "\n",
    "order_book = OrderBookConsole()\n",
    "order_book.start()\n",
    "try:\n",
    "    while True:\n",
    "        time.sleep(10)\n",
    "except KeyboardInterrupt:\n",
    "    order_book.close()\n",
    "\n",
    "if order_book.error:\n",
    "    sys.exit(1)\n",
    "else:\n",
    "    sys.exit(0)"
   ]
  },
  {
   "cell_type": "markdown",
   "metadata": {},
   "source": [
    "### Bitstamps<a name=\"bitstamps\"></a>"
   ]
  },
  {
   "cell_type": "markdown",
   "metadata": {},
   "source": [
    "### Pusher WebSocket <a name=\"pusher\"></a>"
   ]
  },
  {
   "cell_type": "code",
   "execution_count": null,
   "metadata": {},
   "outputs": [],
   "source": [
    "import time, json\n",
    "import datetime as dt\n",
    "from datetime import datetime\n",
    "import pusherclient\n",
    "     \n",
    "pusher = pusherclient.Pusher(\"de504dc5763aeef9ff52\")\n",
    "\n",
    "def connect_handler(data):\n",
    "    trades_channel= pusher.subscribe('live_orders')\n",
    "    Order_Type = ['order_created', 'order_changed', 'order_deleted']\n",
    "    #for i in Order_Type\n",
    "    trades_channel.bind(Order_Type[0],connection_callback_create)\n",
    "    trades_channel.bind(Order_Type[1],connection_callback_changed)\n",
    "    trades_channel.bind(Order_Type[2],connection_callback_deleted)\n",
    "    print('connect_handler called')\n",
    "    \n",
    "def connection_callback_create(data):\n",
    "    msg = json.loads(data)\n",
    "    msg['type'] = 'order_created'\n",
    "    #BTCUSD.insert_one(msg)\n",
    "    print(msg)\n",
    "def connection_callback_changed(data):\n",
    "\n",
    "    msg = json.loads(data)\n",
    "    msg['type'] = 'order_changed'\n",
    "    #BTCUSD.insert_one(msg)\n",
    "    print(msg)\n",
    "def connection_callback_deleted(data):\n",
    "\n",
    "    msg = json.loads(data)\n",
    "    msg['type'] = 'order_deleted'\n",
    "    #BTCUSD.insert_one(msg)\n",
    "    print(msg)\n",
    "    \n",
    "    \n",
    "pusher.connection.bind('pusher:connection_established', connect_handler)\n",
    "pusher.connect()\n"
   ]
  },
  {
   "cell_type": "markdown",
   "metadata": {},
   "source": [
    "## Equity API <a name=\"equity\"></a>"
   ]
  },
  {
   "cell_type": "markdown",
   "metadata": {},
   "source": [
    "### Webreader <a name=\"webreader\"></a>"
   ]
  },
  {
   "cell_type": "code",
   "execution_count": 30,
   "metadata": {},
   "outputs": [],
   "source": [
    "import datetime as dt\n",
    "import matplotlib.pyplot as plt\n",
    "from matplotlib import style\n",
    "import pandas as pd\n",
    "import pandas_datareader.data as web"
   ]
  },
  {
   "cell_type": "code",
   "execution_count": 69,
   "metadata": {},
   "outputs": [],
   "source": [
    "style.use('ggplot')"
   ]
  },
  {
   "cell_type": "code",
   "execution_count": 70,
   "metadata": {},
   "outputs": [],
   "source": [
    "start = dt.datetime(2000,1,1)\n",
    "end = dt.datetime(2016,12,31)"
   ]
  },
  {
   "cell_type": "code",
   "execution_count": 33,
   "metadata": {},
   "outputs": [],
   "source": [
    "df = web.DataReader('TSLA', 'yahoo',start)"
   ]
  },
  {
   "cell_type": "code",
   "execution_count": 34,
   "metadata": {},
   "outputs": [
    {
     "data": {
      "text/html": [
       "<div>\n",
       "<style scoped>\n",
       "    .dataframe tbody tr th:only-of-type {\n",
       "        vertical-align: middle;\n",
       "    }\n",
       "\n",
       "    .dataframe tbody tr th {\n",
       "        vertical-align: top;\n",
       "    }\n",
       "\n",
       "    .dataframe thead th {\n",
       "        text-align: right;\n",
       "    }\n",
       "</style>\n",
       "<table border=\"1\" class=\"dataframe\">\n",
       "  <thead>\n",
       "    <tr style=\"text-align: right;\">\n",
       "      <th></th>\n",
       "      <th>High</th>\n",
       "      <th>Low</th>\n",
       "      <th>Open</th>\n",
       "      <th>Close</th>\n",
       "      <th>Volume</th>\n",
       "      <th>Adj Close</th>\n",
       "    </tr>\n",
       "    <tr>\n",
       "      <th>Date</th>\n",
       "      <th></th>\n",
       "      <th></th>\n",
       "      <th></th>\n",
       "      <th></th>\n",
       "      <th></th>\n",
       "      <th></th>\n",
       "    </tr>\n",
       "  </thead>\n",
       "  <tbody>\n",
       "    <tr>\n",
       "      <th>2018-10-29</th>\n",
       "      <td>347.160004</td>\n",
       "      <td>326.500000</td>\n",
       "      <td>337.470001</td>\n",
       "      <td>334.850006</td>\n",
       "      <td>14486000</td>\n",
       "      <td>334.850006</td>\n",
       "    </tr>\n",
       "    <tr>\n",
       "      <th>2018-10-30</th>\n",
       "      <td>337.899994</td>\n",
       "      <td>322.260010</td>\n",
       "      <td>328.390015</td>\n",
       "      <td>329.899994</td>\n",
       "      <td>9126700</td>\n",
       "      <td>329.899994</td>\n",
       "    </tr>\n",
       "    <tr>\n",
       "      <th>2018-10-31</th>\n",
       "      <td>342.000000</td>\n",
       "      <td>329.100006</td>\n",
       "      <td>332.540009</td>\n",
       "      <td>337.320007</td>\n",
       "      <td>7624300</td>\n",
       "      <td>337.320007</td>\n",
       "    </tr>\n",
       "    <tr>\n",
       "      <th>2018-11-01</th>\n",
       "      <td>347.839996</td>\n",
       "      <td>334.730011</td>\n",
       "      <td>338.260010</td>\n",
       "      <td>344.279999</td>\n",
       "      <td>7991100</td>\n",
       "      <td>344.279999</td>\n",
       "    </tr>\n",
       "    <tr>\n",
       "      <th>2018-11-02</th>\n",
       "      <td>349.190002</td>\n",
       "      <td>341.109985</td>\n",
       "      <td>343.739990</td>\n",
       "      <td>343.769989</td>\n",
       "      <td>4253564</td>\n",
       "      <td>343.769989</td>\n",
       "    </tr>\n",
       "  </tbody>\n",
       "</table>\n",
       "</div>"
      ],
      "text/plain": [
       "                  High         Low        Open       Close    Volume  \\\n",
       "Date                                                                   \n",
       "2018-10-29  347.160004  326.500000  337.470001  334.850006  14486000   \n",
       "2018-10-30  337.899994  322.260010  328.390015  329.899994   9126700   \n",
       "2018-10-31  342.000000  329.100006  332.540009  337.320007   7624300   \n",
       "2018-11-01  347.839996  334.730011  338.260010  344.279999   7991100   \n",
       "2018-11-02  349.190002  341.109985  343.739990  343.769989   4253564   \n",
       "\n",
       "             Adj Close  \n",
       "Date                    \n",
       "2018-10-29  334.850006  \n",
       "2018-10-30  329.899994  \n",
       "2018-10-31  337.320007  \n",
       "2018-11-01  344.279999  \n",
       "2018-11-02  343.769989  "
      ]
     },
     "execution_count": 34,
     "metadata": {},
     "output_type": "execute_result"
    }
   ],
   "source": [
    "df.tail(5)"
   ]
  },
  {
   "cell_type": "code",
   "execution_count": 35,
   "metadata": {},
   "outputs": [],
   "source": [
    "df.to_csv('tsla.csv')"
   ]
  },
  {
   "cell_type": "code",
   "execution_count": 38,
   "metadata": {},
   "outputs": [
    {
     "data": {
      "text/plain": [
       "<matplotlib.axes._subplots.AxesSubplot at 0x11c77d668>"
      ]
     },
     "execution_count": 38,
     "metadata": {},
     "output_type": "execute_result"
    },
    {
     "data": {
      "image/png": "[encoded data removed]",
      "text/plain": [
       "<Figure size 432x288 with 1 Axes>"
      ]
     },
     "metadata": {},
     "output_type": "display_data"
    }
   ],
   "source": [
    "df['Adj Close'].plot()"
   ]
  },
  {
   "cell_type": "markdown",
   "metadata": {},
   "source": [
    "### Quandl <a name=\"quandl\"></a>"
   ]
  },
  {
   "cell_type": "code",
   "execution_count": 14,
   "metadata": {},
   "outputs": [
    {
     "data": {
      "text/html": [
       "<div>\n",
       "<style scoped>\n",
       "    .dataframe tbody tr th:only-of-type {\n",
       "        vertical-align: middle;\n",
       "    }\n",
       "\n",
       "    .dataframe tbody tr th {\n",
       "        vertical-align: top;\n",
       "    }\n",
       "\n",
       "    .dataframe thead th {\n",
       "        text-align: right;\n",
       "    }\n",
       "</style>\n",
       "<table border=\"1\" class=\"dataframe\">\n",
       "  <thead>\n",
       "    <tr style=\"text-align: right;\">\n",
       "      <th></th>\n",
       "      <th>Open</th>\n",
       "      <th>High</th>\n",
       "      <th>Low</th>\n",
       "      <th>Close</th>\n",
       "      <th>Volume</th>\n",
       "      <th>Ex-Dividend</th>\n",
       "      <th>Split Ratio</th>\n",
       "      <th>Adj. Open</th>\n",
       "      <th>Adj. High</th>\n",
       "      <th>Adj. Low</th>\n",
       "      <th>Adj. Close</th>\n",
       "      <th>Adj. Volume</th>\n",
       "    </tr>\n",
       "    <tr>\n",
       "      <th>Date</th>\n",
       "      <th></th>\n",
       "      <th></th>\n",
       "      <th></th>\n",
       "      <th></th>\n",
       "      <th></th>\n",
       "      <th></th>\n",
       "      <th></th>\n",
       "      <th></th>\n",
       "      <th></th>\n",
       "      <th></th>\n",
       "      <th></th>\n",
       "      <th></th>\n",
       "    </tr>\n",
       "  </thead>\n",
       "  <tbody>\n",
       "    <tr>\n",
       "      <th>2010-11-18</th>\n",
       "      <td>35.00</td>\n",
       "      <td>35.99</td>\n",
       "      <td>33.89</td>\n",
       "      <td>34.19</td>\n",
       "      <td>457044300.0</td>\n",
       "      <td>0.0</td>\n",
       "      <td>1.0</td>\n",
       "      <td>29.988317</td>\n",
       "      <td>30.836558</td>\n",
       "      <td>29.037259</td>\n",
       "      <td>29.294302</td>\n",
       "      <td>457044300.0</td>\n",
       "    </tr>\n",
       "    <tr>\n",
       "      <th>2010-11-19</th>\n",
       "      <td>34.15</td>\n",
       "      <td>34.50</td>\n",
       "      <td>33.11</td>\n",
       "      <td>34.26</td>\n",
       "      <td>107842000.0</td>\n",
       "      <td>0.0</td>\n",
       "      <td>1.0</td>\n",
       "      <td>29.260029</td>\n",
       "      <td>29.559912</td>\n",
       "      <td>28.368948</td>\n",
       "      <td>29.354278</td>\n",
       "      <td>107842000.0</td>\n",
       "    </tr>\n",
       "    <tr>\n",
       "      <th>2010-11-22</th>\n",
       "      <td>34.20</td>\n",
       "      <td>34.48</td>\n",
       "      <td>33.81</td>\n",
       "      <td>34.08</td>\n",
       "      <td>36650600.0</td>\n",
       "      <td>0.0</td>\n",
       "      <td>1.0</td>\n",
       "      <td>29.302870</td>\n",
       "      <td>29.542776</td>\n",
       "      <td>28.968714</td>\n",
       "      <td>29.200053</td>\n",
       "      <td>36650600.0</td>\n",
       "    </tr>\n",
       "    <tr>\n",
       "      <th>2010-11-23</th>\n",
       "      <td>33.95</td>\n",
       "      <td>33.99</td>\n",
       "      <td>33.19</td>\n",
       "      <td>33.25</td>\n",
       "      <td>31170200.0</td>\n",
       "      <td>0.0</td>\n",
       "      <td>1.0</td>\n",
       "      <td>29.088668</td>\n",
       "      <td>29.122940</td>\n",
       "      <td>28.437493</td>\n",
       "      <td>28.488901</td>\n",
       "      <td>31170200.0</td>\n",
       "    </tr>\n",
       "    <tr>\n",
       "      <th>2010-11-24</th>\n",
       "      <td>33.73</td>\n",
       "      <td>33.80</td>\n",
       "      <td>33.22</td>\n",
       "      <td>33.48</td>\n",
       "      <td>26138000.0</td>\n",
       "      <td>0.0</td>\n",
       "      <td>1.0</td>\n",
       "      <td>28.900170</td>\n",
       "      <td>28.960146</td>\n",
       "      <td>28.463197</td>\n",
       "      <td>28.685967</td>\n",
       "      <td>26138000.0</td>\n",
       "    </tr>\n",
       "  </tbody>\n",
       "</table>\n",
       "</div>"
      ],
      "text/plain": [
       "             Open   High    Low  Close       Volume  Ex-Dividend  Split Ratio  \\\n",
       "Date                                                                            \n",
       "2010-11-18  35.00  35.99  33.89  34.19  457044300.0          0.0          1.0   \n",
       "2010-11-19  34.15  34.50  33.11  34.26  107842000.0          0.0          1.0   \n",
       "2010-11-22  34.20  34.48  33.81  34.08   36650600.0          0.0          1.0   \n",
       "2010-11-23  33.95  33.99  33.19  33.25   31170200.0          0.0          1.0   \n",
       "2010-11-24  33.73  33.80  33.22  33.48   26138000.0          0.0          1.0   \n",
       "\n",
       "            Adj. Open  Adj. High   Adj. Low  Adj. Close  Adj. Volume  \n",
       "Date                                                                  \n",
       "2010-11-18  29.988317  30.836558  29.037259   29.294302  457044300.0  \n",
       "2010-11-19  29.260029  29.559912  28.368948   29.354278  107842000.0  \n",
       "2010-11-22  29.302870  29.542776  28.968714   29.200053   36650600.0  \n",
       "2010-11-23  29.088668  29.122940  28.437493   28.488901   31170200.0  \n",
       "2010-11-24  28.900170  28.960146  28.463197   28.685967   26138000.0  "
      ]
     },
     "execution_count": 14,
     "metadata": {},
     "output_type": "execute_result"
    }
   ],
   "source": [
    "# quandl for financial data\n",
    "import quandl\n",
    "import matplotlib.pyplot as plt\n",
    "from matplotlib import style\n",
    "import pandas as pd\n",
    "quandl.ApiConfig.api_key = 'ph45jSbzdxfq42ScKnjx'\n",
    "# Retrieve TSLA data from Quandl\n",
    "tesla = quandl.get('WIKI/TSLA')\n",
    "# Retrieve the GM data from Quandl\n",
    "gm = quandl.get('WIKI/GM')\n",
    "gm.head(5)"
   ]
  },
  {
   "cell_type": "code",
   "execution_count": 15,
   "metadata": {},
   "outputs": [
    {
     "name": "stdout",
     "output_type": "stream",
     "text": [
      "<class 'pandas.core.frame.DataFrame'>\n",
      "DatetimeIndex: 1849 entries, 2010-11-18 to 2018-03-27\n",
      "Data columns (total 12 columns):\n",
      "Open           1849 non-null float64\n",
      "High           1849 non-null float64\n",
      "Low            1849 non-null float64\n",
      "Close          1849 non-null float64\n",
      "Volume         1849 non-null float64\n",
      "Ex-Dividend    1849 non-null float64\n",
      "Split Ratio    1849 non-null float64\n",
      "Adj. Open      1849 non-null float64\n",
      "Adj. High      1849 non-null float64\n",
      "Adj. Low       1849 non-null float64\n",
      "Adj. Close     1849 non-null float64\n",
      "Adj. Volume    1849 non-null float64\n",
      "dtypes: float64(12)\n",
      "memory usage: 187.8 KB\n"
     ]
    }
   ],
   "source": [
    "type(gm)\n",
    "gm.describe()\n",
    "gm.info()"
   ]
  },
  {
   "cell_type": "code",
   "execution_count": 16,
   "metadata": {},
   "outputs": [
    {
     "data": {
      "image/png": "[encoded data removed]",
      "text/plain": [
       "<Figure size 432x288 with 1 Axes>"
      ]
     },
     "metadata": {
      "needs_background": "light"
     },
     "output_type": "display_data"
    },
    {
     "data": {
      "image/png": "[encoded data removed]",
      "text/plain": [
       "<Figure size 432x288 with 1 Axes>"
      ]
     },
     "metadata": {
      "needs_background": "light"
     },
     "output_type": "display_data"
    }
   ],
   "source": [
    "plt.plot(gm.index, gm['Adj. Close'])\n",
    "plt.title('GM Stock Price')\n",
    "plt.ylabel('Price ($)');\n",
    "plt.show()\n",
    "plt.plot(tesla.index, tesla['Adj. Close'], 'r')\n",
    "plt.title('Tesla Stock Price')\n",
    "plt.ylabel('Price ($)');\n",
    "plt.show();"
   ]
  },
  {
   "cell_type": "code",
   "execution_count": 17,
   "metadata": {},
   "outputs": [
    {
     "data": {
      "text/plain": [
       "<matplotlib.axes._subplots.AxesSubplot at 0x11cbc9048>"
      ]
     },
     "execution_count": 17,
     "metadata": {},
     "output_type": "execute_result"
    },
    {
     "data": {
      "image/png": "[encoded data removed]",
      "text/plain": [
       "<Figure size 432x288 with 1 Axes>"
      ]
     },
     "metadata": {
      "needs_background": "light"
     },
     "output_type": "display_data"
    }
   ],
   "source": [
    "# import needed libraries\n",
    "import quandl\n",
    "import pandas as pd\n",
    "\n",
    "# add quandl API key for unrestricted\n",
    "#quandl.ApiConfig.api_key = 'INSERT YOU API KEY HERE'\n",
    "quandl.ApiConfig.api_key = 'ph45jSbzdxfq42ScKnjx'\n",
    "\n",
    "# get the table for daily stock prices and,\n",
    "# filter the table for selected tickers, columns within a time range\n",
    "# set paginate to True because Quandl limits tables API to 10,000 rows per call\n",
    "data = quandl.get_table('WIKI/PRICES', ticker = ['AAPL', 'MSFT', 'WMT'], \n",
    "                        qopts = { 'columns': ['ticker', 'date', 'adj_close'] }, \n",
    "                        date = { 'gte': '2015-12-31', 'lte': '2016-12-31' }, \n",
    "                        paginate=True)\n",
    "\n",
    "# create a new dataframe with 'date' column as index\n",
    "new = data.set_index('date')\n",
    "\n",
    "# use pandas pivot function to sort adj_close by tickers\n",
    "clean_data = new.pivot(columns='ticker')\n",
    "clean_data.plot()"
   ]
  },
  {
   "cell_type": "markdown",
   "metadata": {},
   "source": [
    "## Macro Economics API <a name=\"macro\"></a>"
   ]
  },
  {
   "cell_type": "markdown",
   "metadata": {},
   "source": [
    "### FRED <a name=\"fred\"></a>"
   ]
  },
  {
   "cell_type": "code",
   "execution_count": 39,
   "metadata": {},
   "outputs": [],
   "source": [
    "from fredapi import Fred\n",
    "fred = Fred(api_key='6454787ee0ad3d515189b1ff353020f2')"
   ]
  },
  {
   "cell_type": "code",
   "execution_count": 40,
   "metadata": {},
   "outputs": [
    {
     "data": {
      "text/plain": [
       "id                                                                       SP500\n",
       "realtime_start                                                      2018-11-02\n",
       "realtime_end                                                        2018-11-02\n",
       "title                                                                  S&P 500\n",
       "observation_start                                                   2008-10-31\n",
       "observation_end                                                     2018-11-01\n",
       "frequency                                                                Daily\n",
       "frequency_short                                                              D\n",
       "units                                                                    Index\n",
       "units_short                                                              Index\n",
       "seasonal_adjustment                                    Not Seasonally Adjusted\n",
       "seasonal_adjustment_short                                                  NSA\n",
       "last_updated                                            2018-11-01 19:01:03-05\n",
       "popularity                                                                  85\n",
       "notes                        The S&P 500 is regarded as a gauge of the larg...\n",
       "dtype: object"
      ]
     },
     "execution_count": 40,
     "metadata": {},
     "output_type": "execute_result"
    }
   ],
   "source": [
    "# get the summary information about the time series\n",
    "info = fred.get_series_info('SP500')\n",
    "info"
   ]
  },
  {
   "cell_type": "code",
   "execution_count": 41,
   "metadata": {},
   "outputs": [
    {
     "data": {
      "text/plain": [
       "'S&P 500'"
      ]
     },
     "execution_count": 41,
     "metadata": {},
     "output_type": "execute_result"
    }
   ],
   "source": [
    "# accessing each specific catagory\n",
    "info['title']"
   ]
  },
  {
   "cell_type": "code",
   "execution_count": 44,
   "metadata": {},
   "outputs": [],
   "source": [
    "#fetch the SP500 daily data, and store them into the a variable name 'data'\n",
    "data = fred.get_series('SP500')"
   ]
  },
  {
   "cell_type": "code",
   "execution_count": 45,
   "metadata": {},
   "outputs": [
    {
     "data": {
      "text/plain": [
       "2018-10-26    2658.69\n",
       "2018-10-29    2641.25\n",
       "2018-10-30    2682.63\n",
       "2018-10-31    2711.74\n",
       "2018-11-01    2740.37\n",
       "dtype: float64"
      ]
     },
     "execution_count": 45,
     "metadata": {},
     "output_type": "execute_result"
    }
   ],
   "source": [
    "#show the last five row of the data\n",
    "data.tail(5)"
   ]
  },
  {
   "cell_type": "code",
   "execution_count": 46,
   "metadata": {},
   "outputs": [
    {
     "data": {
      "text/plain": [
       "2008-10-31     968.75\n",
       "2008-11-03     966.30\n",
       "2008-11-04    1005.75\n",
       "2008-11-05     952.77\n",
       "2008-11-06     904.88\n",
       "dtype: float64"
      ]
     },
     "execution_count": 46,
     "metadata": {},
     "output_type": "execute_result"
    }
   ],
   "source": [
    "#display the first five row of the data\n",
    "data.head(5)"
   ]
  },
  {
   "cell_type": "code",
   "execution_count": 47,
   "metadata": {},
   "outputs": [
    {
     "data": {
      "text/plain": [
       "2610"
      ]
     },
     "execution_count": 47,
     "metadata": {},
     "output_type": "execute_result"
    }
   ],
   "source": [
    "# length of the data\n",
    "len(data)"
   ]
  },
  {
   "cell_type": "code",
   "execution_count": 48,
   "metadata": {},
   "outputs": [
    {
     "data": {
      "text/plain": [
       "date\n",
       "2017-07-01    19495.5\n",
       "2017-10-01    19738.9\n",
       "2018-01-01    19965.3\n",
       "2018-04-01    20402.5\n",
       "2018-07-01      20659\n",
       "Name: value, dtype: object"
      ]
     },
     "execution_count": 48,
     "metadata": {},
     "output_type": "execute_result"
    }
   ],
   "source": [
    "# They source(Bureau of Economics Analysis) that releases the data(GDP) may later make some revision of the previous released data.\n",
    "# As a result at each timestamp there may be several values from each release.\n",
    "data = fred.get_series_first_release('GDP') #fetch the first relaase version\n",
    "data.tail(5)"
   ]
  },
  {
   "cell_type": "code",
   "execution_count": 32,
   "metadata": {},
   "outputs": [
    {
     "data": {
      "text/plain": [
       "2017-01-01    19057.705\n",
       "2017-04-01    19250.009\n",
       "2017-07-01    19500.602\n",
       "2017-10-01    19754.102\n",
       "2018-01-01    19960.097\n",
       "dtype: float64"
      ]
     },
     "execution_count": 32,
     "metadata": {},
     "output_type": "execute_result"
    }
   ],
   "source": [
    "\n",
    "data = fred.get_series_latest_release('GDP')  #fetch the latest release version\n",
    "data.tail(5)"
   ]
  },
  {
   "cell_type": "code",
   "execution_count": 35,
   "metadata": {},
   "outputs": [
    {
     "data": {
      "text/html": [
       "<div>\n",
       "<style>\n",
       "    .dataframe thead tr:only-child th {\n",
       "        text-align: right;\n",
       "    }\n",
       "\n",
       "    .dataframe thead th {\n",
       "        text-align: left;\n",
       "    }\n",
       "\n",
       "    .dataframe tbody tr th {\n",
       "        vertical-align: top;\n",
       "    }\n",
       "</style>\n",
       "<table border=\"1\" class=\"dataframe\">\n",
       "  <thead>\n",
       "    <tr style=\"text-align: right;\">\n",
       "      <th></th>\n",
       "      <th>date</th>\n",
       "      <th>realtime_start</th>\n",
       "      <th>value</th>\n",
       "    </tr>\n",
       "  </thead>\n",
       "  <tbody>\n",
       "    <tr>\n",
       "      <th>2606</th>\n",
       "      <td>2017-10-01 00:00:00</td>\n",
       "      <td>2018-02-28 00:00:00</td>\n",
       "      <td>19736.5</td>\n",
       "    </tr>\n",
       "    <tr>\n",
       "      <th>2607</th>\n",
       "      <td>2017-10-01 00:00:00</td>\n",
       "      <td>2018-03-28 00:00:00</td>\n",
       "      <td>19754.1</td>\n",
       "    </tr>\n",
       "    <tr>\n",
       "      <th>2608</th>\n",
       "      <td>2018-01-01 00:00:00</td>\n",
       "      <td>2018-04-27 00:00:00</td>\n",
       "      <td>19965.3</td>\n",
       "    </tr>\n",
       "    <tr>\n",
       "      <th>2609</th>\n",
       "      <td>2018-01-01 00:00:00</td>\n",
       "      <td>2018-05-30 00:00:00</td>\n",
       "      <td>19956.8</td>\n",
       "    </tr>\n",
       "    <tr>\n",
       "      <th>2610</th>\n",
       "      <td>2018-01-01 00:00:00</td>\n",
       "      <td>2018-06-28 00:00:00</td>\n",
       "      <td>19960.1</td>\n",
       "    </tr>\n",
       "  </tbody>\n",
       "</table>\n",
       "</div>"
      ],
      "text/plain": [
       "                     date       realtime_start    value\n",
       "2606  2017-10-01 00:00:00  2018-02-28 00:00:00  19736.5\n",
       "2607  2017-10-01 00:00:00  2018-03-28 00:00:00  19754.1\n",
       "2608  2018-01-01 00:00:00  2018-04-27 00:00:00  19965.3\n",
       "2609  2018-01-01 00:00:00  2018-05-30 00:00:00  19956.8\n",
       "2610  2018-01-01 00:00:00  2018-06-28 00:00:00  19960.1"
      ]
     },
     "execution_count": 35,
     "metadata": {},
     "output_type": "execute_result"
    }
   ],
   "source": [
    "#fetch all the released data\n",
    "df = fred.get_series_all_releases('GDP')\n",
    "df.tail()"
   ]
  },
  {
   "cell_type": "code",
   "execution_count": 33,
   "metadata": {},
   "outputs": [
    {
     "data": {
      "text/plain": [
       "2017-01-01    19057.705\n",
       "2017-04-01    19250.009\n",
       "2017-07-01    19500.602\n",
       "2017-10-01    19754.102\n",
       "2018-01-01    19960.097\n",
       "dtype: float64"
      ]
     },
     "execution_count": 33,
     "metadata": {},
     "output_type": "execute_result"
    }
   ],
   "source": [
    "# The 'get_series' method will give you the latest release at each timestamp\n",
    "data = fred.get_series('GDP') \n",
    "data.tail(5)"
   ]
  },
  {
   "cell_type": "code",
   "execution_count": null,
   "metadata": {
    "collapsed": true
   },
   "outputs": [],
   "source": []
  },
  {
   "cell_type": "markdown",
   "metadata": {},
   "source": [
    "#### Display Setting"
   ]
  },
  {
   "cell_type": "code",
   "execution_count": 49,
   "metadata": {},
   "outputs": [],
   "source": [
    "#Setting for pandas\n",
    "import pandas as pd\n",
    "#pd.options.display.max_colwidth = 60"
   ]
  },
  {
   "cell_type": "code",
   "execution_count": 50,
   "metadata": {},
   "outputs": [],
   "source": [
    "#setting for matplotlib\n",
    "%matplotlib inline\n",
    "import matplotlib.pyplot as plt\n",
    "from IPython.core.pylabtools import figsize\n",
    "figsize(20, 5)"
   ]
  },
  {
   "cell_type": "code",
   "execution_count": 51,
   "metadata": {},
   "outputs": [
    {
     "data": {
      "text/plain": [
       "2014-09-02    2002.28\n",
       "2014-09-03    2000.72\n",
       "2014-09-04    1997.65\n",
       "2014-09-05    2007.71\n",
       "dtype: float64"
      ]
     },
     "execution_count": 51,
     "metadata": {},
     "output_type": "execute_result"
    }
   ],
   "source": [
    "# fetch the series in any specific period of time\n",
    "s = fred.get_series('SP500', observation_start='2014-09-02', observation_end='2014-09-05')\n",
    "s.tail()"
   ]
  },
  {
   "cell_type": "code",
   "execution_count": 52,
   "metadata": {},
   "outputs": [
    {
     "data": {
      "text/plain": [
       "2018-10-26    2658.69\n",
       "2018-10-29    2641.25\n",
       "2018-10-30    2682.63\n",
       "2018-10-31    2711.74\n",
       "2018-11-01    2740.37\n",
       "dtype: float64"
      ]
     },
     "execution_count": 52,
     "metadata": {},
     "output_type": "execute_result"
    }
   ],
   "source": [
    "s = fred.get_series('SP500')\n",
    "s.tail()"
   ]
  },
  {
   "cell_type": "code",
   "execution_count": 53,
   "metadata": {},
   "outputs": [
    {
     "data": {
      "text/plain": [
       "[<matplotlib.lines.Line2D at 0x11dc27940>]"
      ]
     },
     "execution_count": 53,
     "metadata": {},
     "output_type": "execute_result"
    },
    {
     "data": {
      "image/png": "[encoded data removed]",
      "text/plain": [
       "<Figure size 1440x360 with 1 Axes>"
      ]
     },
     "metadata": {
      "needs_background": "light"
     },
     "output_type": "display_data"
    }
   ],
   "source": [
    "plt.plot(s)"
   ]
  },
  {
   "cell_type": "markdown",
   "metadata": {},
   "source": [
    "## Case Study: Concat Historical GDP data and GDP from FRED <a name=\"case\"></a>"
   ]
  },
  {
   "cell_type": "markdown",
   "metadata": {},
   "source": [
    "The first one is merging the historical data with the data pulled from FRED. The reason we want to do that is because Bureau of Economics Analysis(BEA) only provide the GDP data starting from 1930 and some of the data before 1960 is incomplete. That is why we see a lot NaN(missing or unavailable data) before 1960s. Fortunately, renowned historian Economists like [Michael Bordo]( https://sites.google.com/site/michaelbordo/ \"click to go to the detailted describtion\") and [Hugh Rockoff]( http://econweb.rutgers.edu/rockoff/ \"click to go to the detailted describtion\") synthesize the previous estimated historical data so we could combine their synthesized historical data with the latest data that we fetched from FRED together. As a result we have a much longer range of annual data from 1880-2018 instead of 1950 - 2018. \n",
    "<br>\n",
    "<br>\n",
    "The second one is providing two different method to compute the growth rate of the GDP. These are 'Percentage change method' and 'log difference method'. The 'Percentage change method' is derived directly from the growth rate definition: $ r_t = \\frac{GDP_{t+1}-GDP_t }{GDP_t}$. The log difference method' is an estimation of growth rate where $ r_t = log(GDP_{t+1}) - log(GDP_{t}) $. In class I will show you the proof why these two method are equivalent under the condition that $GDP_{t+1}$ is not deviate too far from $GDP_t$. From the plot we see the two growth series coincide with each other except in the period of Great depression (nevertheless, even in such extreme case 'Log Difference' method is still a good estimation of the growth rate). \n",
    "<br>\n",
    "<br>\n",
    "The third one is obtaining the summary statistics of growth rate series. i.e the mean, variance, max, min and the quantiles."
   ]
  },
  {
   "cell_type": "code",
   "execution_count": 1,
   "metadata": {
    "collapsed": true
   },
   "outputs": [],
   "source": [
    "import pandas as pd\n",
    "import numpy as np\n",
    "from math import sqrt\n",
    "from math import log"
   ]
  },
  {
   "cell_type": "code",
   "execution_count": 2,
   "metadata": {},
   "outputs": [
    {
     "name": "stdout",
     "output_type": "stream",
     "text": [
      "1.14.5\n",
      "0.23.2\n"
     ]
    }
   ],
   "source": [
    "print(np.__version__)\n",
    "print(pd.__version__)"
   ]
  },
  {
   "cell_type": "code",
   "execution_count": 3,
   "metadata": {
    "collapsed": true
   },
   "outputs": [],
   "source": [
    "#setting for \n",
    "%matplotlib inline\n",
    "import matplotlib.pyplot as plt\n",
    "from IPython.core.pylabtools import figsize\n",
    "#figsize(20, 5)\n",
    "figsize(20, 5)\n",
    "#plt.rcParams['axes.labelsize'] = 20"
   ]
  },
  {
   "cell_type": "code",
   "execution_count": 4,
   "metadata": {
    "collapsed": true
   },
   "outputs": [],
   "source": [
    "from fredapi import Fred\n",
    "fred = Fred(api_key='6454787ee0ad3d515189b1ff353020f2')"
   ]
  },
  {
   "cell_type": "markdown",
   "metadata": {},
   "source": [
    "#### Clean Historical US GDP data from [Michael Bordo]( https://sites.google.com/site/michaelbordo/ \"click to go to the detailted describtion\") 's Historical data excel file.\n",
    "[Data Source]( https://sites.google.com/site/michaelbordo/home4 \"click to go to the detailted describtion\") \n",
    "\n",
    "<br>\n",
    "Please put the excel file 'allc1880n2.xls' into the same folder where this notebook located."
   ]
  },
  {
   "cell_type": "code",
   "execution_count": 5,
   "metadata": {
    "collapsed": true
   },
   "outputs": [],
   "source": [
    "\n",
    "#'allc1880n2.xls' contains several countries historical data, \n",
    "# it has three levels of indices which are Country id, Country name, and Year\n",
    "# pd.read_excel: read excel historical data file from 'allc1880n2.xls', and convert to dataframe. \n",
    "# 'header= ' tells python which rows are the column names not data itself\n",
    "# 'index_col= ' tells python which columns are index not data itself\n",
    "\n",
    "Macro_histo = pd.read_excel('allc1880n2.xls',sheet_name='updated',\n",
    "                            header=[0],index_col = [0,1,2] )"
   ]
  },
  {
   "cell_type": "code",
   "execution_count": 6,
   "metadata": {},
   "outputs": [
    {
     "data": {
      "text/html": [
       "<div>\n",
       "<style scoped>\n",
       "    .dataframe tbody tr th:only-of-type {\n",
       "        vertical-align: middle;\n",
       "    }\n",
       "\n",
       "    .dataframe tbody tr th {\n",
       "        vertical-align: top;\n",
       "    }\n",
       "\n",
       "    .dataframe thead th {\n",
       "        text-align: right;\n",
       "    }\n",
       "</style>\n",
       "<table border=\"1\" class=\"dataframe\">\n",
       "  <thead>\n",
       "    <tr style=\"text-align: right;\">\n",
       "      <th></th>\n",
       "      <th></th>\n",
       "      <th></th>\n",
       "      <th>nGDP</th>\n",
       "      <th>gsugdp</th>\n",
       "      <th>infl</th>\n",
       "      <th>rgdpNEW</th>\n",
       "      <th>rgdpgr</th>\n",
       "      <th>tot</th>\n",
       "      <th>totch</th>\n",
       "      <th>trbgdp</th>\n",
       "      <th>debtgdp</th>\n",
       "      <th>monagglc</th>\n",
       "      <th>...</th>\n",
       "      <th>Depfrz</th>\n",
       "      <th>forbA</th>\n",
       "      <th>forbB</th>\n",
       "      <th>forbC</th>\n",
       "      <th>PubAMC</th>\n",
       "      <th>PDRP</th>\n",
       "      <th>BankStr</th>\n",
       "      <th>UBI</th>\n",
       "      <th>ubin</th>\n",
       "      <th>Branch</th>\n",
       "    </tr>\n",
       "    <tr>\n",
       "      <th>id</th>\n",
       "      <th>Country</th>\n",
       "      <th>Year</th>\n",
       "      <th></th>\n",
       "      <th></th>\n",
       "      <th></th>\n",
       "      <th></th>\n",
       "      <th></th>\n",
       "      <th></th>\n",
       "      <th></th>\n",
       "      <th></th>\n",
       "      <th></th>\n",
       "      <th></th>\n",
       "      <th></th>\n",
       "      <th></th>\n",
       "      <th></th>\n",
       "      <th></th>\n",
       "      <th></th>\n",
       "      <th></th>\n",
       "      <th></th>\n",
       "      <th></th>\n",
       "      <th></th>\n",
       "      <th></th>\n",
       "      <th></th>\n",
       "    </tr>\n",
       "  </thead>\n",
       "  <tbody>\n",
       "    <tr>\n",
       "      <th rowspan=\"5\" valign=\"top\">1</th>\n",
       "      <th rowspan=\"5\" valign=\"top\">Argentina</th>\n",
       "      <th>1880</th>\n",
       "      <td>.</td>\n",
       "      <td>.</td>\n",
       "      <td>NaN</td>\n",
       "      <td>.</td>\n",
       "      <td>NaN</td>\n",
       "      <td>.</td>\n",
       "      <td>.</td>\n",
       "      <td>.</td>\n",
       "      <td>.</td>\n",
       "      <td>.</td>\n",
       "      <td>...</td>\n",
       "      <td>.</td>\n",
       "      <td>.</td>\n",
       "      <td>.</td>\n",
       "      <td>.</td>\n",
       "      <td>.</td>\n",
       "      <td>.</td>\n",
       "      <td>.</td>\n",
       "      <td>1</td>\n",
       "      <td>1</td>\n",
       "      <td>1</td>\n",
       "    </tr>\n",
       "    <tr>\n",
       "      <th>1881</th>\n",
       "      <td>.</td>\n",
       "      <td>.</td>\n",
       "      <td>NaN</td>\n",
       "      <td>.</td>\n",
       "      <td>NaN</td>\n",
       "      <td>.</td>\n",
       "      <td>.</td>\n",
       "      <td>.</td>\n",
       "      <td>.</td>\n",
       "      <td>.</td>\n",
       "      <td>...</td>\n",
       "      <td>.</td>\n",
       "      <td>.</td>\n",
       "      <td>.</td>\n",
       "      <td>.</td>\n",
       "      <td>.</td>\n",
       "      <td>.</td>\n",
       "      <td>.</td>\n",
       "      <td>1</td>\n",
       "      <td>1</td>\n",
       "      <td>1</td>\n",
       "    </tr>\n",
       "    <tr>\n",
       "      <th>1882</th>\n",
       "      <td>.</td>\n",
       "      <td>.</td>\n",
       "      <td>NaN</td>\n",
       "      <td>.</td>\n",
       "      <td>NaN</td>\n",
       "      <td>.</td>\n",
       "      <td>.</td>\n",
       "      <td>.</td>\n",
       "      <td>.</td>\n",
       "      <td>.</td>\n",
       "      <td>...</td>\n",
       "      <td>.</td>\n",
       "      <td>.</td>\n",
       "      <td>.</td>\n",
       "      <td>.</td>\n",
       "      <td>.</td>\n",
       "      <td>.</td>\n",
       "      <td>.</td>\n",
       "      <td>1</td>\n",
       "      <td>1</td>\n",
       "      <td>1</td>\n",
       "    </tr>\n",
       "    <tr>\n",
       "      <th>1883</th>\n",
       "      <td>.</td>\n",
       "      <td>.</td>\n",
       "      <td>NaN</td>\n",
       "      <td>.</td>\n",
       "      <td>NaN</td>\n",
       "      <td>.</td>\n",
       "      <td>.</td>\n",
       "      <td>.</td>\n",
       "      <td>.</td>\n",
       "      <td>.</td>\n",
       "      <td>...</td>\n",
       "      <td>.</td>\n",
       "      <td>.</td>\n",
       "      <td>.</td>\n",
       "      <td>.</td>\n",
       "      <td>.</td>\n",
       "      <td>.</td>\n",
       "      <td>.</td>\n",
       "      <td>1</td>\n",
       "      <td>1</td>\n",
       "      <td>1</td>\n",
       "    </tr>\n",
       "    <tr>\n",
       "      <th>1884</th>\n",
       "      <td>370000000</td>\n",
       "      <td>-4.91892</td>\n",
       "      <td>NaN</td>\n",
       "      <td>797678275290215612416</td>\n",
       "      <td>NaN</td>\n",
       "      <td>101.1</td>\n",
       "      <td>.</td>\n",
       "      <td>-7.02703</td>\n",
       "      <td>.</td>\n",
       "      <td>1.00633e+08</td>\n",
       "      <td>...</td>\n",
       "      <td>.</td>\n",
       "      <td>.</td>\n",
       "      <td>.</td>\n",
       "      <td>.</td>\n",
       "      <td>.</td>\n",
       "      <td>.</td>\n",
       "      <td>.</td>\n",
       "      <td>1</td>\n",
       "      <td>1</td>\n",
       "      <td>1</td>\n",
       "    </tr>\n",
       "  </tbody>\n",
       "</table>\n",
       "<p>5 rows × 79 columns</p>\n",
       "</div>"
      ],
      "text/plain": [
       "                        nGDP   gsugdp infl                rgdpNEW rgdpgr  \\\n",
       "id Country   Year                                                          \n",
       "1  Argentina 1880          .        .  NaN                      .    NaN   \n",
       "             1881          .        .  NaN                      .    NaN   \n",
       "             1882          .        .  NaN                      .    NaN   \n",
       "             1883          .        .  NaN                      .    NaN   \n",
       "             1884  370000000 -4.91892  NaN  797678275290215612416    NaN   \n",
       "\n",
       "                     tot totch   trbgdp debtgdp     monagglc  ...   Depfrz  \\\n",
       "id Country   Year                                             ...            \n",
       "1  Argentina 1880      .     .        .       .            .  ...        .   \n",
       "             1881      .     .        .       .            .  ...        .   \n",
       "             1882      .     .        .       .            .  ...        .   \n",
       "             1883      .     .        .       .            .  ...        .   \n",
       "             1884  101.1     . -7.02703       .  1.00633e+08  ...        .   \n",
       "\n",
       "                  forbA forbB forbC PubAMC PDRP BankStr UBI ubin Branch  \n",
       "id Country   Year                                                        \n",
       "1  Argentina 1880     .     .     .      .    .       .   1    1      1  \n",
       "             1881     .     .     .      .    .       .   1    1      1  \n",
       "             1882     .     .     .      .    .       .   1    1      1  \n",
       "             1883     .     .     .      .    .       .   1    1      1  \n",
       "             1884     .     .     .      .    .       .   1    1      1  \n",
       "\n",
       "[5 rows x 79 columns]"
      ]
     },
     "execution_count": 6,
     "metadata": {},
     "output_type": "execute_result"
    }
   ],
   "source": [
    "Macro_histo.head(5)"
   ]
  },
  {
   "cell_type": "code",
   "execution_count": 7,
   "metadata": {},
   "outputs": [
    {
     "name": "stdout",
     "output_type": "stream",
     "text": [
      "Int64Index([ 1,  2,  3,  4,  5,  6,  7,  8,  9, 10, 11, 12, 13, 14, 15, 16, 17,\n",
      "            18, 19, 20, 21, 22, 23, 24, 25, 26, 27, 28, 29, 30, 31, 32, 33, 34,\n",
      "            35, 36, 37, 38, 39, 40, 41, 42, 43, 44, 45, 46, 47, 48, 49, 50, 51,\n",
      "            52, 53, 54, 55, 56],\n",
      "           dtype='int64', name='id')\n",
      "Index(['Argentina', 'Australia', 'Austria', 'Bangladesh', 'Belgium', 'Brazil',\n",
      "       'COLOMBIA', 'COSTA RICA', 'COTE D'IVOIRE', 'Canada', 'Chile', 'China',\n",
      "       'Denmark', 'ECUADOR', 'EGYPT', 'Finland', 'France', 'GHANA', 'Germany',\n",
      "       'Greece', 'HONG KONG', 'ICELAND', 'INDIA', 'INDONESIA', 'IRELAND',\n",
      "       'ISRAEL', 'Italy', 'JAMAICA', 'Japan', 'KOREA', 'MALAYSIA', 'MEXICO',\n",
      "       'NEW ZEALAND', 'NIGERIA', 'Netherlands', 'Norway', 'PAKISTAN',\n",
      "       'PARAGUAY', 'PERU', 'PHILIPPINES', 'Portugal', 'SENEGAL', 'SINGAPORE',\n",
      "       'SOUTH AFRICA', 'SRI LANKA', 'Spain', 'Sweden', 'Switzerland', 'TAIWAN',\n",
      "       'THAILAND', 'TURKEY', 'URUGUAY', 'United Kingdom', 'United States',\n",
      "       'VENEZUELA', 'ZIMBABWE'],\n",
      "      dtype='object', name='Country')\n",
      "Int64Index([1880, 1881, 1882, 1883, 1884, 1885, 1886, 1887, 1888, 1889,\n",
      "            ...\n",
      "            1988, 1989, 1990, 1991, 1992, 1993, 1994, 1995, 1996, 1997],\n",
      "           dtype='int64', name='Year', length=118)\n"
     ]
    }
   ],
   "source": [
    "# list the index item in first level: country id\n",
    "print(Macro_histo.index.levels[0])\n",
    "# list the index item in second level: country\n",
    "print(Macro_histo.index.levels[1])\n",
    "# list the index item in third level: year\n",
    "print(Macro_histo.index.levels[2])"
   ]
  },
  {
   "cell_type": "code",
   "execution_count": 8,
   "metadata": {},
   "outputs": [
    {
     "data": {
      "text/html": [
       "<div>\n",
       "<style scoped>\n",
       "    .dataframe tbody tr th:only-of-type {\n",
       "        vertical-align: middle;\n",
       "    }\n",
       "\n",
       "    .dataframe tbody tr th {\n",
       "        vertical-align: top;\n",
       "    }\n",
       "\n",
       "    .dataframe thead th {\n",
       "        text-align: right;\n",
       "    }\n",
       "</style>\n",
       "<table border=\"1\" class=\"dataframe\">\n",
       "  <thead>\n",
       "    <tr style=\"text-align: right;\">\n",
       "      <th></th>\n",
       "      <th></th>\n",
       "      <th></th>\n",
       "      <th>nGDP</th>\n",
       "      <th>gsugdp</th>\n",
       "      <th>infl</th>\n",
       "      <th>rgdpNEW</th>\n",
       "      <th>rgdpgr</th>\n",
       "      <th>tot</th>\n",
       "      <th>totch</th>\n",
       "      <th>trbgdp</th>\n",
       "      <th>debtgdp</th>\n",
       "      <th>monagglc</th>\n",
       "      <th>...</th>\n",
       "      <th>Depfrz</th>\n",
       "      <th>forbA</th>\n",
       "      <th>forbB</th>\n",
       "      <th>forbC</th>\n",
       "      <th>PubAMC</th>\n",
       "      <th>PDRP</th>\n",
       "      <th>BankStr</th>\n",
       "      <th>UBI</th>\n",
       "      <th>ubin</th>\n",
       "      <th>Branch</th>\n",
       "    </tr>\n",
       "    <tr>\n",
       "      <th>id</th>\n",
       "      <th>Country</th>\n",
       "      <th>Year</th>\n",
       "      <th></th>\n",
       "      <th></th>\n",
       "      <th></th>\n",
       "      <th></th>\n",
       "      <th></th>\n",
       "      <th></th>\n",
       "      <th></th>\n",
       "      <th></th>\n",
       "      <th></th>\n",
       "      <th></th>\n",
       "      <th></th>\n",
       "      <th></th>\n",
       "      <th></th>\n",
       "      <th></th>\n",
       "      <th></th>\n",
       "      <th></th>\n",
       "      <th></th>\n",
       "      <th></th>\n",
       "      <th></th>\n",
       "      <th></th>\n",
       "      <th></th>\n",
       "    </tr>\n",
       "  </thead>\n",
       "  <tbody>\n",
       "    <tr>\n",
       "      <th rowspan=\"5\" valign=\"top\">53</th>\n",
       "      <th rowspan=\"5\" valign=\"top\">United States</th>\n",
       "      <th>1880</th>\n",
       "      <td>10150000000</td>\n",
       "      <td>0.650246</td>\n",
       "      <td>.</td>\n",
       "      <td>NaN</td>\n",
       "      <td>-77.8595</td>\n",
       "      <td>89.7</td>\n",
       "      <td>.</td>\n",
       "      <td>2.55764</td>\n",
       "      <td>.</td>\n",
       "      <td>2760000000</td>\n",
       "      <td>...</td>\n",
       "      <td>.</td>\n",
       "      <td>.</td>\n",
       "      <td>.</td>\n",
       "      <td>.</td>\n",
       "      <td>.</td>\n",
       "      <td>.</td>\n",
       "      <td>.</td>\n",
       "      <td>3</td>\n",
       "      <td>3</td>\n",
       "      <td>0</td>\n",
       "    </tr>\n",
       "    <tr>\n",
       "      <th>1881</th>\n",
       "      <td>11270000000</td>\n",
       "      <td>0.887311</td>\n",
       "      <td>0</td>\n",
       "      <td>NaN</td>\n",
       "      <td>11.0345</td>\n",
       "      <td>96.4</td>\n",
       "      <td>7.46934</td>\n",
       "      <td>0.229814</td>\n",
       "      <td>.</td>\n",
       "      <td>3310000000</td>\n",
       "      <td>...</td>\n",
       "      <td>.</td>\n",
       "      <td>.</td>\n",
       "      <td>.</td>\n",
       "      <td>.</td>\n",
       "      <td>.</td>\n",
       "      <td>.</td>\n",
       "      <td>.</td>\n",
       "      <td>3</td>\n",
       "      <td>3</td>\n",
       "      <td>0</td>\n",
       "    </tr>\n",
       "    <tr>\n",
       "      <th>1882</th>\n",
       "      <td>12160000000</td>\n",
       "      <td>1.20066</td>\n",
       "      <td>0</td>\n",
       "      <td>NaN</td>\n",
       "      <td>7.89707</td>\n",
       "      <td>98.8</td>\n",
       "      <td>2.48963</td>\n",
       "      <td>0.828947</td>\n",
       "      <td>.</td>\n",
       "      <td>3570000000</td>\n",
       "      <td>...</td>\n",
       "      <td>.</td>\n",
       "      <td>.</td>\n",
       "      <td>.</td>\n",
       "      <td>.</td>\n",
       "      <td>.</td>\n",
       "      <td>.</td>\n",
       "      <td>.</td>\n",
       "      <td>3</td>\n",
       "      <td>3</td>\n",
       "      <td>0</td>\n",
       "    </tr>\n",
       "    <tr>\n",
       "      <th>1883</th>\n",
       "      <td>11550000000</td>\n",
       "      <td>1.15152</td>\n",
       "      <td>-3.44828</td>\n",
       "      <td>NaN</td>\n",
       "      <td>-1.62418</td>\n",
       "      <td>99.6</td>\n",
       "      <td>0.809717</td>\n",
       "      <td>0.628571</td>\n",
       "      <td>.</td>\n",
       "      <td>3790000000</td>\n",
       "      <td>...</td>\n",
       "      <td>.</td>\n",
       "      <td>.</td>\n",
       "      <td>.</td>\n",
       "      <td>.</td>\n",
       "      <td>.</td>\n",
       "      <td>.</td>\n",
       "      <td>.</td>\n",
       "      <td>3</td>\n",
       "      <td>3</td>\n",
       "      <td>0</td>\n",
       "    </tr>\n",
       "    <tr>\n",
       "      <th>1884</th>\n",
       "      <td>10970000000</td>\n",
       "      <td>0.957156</td>\n",
       "      <td>-3.57143</td>\n",
       "      <td>NaN</td>\n",
       "      <td>-1.50393</td>\n",
       "      <td>102.3</td>\n",
       "      <td>2.71084</td>\n",
       "      <td>1.49954</td>\n",
       "      <td>.</td>\n",
       "      <td>3790000000</td>\n",
       "      <td>...</td>\n",
       "      <td>.</td>\n",
       "      <td>.</td>\n",
       "      <td>.</td>\n",
       "      <td>.</td>\n",
       "      <td>.</td>\n",
       "      <td>.</td>\n",
       "      <td>.</td>\n",
       "      <td>3</td>\n",
       "      <td>3</td>\n",
       "      <td>0</td>\n",
       "    </tr>\n",
       "  </tbody>\n",
       "</table>\n",
       "<p>5 rows × 79 columns</p>\n",
       "</div>"
      ],
      "text/plain": [
       "                              nGDP    gsugdp     infl rgdpNEW   rgdpgr    tot  \\\n",
       "id Country       Year                                                           \n",
       "53 United States 1880  10150000000  0.650246        .     NaN -77.8595   89.7   \n",
       "                 1881  11270000000  0.887311        0     NaN  11.0345   96.4   \n",
       "                 1882  12160000000   1.20066        0     NaN  7.89707   98.8   \n",
       "                 1883  11550000000   1.15152 -3.44828     NaN -1.62418   99.6   \n",
       "                 1884  10970000000  0.957156 -3.57143     NaN -1.50393  102.3   \n",
       "\n",
       "                          totch    trbgdp debtgdp    monagglc  ...   Depfrz  \\\n",
       "id Country       Year                                          ...            \n",
       "53 United States 1880         .   2.55764       .  2760000000  ...        .   \n",
       "                 1881   7.46934  0.229814       .  3310000000  ...        .   \n",
       "                 1882   2.48963  0.828947       .  3570000000  ...        .   \n",
       "                 1883  0.809717  0.628571       .  3790000000  ...        .   \n",
       "                 1884   2.71084   1.49954       .  3790000000  ...        .   \n",
       "\n",
       "                      forbA forbB forbC PubAMC PDRP BankStr UBI ubin Branch  \n",
       "id Country       Year                                                        \n",
       "53 United States 1880     .     .     .      .    .       .   3    3      0  \n",
       "                 1881     .     .     .      .    .       .   3    3      0  \n",
       "                 1882     .     .     .      .    .       .   3    3      0  \n",
       "                 1883     .     .     .      .    .       .   3    3      0  \n",
       "                 1884     .     .     .      .    .       .   3    3      0  \n",
       "\n",
       "[5 rows x 79 columns]"
      ]
     },
     "execution_count": 8,
     "metadata": {},
     "output_type": "execute_result"
    }
   ],
   "source": [
    "#make a inquiry for the data which country equals 'Unitied States' \n",
    "#and store the data into the variable named 'Macro_histo_USA'\n",
    "Macro_histo_USA = Macro_histo[Macro_histo.index.get_level_values('Country') == 'United States']\n",
    "Macro_histo_USA.head(5)"
   ]
  },
  {
   "cell_type": "code",
   "execution_count": 9,
   "metadata": {},
   "outputs": [
    {
     "name": "stdout",
     "output_type": "stream",
     "text": [
      "<class 'pandas.core.series.Series'>\n"
     ]
    },
    {
     "data": {
      "text/plain": [
       "Year\n",
       "1880    10150000000\n",
       "1881    11270000000\n",
       "1882    12160000000\n",
       "1883    11550000000\n",
       "Name: nGDP, dtype: object"
      ]
     },
     "execution_count": 9,
     "metadata": {},
     "output_type": "execute_result"
    }
   ],
   "source": [
    "histo_GDP = Macro_histo_USA['nGDP'].copy()\n",
    "histo_GDP.reset_index(level=['id','Country'], drop = True, inplace = True)\n",
    "#histo_GDP.reset_index(level= 'Year',  inplace = True)\n",
    "#histo_GDP['time'] = pd.to_datetime(histo_GDP.index.levels[2])\n",
    "print(type(histo_GDP))\n",
    "histo_GDP.head(4)"
   ]
  },
  {
   "cell_type": "code",
   "execution_count": 10,
   "metadata": {
    "collapsed": true
   },
   "outputs": [],
   "source": [
    "#measured in billion\n",
    "histo_GDP =histo_GDP/1000000000"
   ]
  },
  {
   "cell_type": "code",
   "execution_count": 11,
   "metadata": {},
   "outputs": [
    {
     "data": {
      "text/plain": [
       "Year\n",
       "1880    10.15\n",
       "1881    11.27\n",
       "1882    12.16\n",
       "1883    11.55\n",
       "Name: nGDP, dtype: object"
      ]
     },
     "execution_count": 11,
     "metadata": {},
     "output_type": "execute_result"
    }
   ],
   "source": [
    "histo_GDP.head(4)"
   ]
  },
  {
   "cell_type": "code",
   "execution_count": 12,
   "metadata": {},
   "outputs": [
    {
     "data": {
      "text/html": [
       "<div>\n",
       "<style scoped>\n",
       "    .dataframe tbody tr th:only-of-type {\n",
       "        vertical-align: middle;\n",
       "    }\n",
       "\n",
       "    .dataframe tbody tr th {\n",
       "        vertical-align: top;\n",
       "    }\n",
       "\n",
       "    .dataframe thead th {\n",
       "        text-align: right;\n",
       "    }\n",
       "</style>\n",
       "<table border=\"1\" class=\"dataframe\">\n",
       "  <thead>\n",
       "    <tr style=\"text-align: right;\">\n",
       "      <th></th>\n",
       "      <th>nGDP</th>\n",
       "    </tr>\n",
       "    <tr>\n",
       "      <th>Year</th>\n",
       "      <th></th>\n",
       "    </tr>\n",
       "  </thead>\n",
       "  <tbody>\n",
       "    <tr>\n",
       "      <th>1994</th>\n",
       "      <td>6722.9</td>\n",
       "    </tr>\n",
       "    <tr>\n",
       "      <th>1995</th>\n",
       "      <td>7033.6</td>\n",
       "    </tr>\n",
       "    <tr>\n",
       "      <th>1996</th>\n",
       "      <td>7390.6</td>\n",
       "    </tr>\n",
       "    <tr>\n",
       "      <th>1997</th>\n",
       "      <td>7823.3</td>\n",
       "    </tr>\n",
       "  </tbody>\n",
       "</table>\n",
       "</div>"
      ],
      "text/plain": [
       "        nGDP\n",
       "Year        \n",
       "1994  6722.9\n",
       "1995  7033.6\n",
       "1996  7390.6\n",
       "1997  7823.3"
      ]
     },
     "execution_count": 12,
     "metadata": {},
     "output_type": "execute_result"
    }
   ],
   "source": [
    "#transform \n",
    "df_histo_GDP = pd.DataFrame(histo_GDP)\n",
    "df_histo_GDP.tail(4)"
   ]
  },
  {
   "cell_type": "code",
   "execution_count": 13,
   "metadata": {
    "collapsed": true
   },
   "outputs": [],
   "source": [
    "#transform the string type of the original index/column 'Year' to a datetime object \n",
    "import datetime\n",
    "df_histo_GDP['Time'] = pd.to_datetime(df_histo_GDP.index,format='%Y')\n",
    "df_histo_GDP.index = df_histo_GDP['Time'] \n",
    "del df_histo_GDP['Time']\n",
    "#del df_histo_GDP['time']"
   ]
  },
  {
   "cell_type": "code",
   "execution_count": 14,
   "metadata": {
    "scrolled": true
   },
   "outputs": [
    {
     "data": {
      "text/html": [
       "<div>\n",
       "<style scoped>\n",
       "    .dataframe tbody tr th:only-of-type {\n",
       "        vertical-align: middle;\n",
       "    }\n",
       "\n",
       "    .dataframe tbody tr th {\n",
       "        vertical-align: top;\n",
       "    }\n",
       "\n",
       "    .dataframe thead th {\n",
       "        text-align: right;\n",
       "    }\n",
       "</style>\n",
       "<table border=\"1\" class=\"dataframe\">\n",
       "  <thead>\n",
       "    <tr style=\"text-align: right;\">\n",
       "      <th></th>\n",
       "      <th>nGDP</th>\n",
       "    </tr>\n",
       "    <tr>\n",
       "      <th>Time</th>\n",
       "      <th></th>\n",
       "    </tr>\n",
       "  </thead>\n",
       "  <tbody>\n",
       "    <tr>\n",
       "      <th>1994-01-01</th>\n",
       "      <td>6722.9</td>\n",
       "    </tr>\n",
       "    <tr>\n",
       "      <th>1995-01-01</th>\n",
       "      <td>7033.6</td>\n",
       "    </tr>\n",
       "    <tr>\n",
       "      <th>1996-01-01</th>\n",
       "      <td>7390.6</td>\n",
       "    </tr>\n",
       "    <tr>\n",
       "      <th>1997-01-01</th>\n",
       "      <td>7823.3</td>\n",
       "    </tr>\n",
       "  </tbody>\n",
       "</table>\n",
       "</div>"
      ],
      "text/plain": [
       "              nGDP\n",
       "Time              \n",
       "1994-01-01  6722.9\n",
       "1995-01-01  7033.6\n",
       "1996-01-01  7390.6\n",
       "1997-01-01  7823.3"
      ]
     },
     "execution_count": 14,
     "metadata": {},
     "output_type": "execute_result"
    }
   ],
   "source": [
    "df_histo_GDP.tail(4)"
   ]
  },
  {
   "cell_type": "markdown",
   "metadata": {
    "collapsed": true
   },
   "source": [
    "#### Pull the latest GNP GDP from FRED"
   ]
  },
  {
   "cell_type": "code",
   "execution_count": 15,
   "metadata": {
    "collapsed": true
   },
   "outputs": [],
   "source": [
    "#GNP with quarterly frequency\n",
    "GNP_Quarter = fred.get_series('GNP')\n",
    "#GNP with annually frequency\n",
    "GNP_Annual = fred.get_series('GNPA')\n",
    "#GDP with quarterly frequency\n",
    "GDP_Quarter = fred.get_series('GDP')\n",
    "#GDP with annually frequency\n",
    "GDP_Annual = fred.get_series('GDPA')\n",
    "\n",
    "Real_GDP_Quarter = fred.get_series('GDPC1')\n",
    "Real_GDP_Annual = fred.get_series('GDPCA')\n",
    "\n",
    "#GDP Deflator\n",
    "GDPDEF_Quarterly = fred.get_series('GDPDEF')"
   ]
  },
  {
   "cell_type": "code",
   "execution_count": 38,
   "metadata": {
    "collapsed": true
   },
   "outputs": [],
   "source": [
    "GDP_Average = fred.get_series('A939RC0A052NBEA')"
   ]
  },
  {
   "cell_type": "code",
   "execution_count": 39,
   "metadata": {},
   "outputs": [
    {
     "data": {
      "text/plain": [
       "<matplotlib.axes._subplots.AxesSubplot at 0x123a1ddd8>"
      ]
     },
     "execution_count": 39,
     "metadata": {},
     "output_type": "execute_result"
    },
    {
     "data": {
      "image/png": "[encoded data removed]",
      "text/plain": [
       "<Figure size 1440x360 with 1 Axes>"
      ]
     },
     "metadata": {},
     "output_type": "display_data"
    }
   ],
   "source": [
    "GDP_Average.plot()"
   ]
  },
  {
   "cell_type": "code",
   "execution_count": 40,
   "metadata": {},
   "outputs": [
    {
     "data": {
      "text/plain": [
       "<matplotlib.axes._subplots.AxesSubplot at 0x123d977f0>"
      ]
     },
     "execution_count": 40,
     "metadata": {},
     "output_type": "execute_result"
    },
    {
     "data": {
      "image/png": "[encoded data removed]",
      "text/plain": [
       "<Figure size 1440x360 with 1 Axes>"
      ]
     },
     "metadata": {},
     "output_type": "display_data"
    }
   ],
   "source": [
    "np.log(GDP_Average).plot()"
   ]
  },
  {
   "cell_type": "code",
   "execution_count": 35,
   "metadata": {},
   "outputs": [
    {
     "ename": "TypeError",
     "evalue": "cannot convert the series to <class 'float'>",
     "output_type": "error",
     "traceback": [
      "\u001b[0;31m---------------------------------------------------------------------------\u001b[0m",
      "\u001b[0;31mTypeError\u001b[0m                                 Traceback (most recent call last)",
      "\u001b[0;32m<ipython-input-35-251f249d90f2>\u001b[0m in \u001b[0;36m<module>\u001b[0;34m()\u001b[0m\n\u001b[0;32m----> 1\u001b[0;31m \u001b[0mlog\u001b[0m\u001b[0;34m(\u001b[0m\u001b[0mGDP_Average\u001b[0m\u001b[0;34m)\u001b[0m\u001b[0;34m.\u001b[0m\u001b[0mplot\u001b[0m\u001b[0;34m(\u001b[0m\u001b[0;34m)\u001b[0m\u001b[0;34m\u001b[0m\u001b[0m\n\u001b[0m",
      "\u001b[0;32m/Users/hangmiao/anaconda/lib/python3.6/site-packages/pandas/core/series.py\u001b[0m in \u001b[0;36mwrapper\u001b[0;34m(self)\u001b[0m\n\u001b[1;32m    116\u001b[0m             \u001b[0;32mreturn\u001b[0m \u001b[0mconverter\u001b[0m\u001b[0;34m(\u001b[0m\u001b[0mself\u001b[0m\u001b[0;34m.\u001b[0m\u001b[0miloc\u001b[0m\u001b[0;34m[\u001b[0m\u001b[0;36m0\u001b[0m\u001b[0;34m]\u001b[0m\u001b[0;34m)\u001b[0m\u001b[0;34m\u001b[0m\u001b[0m\n\u001b[1;32m    117\u001b[0m         raise TypeError(\"cannot convert the series to \"\n\u001b[0;32m--> 118\u001b[0;31m                         \"{0}\".format(str(converter)))\n\u001b[0m\u001b[1;32m    119\u001b[0m \u001b[0;34m\u001b[0m\u001b[0m\n\u001b[1;32m    120\u001b[0m     \u001b[0;32mreturn\u001b[0m \u001b[0mwrapper\u001b[0m\u001b[0;34m\u001b[0m\u001b[0m\n",
      "\u001b[0;31mTypeError\u001b[0m: cannot convert the series to <class 'float'>"
     ]
    }
   ],
   "source": [
    "log(GDP_Average).plot()"
   ]
  },
  {
   "cell_type": "code",
   "execution_count": 16,
   "metadata": {},
   "outputs": [
    {
     "data": {
      "text/plain": [
       "<matplotlib.axes._subplots.AxesSubplot at 0x121c36f60>"
      ]
     },
     "execution_count": 16,
     "metadata": {},
     "output_type": "execute_result"
    },
    {
     "data": {
      "image/png": "[encoded data removed]",
      "text/plain": [
       "<Figure size 1440x360 with 1 Axes>"
      ]
     },
     "metadata": {},
     "output_type": "display_data"
    }
   ],
   "source": [
    "df = {}\n",
    "# asdfsfdasdfg\n",
    "\n",
    "df['GDP'] = GDP_Quarter\n",
    "df['HistoGDP'] = df_histo_GDP['nGDP']\n",
    "\n",
    "df = pd.DataFrame(df)\n",
    "df.plot()\n"
   ]
  },
  {
   "cell_type": "code",
   "execution_count": 17,
   "metadata": {
    "collapsed": true
   },
   "outputs": [],
   "source": [
    "# Transform the Quarter frequency series GDP_Quarter to a annual frequency curve\n",
    "df_Annual = df.groupby(pd.Grouper(freq='YS')).nth(0) #year start, Y stands for year end\n"
   ]
  },
  {
   "cell_type": "code",
   "execution_count": 18,
   "metadata": {},
   "outputs": [
    {
     "data": {
      "text/html": [
       "<div>\n",
       "<style scoped>\n",
       "    .dataframe tbody tr th:only-of-type {\n",
       "        vertical-align: middle;\n",
       "    }\n",
       "\n",
       "    .dataframe tbody tr th {\n",
       "        vertical-align: top;\n",
       "    }\n",
       "\n",
       "    .dataframe thead th {\n",
       "        text-align: right;\n",
       "    }\n",
       "</style>\n",
       "<table border=\"1\" class=\"dataframe\">\n",
       "  <thead>\n",
       "    <tr style=\"text-align: right;\">\n",
       "      <th></th>\n",
       "      <th>GDP</th>\n",
       "      <th>HistoGDP</th>\n",
       "    </tr>\n",
       "  </thead>\n",
       "  <tbody>\n",
       "    <tr>\n",
       "      <th>1880-01-01</th>\n",
       "      <td>NaN</td>\n",
       "      <td>10.15</td>\n",
       "    </tr>\n",
       "    <tr>\n",
       "      <th>1881-01-01</th>\n",
       "      <td>NaN</td>\n",
       "      <td>11.27</td>\n",
       "    </tr>\n",
       "    <tr>\n",
       "      <th>1882-01-01</th>\n",
       "      <td>NaN</td>\n",
       "      <td>12.16</td>\n",
       "    </tr>\n",
       "    <tr>\n",
       "      <th>1883-01-01</th>\n",
       "      <td>NaN</td>\n",
       "      <td>11.55</td>\n",
       "    </tr>\n",
       "    <tr>\n",
       "      <th>1884-01-01</th>\n",
       "      <td>NaN</td>\n",
       "      <td>10.97</td>\n",
       "    </tr>\n",
       "    <tr>\n",
       "      <th>1885-01-01</th>\n",
       "      <td>NaN</td>\n",
       "      <td>10.64</td>\n",
       "    </tr>\n",
       "    <tr>\n",
       "      <th>1886-01-01</th>\n",
       "      <td>NaN</td>\n",
       "      <td>10.93</td>\n",
       "    </tr>\n",
       "    <tr>\n",
       "      <th>1887-01-01</th>\n",
       "      <td>NaN</td>\n",
       "      <td>12</td>\n",
       "    </tr>\n",
       "    <tr>\n",
       "      <th>1888-01-01</th>\n",
       "      <td>NaN</td>\n",
       "      <td>12.42</td>\n",
       "    </tr>\n",
       "    <tr>\n",
       "      <th>1889-01-01</th>\n",
       "      <td>NaN</td>\n",
       "      <td>12.97</td>\n",
       "    </tr>\n",
       "    <tr>\n",
       "      <th>1890-01-01</th>\n",
       "      <td>NaN</td>\n",
       "      <td>13.1</td>\n",
       "    </tr>\n",
       "    <tr>\n",
       "      <th>1891-01-01</th>\n",
       "      <td>NaN</td>\n",
       "      <td>13.5</td>\n",
       "    </tr>\n",
       "    <tr>\n",
       "      <th>1892-01-01</th>\n",
       "      <td>NaN</td>\n",
       "      <td>14.3</td>\n",
       "    </tr>\n",
       "    <tr>\n",
       "      <th>1893-01-01</th>\n",
       "      <td>NaN</td>\n",
       "      <td>13.8</td>\n",
       "    </tr>\n",
       "    <tr>\n",
       "      <th>1894-01-01</th>\n",
       "      <td>NaN</td>\n",
       "      <td>12.6</td>\n",
       "    </tr>\n",
       "    <tr>\n",
       "      <th>1895-01-01</th>\n",
       "      <td>NaN</td>\n",
       "      <td>13.9</td>\n",
       "    </tr>\n",
       "    <tr>\n",
       "      <th>1896-01-01</th>\n",
       "      <td>NaN</td>\n",
       "      <td>13.3</td>\n",
       "    </tr>\n",
       "    <tr>\n",
       "      <th>1897-01-01</th>\n",
       "      <td>NaN</td>\n",
       "      <td>14.6</td>\n",
       "    </tr>\n",
       "    <tr>\n",
       "      <th>1898-01-01</th>\n",
       "      <td>NaN</td>\n",
       "      <td>15.4</td>\n",
       "    </tr>\n",
       "    <tr>\n",
       "      <th>1899-01-01</th>\n",
       "      <td>NaN</td>\n",
       "      <td>17.4</td>\n",
       "    </tr>\n",
       "    <tr>\n",
       "      <th>1900-01-01</th>\n",
       "      <td>NaN</td>\n",
       "      <td>18.7</td>\n",
       "    </tr>\n",
       "    <tr>\n",
       "      <th>1901-01-01</th>\n",
       "      <td>NaN</td>\n",
       "      <td>20.7</td>\n",
       "    </tr>\n",
       "    <tr>\n",
       "      <th>1902-01-01</th>\n",
       "      <td>NaN</td>\n",
       "      <td>21.6</td>\n",
       "    </tr>\n",
       "    <tr>\n",
       "      <th>1903-01-01</th>\n",
       "      <td>NaN</td>\n",
       "      <td>22.9</td>\n",
       "    </tr>\n",
       "    <tr>\n",
       "      <th>1904-01-01</th>\n",
       "      <td>NaN</td>\n",
       "      <td>22.9</td>\n",
       "    </tr>\n",
       "    <tr>\n",
       "      <th>1905-01-01</th>\n",
       "      <td>NaN</td>\n",
       "      <td>25.1</td>\n",
       "    </tr>\n",
       "    <tr>\n",
       "      <th>1906-01-01</th>\n",
       "      <td>NaN</td>\n",
       "      <td>28.7</td>\n",
       "    </tr>\n",
       "    <tr>\n",
       "      <th>1907-01-01</th>\n",
       "      <td>NaN</td>\n",
       "      <td>30.4</td>\n",
       "    </tr>\n",
       "    <tr>\n",
       "      <th>1908-01-01</th>\n",
       "      <td>NaN</td>\n",
       "      <td>27.7</td>\n",
       "    </tr>\n",
       "    <tr>\n",
       "      <th>1909-01-01</th>\n",
       "      <td>NaN</td>\n",
       "      <td>33.4</td>\n",
       "    </tr>\n",
       "    <tr>\n",
       "      <th>...</th>\n",
       "      <td>...</td>\n",
       "      <td>...</td>\n",
       "    </tr>\n",
       "    <tr>\n",
       "      <th>1989-01-01</th>\n",
       "      <td>5511.253</td>\n",
       "      <td>5260.9</td>\n",
       "    </tr>\n",
       "    <tr>\n",
       "      <th>1990-01-01</th>\n",
       "      <td>5872.701</td>\n",
       "      <td>5554.1</td>\n",
       "    </tr>\n",
       "    <tr>\n",
       "      <th>1991-01-01</th>\n",
       "      <td>6035.178</td>\n",
       "      <td>5710.9</td>\n",
       "    </tr>\n",
       "    <tr>\n",
       "      <th>1992-01-01</th>\n",
       "      <td>6363.102</td>\n",
       "      <td>6027.7</td>\n",
       "    </tr>\n",
       "    <tr>\n",
       "      <th>1993-01-01</th>\n",
       "      <td>6729.459</td>\n",
       "      <td>6341.7</td>\n",
       "    </tr>\n",
       "    <tr>\n",
       "      <th>1994-01-01</th>\n",
       "      <td>7115.652</td>\n",
       "      <td>6722.9</td>\n",
       "    </tr>\n",
       "    <tr>\n",
       "      <th>1995-01-01</th>\n",
       "      <td>7522.289</td>\n",
       "      <td>7033.6</td>\n",
       "    </tr>\n",
       "    <tr>\n",
       "      <th>1996-01-01</th>\n",
       "      <td>7868.468</td>\n",
       "      <td>7390.6</td>\n",
       "    </tr>\n",
       "    <tr>\n",
       "      <th>1997-01-01</th>\n",
       "      <td>8362.655</td>\n",
       "      <td>7823.3</td>\n",
       "    </tr>\n",
       "    <tr>\n",
       "      <th>1998-01-01</th>\n",
       "      <td>8866.480</td>\n",
       "      <td>NaN</td>\n",
       "    </tr>\n",
       "    <tr>\n",
       "      <th>1999-01-01</th>\n",
       "      <td>9417.264</td>\n",
       "      <td>NaN</td>\n",
       "    </tr>\n",
       "    <tr>\n",
       "      <th>2000-01-01</th>\n",
       "      <td>10002.857</td>\n",
       "      <td>NaN</td>\n",
       "    </tr>\n",
       "    <tr>\n",
       "      <th>2001-01-01</th>\n",
       "      <td>10472.879</td>\n",
       "      <td>NaN</td>\n",
       "    </tr>\n",
       "    <tr>\n",
       "      <th>2002-01-01</th>\n",
       "      <td>10788.952</td>\n",
       "      <td>NaN</td>\n",
       "    </tr>\n",
       "    <tr>\n",
       "      <th>2003-01-01</th>\n",
       "      <td>11183.507</td>\n",
       "      <td>NaN</td>\n",
       "    </tr>\n",
       "    <tr>\n",
       "      <th>2004-01-01</th>\n",
       "      <td>11920.169</td>\n",
       "      <td>NaN</td>\n",
       "    </tr>\n",
       "    <tr>\n",
       "      <th>2005-01-01</th>\n",
       "      <td>12761.337</td>\n",
       "      <td>NaN</td>\n",
       "    </tr>\n",
       "    <tr>\n",
       "      <th>2006-01-01</th>\n",
       "      <td>13603.933</td>\n",
       "      <td>NaN</td>\n",
       "    </tr>\n",
       "    <tr>\n",
       "      <th>2007-01-01</th>\n",
       "      <td>14208.569</td>\n",
       "      <td>NaN</td>\n",
       "    </tr>\n",
       "    <tr>\n",
       "      <th>2008-01-01</th>\n",
       "      <td>14651.039</td>\n",
       "      <td>NaN</td>\n",
       "    </tr>\n",
       "    <tr>\n",
       "      <th>2009-01-01</th>\n",
       "      <td>14394.547</td>\n",
       "      <td>NaN</td>\n",
       "    </tr>\n",
       "    <tr>\n",
       "      <th>2010-01-01</th>\n",
       "      <td>14721.350</td>\n",
       "      <td>NaN</td>\n",
       "    </tr>\n",
       "    <tr>\n",
       "      <th>2011-01-01</th>\n",
       "      <td>15285.828</td>\n",
       "      <td>NaN</td>\n",
       "    </tr>\n",
       "    <tr>\n",
       "      <th>2012-01-01</th>\n",
       "      <td>16019.758</td>\n",
       "      <td>NaN</td>\n",
       "    </tr>\n",
       "    <tr>\n",
       "      <th>2013-01-01</th>\n",
       "      <td>16569.591</td>\n",
       "      <td>NaN</td>\n",
       "    </tr>\n",
       "    <tr>\n",
       "      <th>2014-01-01</th>\n",
       "      <td>17102.932</td>\n",
       "      <td>NaN</td>\n",
       "    </tr>\n",
       "    <tr>\n",
       "      <th>2015-01-01</th>\n",
       "      <td>17970.422</td>\n",
       "      <td>NaN</td>\n",
       "    </tr>\n",
       "    <tr>\n",
       "      <th>2016-01-01</th>\n",
       "      <td>18409.130</td>\n",
       "      <td>NaN</td>\n",
       "    </tr>\n",
       "    <tr>\n",
       "      <th>2017-01-01</th>\n",
       "      <td>19162.550</td>\n",
       "      <td>NaN</td>\n",
       "    </tr>\n",
       "    <tr>\n",
       "      <th>2018-01-01</th>\n",
       "      <td>20041.047</td>\n",
       "      <td>NaN</td>\n",
       "    </tr>\n",
       "  </tbody>\n",
       "</table>\n",
       "<p>139 rows × 2 columns</p>\n",
       "</div>"
      ],
      "text/plain": [
       "                  GDP HistoGDP\n",
       "1880-01-01        NaN    10.15\n",
       "1881-01-01        NaN    11.27\n",
       "1882-01-01        NaN    12.16\n",
       "1883-01-01        NaN    11.55\n",
       "1884-01-01        NaN    10.97\n",
       "1885-01-01        NaN    10.64\n",
       "1886-01-01        NaN    10.93\n",
       "1887-01-01        NaN       12\n",
       "1888-01-01        NaN    12.42\n",
       "1889-01-01        NaN    12.97\n",
       "1890-01-01        NaN     13.1\n",
       "1891-01-01        NaN     13.5\n",
       "1892-01-01        NaN     14.3\n",
       "1893-01-01        NaN     13.8\n",
       "1894-01-01        NaN     12.6\n",
       "1895-01-01        NaN     13.9\n",
       "1896-01-01        NaN     13.3\n",
       "1897-01-01        NaN     14.6\n",
       "1898-01-01        NaN     15.4\n",
       "1899-01-01        NaN     17.4\n",
       "1900-01-01        NaN     18.7\n",
       "1901-01-01        NaN     20.7\n",
       "1902-01-01        NaN     21.6\n",
       "1903-01-01        NaN     22.9\n",
       "1904-01-01        NaN     22.9\n",
       "1905-01-01        NaN     25.1\n",
       "1906-01-01        NaN     28.7\n",
       "1907-01-01        NaN     30.4\n",
       "1908-01-01        NaN     27.7\n",
       "1909-01-01        NaN     33.4\n",
       "...               ...      ...\n",
       "1989-01-01   5511.253   5260.9\n",
       "1990-01-01   5872.701   5554.1\n",
       "1991-01-01   6035.178   5710.9\n",
       "1992-01-01   6363.102   6027.7\n",
       "1993-01-01   6729.459   6341.7\n",
       "1994-01-01   7115.652   6722.9\n",
       "1995-01-01   7522.289   7033.6\n",
       "1996-01-01   7868.468   7390.6\n",
       "1997-01-01   8362.655   7823.3\n",
       "1998-01-01   8866.480      NaN\n",
       "1999-01-01   9417.264      NaN\n",
       "2000-01-01  10002.857      NaN\n",
       "2001-01-01  10472.879      NaN\n",
       "2002-01-01  10788.952      NaN\n",
       "2003-01-01  11183.507      NaN\n",
       "2004-01-01  11920.169      NaN\n",
       "2005-01-01  12761.337      NaN\n",
       "2006-01-01  13603.933      NaN\n",
       "2007-01-01  14208.569      NaN\n",
       "2008-01-01  14651.039      NaN\n",
       "2009-01-01  14394.547      NaN\n",
       "2010-01-01  14721.350      NaN\n",
       "2011-01-01  15285.828      NaN\n",
       "2012-01-01  16019.758      NaN\n",
       "2013-01-01  16569.591      NaN\n",
       "2014-01-01  17102.932      NaN\n",
       "2015-01-01  17970.422      NaN\n",
       "2016-01-01  18409.130      NaN\n",
       "2017-01-01  19162.550      NaN\n",
       "2018-01-01  20041.047      NaN\n",
       "\n",
       "[139 rows x 2 columns]"
      ]
     },
     "execution_count": 18,
     "metadata": {},
     "output_type": "execute_result"
    }
   ],
   "source": [
    "df_Annual"
   ]
  },
  {
   "cell_type": "code",
   "execution_count": 19,
   "metadata": {},
   "outputs": [
    {
     "data": {
      "text/plain": [
       "<matplotlib.axes._subplots.AxesSubplot at 0x1229cfa20>"
      ]
     },
     "execution_count": 19,
     "metadata": {},
     "output_type": "execute_result"
    },
    {
     "data": {
      "image/png": "[encoded data removed]",
      "text/plain": [
       "<Figure size 1440x360 with 1 Axes>"
      ]
     },
     "metadata": {},
     "output_type": "display_data"
    }
   ],
   "source": [
    "df_Annual.plot()"
   ]
  },
  {
   "cell_type": "code",
   "execution_count": 20,
   "metadata": {
    "collapsed": true
   },
   "outputs": [],
   "source": [
    "df_Annual.to_csv('histo_GDP.csv')"
   ]
  },
  {
   "cell_type": "code",
   "execution_count": 21,
   "metadata": {},
   "outputs": [
    {
     "data": {
      "text/html": [
       "<div>\n",
       "<style scoped>\n",
       "    .dataframe tbody tr th:only-of-type {\n",
       "        vertical-align: middle;\n",
       "    }\n",
       "\n",
       "    .dataframe tbody tr th {\n",
       "        vertical-align: top;\n",
       "    }\n",
       "\n",
       "    .dataframe thead th {\n",
       "        text-align: right;\n",
       "    }\n",
       "</style>\n",
       "<table border=\"1\" class=\"dataframe\">\n",
       "  <thead>\n",
       "    <tr style=\"text-align: right;\">\n",
       "      <th></th>\n",
       "      <th>GDP</th>\n",
       "      <th>HistoGDP</th>\n",
       "    </tr>\n",
       "  </thead>\n",
       "  <tbody>\n",
       "    <tr>\n",
       "      <th>1947-01-01</th>\n",
       "      <td>243.164</td>\n",
       "      <td>235.2</td>\n",
       "    </tr>\n",
       "    <tr>\n",
       "      <th>1948-01-01</th>\n",
       "      <td>265.742</td>\n",
       "      <td>261.6</td>\n",
       "    </tr>\n",
       "    <tr>\n",
       "      <th>1949-01-01</th>\n",
       "      <td>275.034</td>\n",
       "      <td>260.4</td>\n",
       "    </tr>\n",
       "    <tr>\n",
       "      <th>1950-01-01</th>\n",
       "      <td>280.828</td>\n",
       "      <td>288.3</td>\n",
       "    </tr>\n",
       "    <tr>\n",
       "      <th>1951-01-01</th>\n",
       "      <td>336.000</td>\n",
       "      <td>333.4</td>\n",
       "    </tr>\n",
       "  </tbody>\n",
       "</table>\n",
       "</div>"
      ],
      "text/plain": [
       "                GDP HistoGDP\n",
       "1947-01-01  243.164    235.2\n",
       "1948-01-01  265.742    261.6\n",
       "1949-01-01  275.034    260.4\n",
       "1950-01-01  280.828    288.3\n",
       "1951-01-01  336.000    333.4"
      ]
     },
     "execution_count": 21,
     "metadata": {},
     "output_type": "execute_result"
    }
   ],
   "source": [
    "df_Annual[df_Annual['GDP'].notna()].head(5)"
   ]
  },
  {
   "cell_type": "markdown",
   "metadata": {},
   "source": [
    "#### Merging the two series 'GDP' and 'HistoGDP' into 'GDPconcat'"
   ]
  },
  {
   "cell_type": "code",
   "execution_count": 22,
   "metadata": {
    "collapsed": true
   },
   "outputs": [],
   "source": [
    "# form a new annually GDP series from concating the histo_GDP(1880-01-01:1946-01-01)\n",
    "# and GDP (1947-01-01: the latest release)\n",
    "df1 = df_Annual['HistoGDP'].loc['1880-01-01':'1946-01-01']\n",
    "df2 = df_Annual['GDP'].loc['1947-01-01': ]\n",
    "df_Annual['GDPconcat'] = pd.concat([df1,df2])"
   ]
  },
  {
   "cell_type": "code",
   "execution_count": 23,
   "metadata": {},
   "outputs": [
    {
     "data": {
      "text/html": [
       "<div>\n",
       "<style scoped>\n",
       "    .dataframe tbody tr th:only-of-type {\n",
       "        vertical-align: middle;\n",
       "    }\n",
       "\n",
       "    .dataframe tbody tr th {\n",
       "        vertical-align: top;\n",
       "    }\n",
       "\n",
       "    .dataframe thead th {\n",
       "        text-align: right;\n",
       "    }\n",
       "</style>\n",
       "<table border=\"1\" class=\"dataframe\">\n",
       "  <thead>\n",
       "    <tr style=\"text-align: right;\">\n",
       "      <th></th>\n",
       "      <th>GDP</th>\n",
       "      <th>HistoGDP</th>\n",
       "      <th>GDPconcat</th>\n",
       "    </tr>\n",
       "  </thead>\n",
       "  <tbody>\n",
       "    <tr>\n",
       "      <th>2014-01-01</th>\n",
       "      <td>17102.932</td>\n",
       "      <td>NaN</td>\n",
       "      <td>17102.9</td>\n",
       "    </tr>\n",
       "    <tr>\n",
       "      <th>2015-01-01</th>\n",
       "      <td>17970.422</td>\n",
       "      <td>NaN</td>\n",
       "      <td>17970.4</td>\n",
       "    </tr>\n",
       "    <tr>\n",
       "      <th>2016-01-01</th>\n",
       "      <td>18409.130</td>\n",
       "      <td>NaN</td>\n",
       "      <td>18409.1</td>\n",
       "    </tr>\n",
       "    <tr>\n",
       "      <th>2017-01-01</th>\n",
       "      <td>19162.550</td>\n",
       "      <td>NaN</td>\n",
       "      <td>19162.5</td>\n",
       "    </tr>\n",
       "    <tr>\n",
       "      <th>2018-01-01</th>\n",
       "      <td>20041.047</td>\n",
       "      <td>NaN</td>\n",
       "      <td>20041</td>\n",
       "    </tr>\n",
       "  </tbody>\n",
       "</table>\n",
       "</div>"
      ],
      "text/plain": [
       "                  GDP HistoGDP GDPconcat\n",
       "2014-01-01  17102.932      NaN   17102.9\n",
       "2015-01-01  17970.422      NaN   17970.4\n",
       "2016-01-01  18409.130      NaN   18409.1\n",
       "2017-01-01  19162.550      NaN   19162.5\n",
       "2018-01-01  20041.047      NaN     20041"
      ]
     },
     "execution_count": 23,
     "metadata": {},
     "output_type": "execute_result"
    }
   ],
   "source": [
    "df_Annual.tail(5)"
   ]
  },
  {
   "cell_type": "code",
   "execution_count": 24,
   "metadata": {},
   "outputs": [
    {
     "data": {
      "text/html": [
       "<div>\n",
       "<style scoped>\n",
       "    .dataframe tbody tr th:only-of-type {\n",
       "        vertical-align: middle;\n",
       "    }\n",
       "\n",
       "    .dataframe tbody tr th {\n",
       "        vertical-align: top;\n",
       "    }\n",
       "\n",
       "    .dataframe thead th {\n",
       "        text-align: right;\n",
       "    }\n",
       "</style>\n",
       "<table border=\"1\" class=\"dataframe\">\n",
       "  <thead>\n",
       "    <tr style=\"text-align: right;\">\n",
       "      <th></th>\n",
       "      <th>GDP</th>\n",
       "      <th>HistoGDP</th>\n",
       "      <th>GDPconcat</th>\n",
       "    </tr>\n",
       "  </thead>\n",
       "  <tbody>\n",
       "    <tr>\n",
       "      <th>1880-01-01</th>\n",
       "      <td>NaN</td>\n",
       "      <td>10.15</td>\n",
       "      <td>10.15</td>\n",
       "    </tr>\n",
       "    <tr>\n",
       "      <th>1881-01-01</th>\n",
       "      <td>NaN</td>\n",
       "      <td>11.27</td>\n",
       "      <td>11.27</td>\n",
       "    </tr>\n",
       "    <tr>\n",
       "      <th>1882-01-01</th>\n",
       "      <td>NaN</td>\n",
       "      <td>12.16</td>\n",
       "      <td>12.16</td>\n",
       "    </tr>\n",
       "    <tr>\n",
       "      <th>1883-01-01</th>\n",
       "      <td>NaN</td>\n",
       "      <td>11.55</td>\n",
       "      <td>11.55</td>\n",
       "    </tr>\n",
       "    <tr>\n",
       "      <th>1884-01-01</th>\n",
       "      <td>NaN</td>\n",
       "      <td>10.97</td>\n",
       "      <td>10.97</td>\n",
       "    </tr>\n",
       "  </tbody>\n",
       "</table>\n",
       "</div>"
      ],
      "text/plain": [
       "            GDP HistoGDP GDPconcat\n",
       "1880-01-01  NaN    10.15     10.15\n",
       "1881-01-01  NaN    11.27     11.27\n",
       "1882-01-01  NaN    12.16     12.16\n",
       "1883-01-01  NaN    11.55     11.55\n",
       "1884-01-01  NaN    10.97     10.97"
      ]
     },
     "execution_count": 24,
     "metadata": {},
     "output_type": "execute_result"
    }
   ],
   "source": [
    "df_Annual.head(5)"
   ]
  },
  {
   "cell_type": "code",
   "execution_count": 25,
   "metadata": {},
   "outputs": [
    {
     "data": {
      "image/png": "[encoded data removed]",
      "text/plain": [
       "<Figure size 1440x360 with 1 Axes>"
      ]
     },
     "metadata": {},
     "output_type": "display_data"
    }
   ],
   "source": [
    "\n",
    "fig = df_Annual.plot(title = 'GDP in Arithmetic Scale',fontsize = 30).get_figure()\n",
    "fig.savefig('GDP_Arithmetic_Scale.png')  #You could change the name of '.png' file you like"
   ]
  },
  {
   "cell_type": "code",
   "execution_count": 26,
   "metadata": {},
   "outputs": [
    {
     "data": {
      "image/png": "[encoded data removed]",
      "text/plain": [
       "<Figure size 1440x360 with 1 Axes>"
      ]
     },
     "metadata": {},
     "output_type": "display_data"
    }
   ],
   "source": [
    "#log scale\n",
    "fig = df_Annual.plot(title = 'GDP in Log Scale',logy = True, fontsize = 30).get_figure()\n",
    "fig.savefig('GDP_Log_Scale.png')  #You could change the name of '.png' file you like\n"
   ]
  },
  {
   "cell_type": "markdown",
   "metadata": {},
   "source": [
    "#### Growth Rate"
   ]
  },
  {
   "cell_type": "code",
   "execution_count": 27,
   "metadata": {
    "collapsed": true
   },
   "outputs": [],
   "source": [
    "#claim an empty dictionary called dict_Annual_return\n",
    "dict_Annual_return={}\n",
    "# First Method: Growth rate by percent change\n",
    "dict_Annual_return['pct_change'] = df_Annual['GDPconcat'].pct_change()\n",
    "# Second Method: Growth rate by log difference\n",
    "dict_Annual_return['log_diff'] = np.log(df_Annual['GDPconcat'].astype('float64'))-np.log(df_Annual['GDPconcat'].astype('float64')).shift(1)\n",
    "\n",
    "# convert the dictionary to a dataframe\n",
    "df_Annual_return = pd.DataFrame(dict_Annual_return)\n"
   ]
  },
  {
   "cell_type": "code",
   "execution_count": 28,
   "metadata": {},
   "outputs": [
    {
     "data": {
      "text/html": [
       "<div>\n",
       "<style scoped>\n",
       "    .dataframe tbody tr th:only-of-type {\n",
       "        vertical-align: middle;\n",
       "    }\n",
       "\n",
       "    .dataframe tbody tr th {\n",
       "        vertical-align: top;\n",
       "    }\n",
       "\n",
       "    .dataframe thead th {\n",
       "        text-align: right;\n",
       "    }\n",
       "</style>\n",
       "<table border=\"1\" class=\"dataframe\">\n",
       "  <thead>\n",
       "    <tr style=\"text-align: right;\">\n",
       "      <th></th>\n",
       "      <th>pct_change</th>\n",
       "      <th>log_diff</th>\n",
       "    </tr>\n",
       "  </thead>\n",
       "  <tbody>\n",
       "    <tr>\n",
       "      <th>1880-01-01</th>\n",
       "      <td>NaN</td>\n",
       "      <td>NaN</td>\n",
       "    </tr>\n",
       "    <tr>\n",
       "      <th>1881-01-01</th>\n",
       "      <td>0.110345</td>\n",
       "      <td>0.104671</td>\n",
       "    </tr>\n",
       "    <tr>\n",
       "      <th>1882-01-01</th>\n",
       "      <td>0.078971</td>\n",
       "      <td>0.076008</td>\n",
       "    </tr>\n",
       "    <tr>\n",
       "      <th>1883-01-01</th>\n",
       "      <td>-0.050164</td>\n",
       "      <td>-0.051466</td>\n",
       "    </tr>\n",
       "    <tr>\n",
       "      <th>1884-01-01</th>\n",
       "      <td>-0.050216</td>\n",
       "      <td>-0.051521</td>\n",
       "    </tr>\n",
       "  </tbody>\n",
       "</table>\n",
       "</div>"
      ],
      "text/plain": [
       "            pct_change  log_diff\n",
       "1880-01-01         NaN       NaN\n",
       "1881-01-01    0.110345  0.104671\n",
       "1882-01-01    0.078971  0.076008\n",
       "1883-01-01   -0.050164 -0.051466\n",
       "1884-01-01   -0.050216 -0.051521"
      ]
     },
     "execution_count": 28,
     "metadata": {},
     "output_type": "execute_result"
    }
   ],
   "source": [
    "df_Annual_return.head(5)"
   ]
  },
  {
   "cell_type": "code",
   "execution_count": 29,
   "metadata": {},
   "outputs": [
    {
     "data": {
      "text/html": [
       "<div>\n",
       "<style scoped>\n",
       "    .dataframe tbody tr th:only-of-type {\n",
       "        vertical-align: middle;\n",
       "    }\n",
       "\n",
       "    .dataframe tbody tr th {\n",
       "        vertical-align: top;\n",
       "    }\n",
       "\n",
       "    .dataframe thead th {\n",
       "        text-align: right;\n",
       "    }\n",
       "</style>\n",
       "<table border=\"1\" class=\"dataframe\">\n",
       "  <thead>\n",
       "    <tr style=\"text-align: right;\">\n",
       "      <th></th>\n",
       "      <th>pct_change</th>\n",
       "      <th>log_diff</th>\n",
       "    </tr>\n",
       "  </thead>\n",
       "  <tbody>\n",
       "    <tr>\n",
       "      <th>2014-01-01</th>\n",
       "      <td>0.032188</td>\n",
       "      <td>0.031681</td>\n",
       "    </tr>\n",
       "    <tr>\n",
       "      <th>2015-01-01</th>\n",
       "      <td>0.050722</td>\n",
       "      <td>0.049477</td>\n",
       "    </tr>\n",
       "    <tr>\n",
       "      <th>2016-01-01</th>\n",
       "      <td>0.024413</td>\n",
       "      <td>0.024120</td>\n",
       "    </tr>\n",
       "    <tr>\n",
       "      <th>2017-01-01</th>\n",
       "      <td>0.040926</td>\n",
       "      <td>0.040111</td>\n",
       "    </tr>\n",
       "    <tr>\n",
       "      <th>2018-01-01</th>\n",
       "      <td>0.045844</td>\n",
       "      <td>0.044825</td>\n",
       "    </tr>\n",
       "  </tbody>\n",
       "</table>\n",
       "</div>"
      ],
      "text/plain": [
       "            pct_change  log_diff\n",
       "2014-01-01    0.032188  0.031681\n",
       "2015-01-01    0.050722  0.049477\n",
       "2016-01-01    0.024413  0.024120\n",
       "2017-01-01    0.040926  0.040111\n",
       "2018-01-01    0.045844  0.044825"
      ]
     },
     "execution_count": 29,
     "metadata": {},
     "output_type": "execute_result"
    }
   ],
   "source": [
    "df_Annual_return.tail(5)"
   ]
  },
  {
   "cell_type": "code",
   "execution_count": 30,
   "metadata": {},
   "outputs": [
    {
     "data": {
      "text/plain": [
       "pandas.core.series.Series"
      ]
     },
     "execution_count": 30,
     "metadata": {},
     "output_type": "execute_result"
    }
   ],
   "source": [
    "type(df_Annual_return['pct_change'].astype('float64'))"
   ]
  },
  {
   "cell_type": "code",
   "execution_count": 32,
   "metadata": {},
   "outputs": [
    {
     "data": {
      "image/png": "[encoded data removed]",
      "text/plain": [
       "<Figure size 1440x360 with 1 Axes>"
      ]
     },
     "metadata": {},
     "output_type": "display_data"
    }
   ],
   "source": [
    "# Plot and save the figure as 'GDP_GROWTH_RATE.png'. \n",
    "\n",
    "fig = df_Annual_return.plot(title = 'GDP Annual Growth Rate',fontsize = 30).get_figure()\n",
    "fig.savefig('GDP_GROWTH_RATE.png')  #You could change the name of '.png' file you like"
   ]
  },
  {
   "cell_type": "markdown",
   "metadata": {},
   "source": [
    "### Obtain the summary statistics of the time series"
   ]
  },
  {
   "cell_type": "code",
   "execution_count": 168,
   "metadata": {},
   "outputs": [
    {
     "data": {
      "text/html": [
       "<div>\n",
       "<style scoped>\n",
       "    .dataframe tbody tr th:only-of-type {\n",
       "        vertical-align: middle;\n",
       "    }\n",
       "\n",
       "    .dataframe tbody tr th {\n",
       "        vertical-align: top;\n",
       "    }\n",
       "\n",
       "    .dataframe thead th {\n",
       "        text-align: right;\n",
       "    }\n",
       "</style>\n",
       "<table border=\"1\" class=\"dataframe\">\n",
       "  <thead>\n",
       "    <tr style=\"text-align: right;\">\n",
       "      <th></th>\n",
       "      <th>pct_change</th>\n",
       "      <th>log_diff</th>\n",
       "    </tr>\n",
       "  </thead>\n",
       "  <tbody>\n",
       "    <tr>\n",
       "      <th>count</th>\n",
       "      <td>138.000000</td>\n",
       "      <td>138.000000</td>\n",
       "    </tr>\n",
       "    <tr>\n",
       "      <th>mean</th>\n",
       "      <td>0.059371</td>\n",
       "      <td>0.054957</td>\n",
       "    </tr>\n",
       "    <tr>\n",
       "      <th>std</th>\n",
       "      <td>0.076622</td>\n",
       "      <td>0.075030</td>\n",
       "    </tr>\n",
       "    <tr>\n",
       "      <th>min</th>\n",
       "      <td>-0.239344</td>\n",
       "      <td>-0.273574</td>\n",
       "    </tr>\n",
       "    <tr>\n",
       "      <th>25%</th>\n",
       "      <td>0.031141</td>\n",
       "      <td>0.030665</td>\n",
       "    </tr>\n",
       "    <tr>\n",
       "      <th>50%</th>\n",
       "      <td>0.062889</td>\n",
       "      <td>0.060991</td>\n",
       "    </tr>\n",
       "    <tr>\n",
       "      <th>75%</th>\n",
       "      <td>0.095803</td>\n",
       "      <td>0.091487</td>\n",
       "    </tr>\n",
       "    <tr>\n",
       "      <th>max</th>\n",
       "      <td>0.266932</td>\n",
       "      <td>0.236598</td>\n",
       "    </tr>\n",
       "  </tbody>\n",
       "</table>\n",
       "</div>"
      ],
      "text/plain": [
       "       pct_change    log_diff\n",
       "count  138.000000  138.000000\n",
       "mean     0.059371    0.054957\n",
       "std      0.076622    0.075030\n",
       "min     -0.239344   -0.273574\n",
       "25%      0.031141    0.030665\n",
       "50%      0.062889    0.060991\n",
       "75%      0.095803    0.091487\n",
       "max      0.266932    0.236598"
      ]
     },
     "execution_count": 168,
     "metadata": {},
     "output_type": "execute_result"
    }
   ],
   "source": [
    "df_Annual_return.describe()"
   ]
  },
  {
   "cell_type": "markdown",
   "metadata": {},
   "source": [
    "#### Save the GDP Growth Rate data file to the same location as this notebook on hard drive"
   ]
  },
  {
   "cell_type": "code",
   "execution_count": 83,
   "metadata": {
    "collapsed": true
   },
   "outputs": [],
   "source": [
    "df_Annual_return.to_csv('GDP_Growth_Rate.csv') # you could change name of the '.csv' file you like\n",
    "# .csv is a simplified excel format, you could open such file by excel by default."
   ]
  },
  {
   "cell_type": "markdown",
   "metadata": {
    "collapsed": true
   },
   "source": [
    "#### Save the merged GDP  data file to the same location as this notebook on hard drive"
   ]
  },
  {
   "cell_type": "code",
   "execution_count": 86,
   "metadata": {
    "collapsed": true
   },
   "outputs": [],
   "source": [
    "df_Annual.to_csv('Merged_GDP.csv')"
   ]
  },
  {
   "cell_type": "markdown",
   "metadata": {},
   "source": [
    "#### Read the 'GDP_Growth_Rate.csv' from the hard drive"
   ]
  },
  {
   "cell_type": "code",
   "execution_count": 89,
   "metadata": {},
   "outputs": [
    {
     "data": {
      "text/html": [
       "<div>\n",
       "<style scoped>\n",
       "    .dataframe tbody tr th:only-of-type {\n",
       "        vertical-align: middle;\n",
       "    }\n",
       "\n",
       "    .dataframe tbody tr th {\n",
       "        vertical-align: top;\n",
       "    }\n",
       "\n",
       "    .dataframe thead th {\n",
       "        text-align: right;\n",
       "    }\n",
       "</style>\n",
       "<table border=\"1\" class=\"dataframe\">\n",
       "  <thead>\n",
       "    <tr style=\"text-align: right;\">\n",
       "      <th></th>\n",
       "      <th>pct_change</th>\n",
       "      <th>log_diff</th>\n",
       "    </tr>\n",
       "  </thead>\n",
       "  <tbody>\n",
       "    <tr>\n",
       "      <th>1880-01-01</th>\n",
       "      <td>NaN</td>\n",
       "      <td>NaN</td>\n",
       "    </tr>\n",
       "    <tr>\n",
       "      <th>1881-01-01</th>\n",
       "      <td>0.110345</td>\n",
       "      <td>0.104671</td>\n",
       "    </tr>\n",
       "    <tr>\n",
       "      <th>1882-01-01</th>\n",
       "      <td>0.078971</td>\n",
       "      <td>0.076008</td>\n",
       "    </tr>\n",
       "    <tr>\n",
       "      <th>1883-01-01</th>\n",
       "      <td>-0.050164</td>\n",
       "      <td>-0.051466</td>\n",
       "    </tr>\n",
       "    <tr>\n",
       "      <th>1884-01-01</th>\n",
       "      <td>-0.050216</td>\n",
       "      <td>-0.051521</td>\n",
       "    </tr>\n",
       "  </tbody>\n",
       "</table>\n",
       "</div>"
      ],
      "text/plain": [
       "            pct_change  log_diff\n",
       "1880-01-01         NaN       NaN\n",
       "1881-01-01    0.110345  0.104671\n",
       "1882-01-01    0.078971  0.076008\n",
       "1883-01-01   -0.050164 -0.051466\n",
       "1884-01-01   -0.050216 -0.051521"
      ]
     },
     "execution_count": 89,
     "metadata": {},
     "output_type": "execute_result"
    }
   ],
   "source": [
    "#read\n",
    "Read_df_Annual_return = pd.read_csv('GDP_Growth_Rate.csv', index_col = 0, header = 0)\n",
    "#show the first 5 rows\n",
    "Read_df_Annual_return.head(5) "
   ]
  },
  {
   "cell_type": "markdown",
   "metadata": {},
   "source": [
    "#### Read the 'Merged_GDP.csv' from the hard drive"
   ]
  },
  {
   "cell_type": "code",
   "execution_count": 90,
   "metadata": {},
   "outputs": [
    {
     "data": {
      "text/html": [
       "<div>\n",
       "<style scoped>\n",
       "    .dataframe tbody tr th:only-of-type {\n",
       "        vertical-align: middle;\n",
       "    }\n",
       "\n",
       "    .dataframe tbody tr th {\n",
       "        vertical-align: top;\n",
       "    }\n",
       "\n",
       "    .dataframe thead th {\n",
       "        text-align: right;\n",
       "    }\n",
       "</style>\n",
       "<table border=\"1\" class=\"dataframe\">\n",
       "  <thead>\n",
       "    <tr style=\"text-align: right;\">\n",
       "      <th></th>\n",
       "      <th>GDP</th>\n",
       "      <th>HistoGDP</th>\n",
       "      <th>GDPconcat</th>\n",
       "    </tr>\n",
       "  </thead>\n",
       "  <tbody>\n",
       "    <tr>\n",
       "      <th>1880-01-01</th>\n",
       "      <td>NaN</td>\n",
       "      <td>10.15</td>\n",
       "      <td>10.15</td>\n",
       "    </tr>\n",
       "    <tr>\n",
       "      <th>1881-01-01</th>\n",
       "      <td>NaN</td>\n",
       "      <td>11.27</td>\n",
       "      <td>11.27</td>\n",
       "    </tr>\n",
       "    <tr>\n",
       "      <th>1882-01-01</th>\n",
       "      <td>NaN</td>\n",
       "      <td>12.16</td>\n",
       "      <td>12.16</td>\n",
       "    </tr>\n",
       "    <tr>\n",
       "      <th>1883-01-01</th>\n",
       "      <td>NaN</td>\n",
       "      <td>11.55</td>\n",
       "      <td>11.55</td>\n",
       "    </tr>\n",
       "    <tr>\n",
       "      <th>1884-01-01</th>\n",
       "      <td>NaN</td>\n",
       "      <td>10.97</td>\n",
       "      <td>10.97</td>\n",
       "    </tr>\n",
       "  </tbody>\n",
       "</table>\n",
       "</div>"
      ],
      "text/plain": [
       "            GDP  HistoGDP  GDPconcat\n",
       "1880-01-01  NaN     10.15      10.15\n",
       "1881-01-01  NaN     11.27      11.27\n",
       "1882-01-01  NaN     12.16      12.16\n",
       "1883-01-01  NaN     11.55      11.55\n",
       "1884-01-01  NaN     10.97      10.97"
      ]
     },
     "execution_count": 90,
     "metadata": {},
     "output_type": "execute_result"
    }
   ],
   "source": [
    "#read\n",
    "Read_df_Annual = pd.read_csv('Merged_GDP.csv', index_col = 0, header = 0)\n",
    "#show the first 5 rows\n",
    "Read_df_Annual.head(5) "
   ]
  },
  {
   "cell_type": "markdown",
   "metadata": {},
   "source": []
  },
  {
   "cell_type": "markdown",
   "metadata": {},
   "source": [
    "Thanks for filling out the registration form\n",
    "https://libguides.rutgers.edu/graduatespecialist/workshops\n",
    "\n",
    "Thanks for your Feedback.\n",
    "http://bit.ly/graduatespecialistfeedbackquantitative\n"
   ]
  }
 ],
 "metadata": {
  "kernelspec": {
   "display_name": "Python 3",
   "language": "python",
   "name": "python3"
  },
  "language_info": {
   "codemirror_mode": {
    "name": "ipython",
    "version": 3
   },
   "file_extension": ".py",
   "mimetype": "text/x-python",
   "name": "python",
   "nbconvert_exporter": "python",
   "pygments_lexer": "ipython3",
   "version": "3.6.6"
  }
 },
 "nbformat": 4,
 "nbformat_minor": 2
}
